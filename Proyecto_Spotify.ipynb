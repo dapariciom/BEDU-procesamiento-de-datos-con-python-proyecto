{
  "nbformat": 4,
  "nbformat_minor": 0,
  "metadata": {
    "colab": {
      "name": "Untitled8.ipynb",
      "provenance": [],
      "mount_file_id": "https://github.com/dapariciom/BEDU-procesamiento-de-datos-con-python-proyecto/blob/main/Proyecto_Spotify.ipynb",
      "authorship_tag": "ABX9TyO4GhY7454h1Tg/HFhi3yLz",
      "include_colab_link": true
    },
    "kernelspec": {
      "name": "python3",
      "display_name": "Python 3"
    }
  },
  "cells": [
    {
      "cell_type": "markdown",
      "metadata": {
        "id": "view-in-github",
        "colab_type": "text"
      },
      "source": [
        "<a href=\"https://colab.research.google.com/github/dapariciom/BEDU-procesamiento-de-datos-con-python-proyecto/blob/main/Proyecto_Spotify.ipynb\" target=\"_parent\"><img src=\"https://colab.research.google.com/assets/colab-badge.svg\" alt=\"Open In Colab\"/></a>"
      ]
    },
    {
      "cell_type": "markdown",
      "metadata": {
        "id": "8UXYd8zxl9pG"
      },
      "source": [
        "# Clonar el repositorio de Github a Colab"
      ]
    },
    {
      "cell_type": "markdown",
      "metadata": {
        "id": "G-_Q2VkieX9-"
      },
      "source": [
        "Hacer solo una vez\r\n",
        "- Conectar Colab con Google Drive\r\n",
        "- Crear una carpeta \"Proyecto\" en Google Drive \"/content/drive/MyDrive/Proyecto\"\r\n",
        "- Cambiar la ruta a la carpeta Proyecto"
      ]
    },
    {
      "cell_type": "code",
      "metadata": {
        "id": "VS6OUuSne0a5"
      },
      "source": [
        "cd '/content/drive/MyDrive/Proyecto'"
      ],
      "execution_count": null,
      "outputs": []
    },
    {
      "cell_type": "markdown",
      "metadata": {
        "id": "jtP6uXiwl0Yx"
      },
      "source": [
        "*     Clonar el repositorio en la carpeta Proyecto"
      ]
    },
    {
      "cell_type": "code",
      "metadata": {
        "id": "Uta2OTpSYxHA"
      },
      "source": [
        "!git clone https://github.com/dapariciom/BEDU-procesamiento-de-datos-con-python-proyecto.git"
      ],
      "execution_count": null,
      "outputs": []
    },
    {
      "cell_type": "markdown",
      "metadata": {
        "id": "WPASvlM5eWEt"
      },
      "source": [
        "# Proyecto"
      ]
    },
    {
      "cell_type": "code",
      "metadata": {
        "colab": {
          "base_uri": "https://localhost:8080/"
        },
        "id": "0FD0GB6Hdv-e",
        "outputId": "538c7bb7-c73f-4359-85f0-c4e237396ed1"
      },
      "source": [
        "cd '/content/drive/MyDrive/Proyecto'"
      ],
      "execution_count": 10,
      "outputs": [
        {
          "output_type": "stream",
          "text": [
            "/content/drive/MyDrive/Proyecto\n"
          ],
          "name": "stdout"
        }
      ]
    },
    {
      "cell_type": "code",
      "metadata": {
        "id": "P0Vc24myJLbO"
      },
      "source": [
        "import pandas as pd"
      ],
      "execution_count": 11,
      "outputs": []
    },
    {
      "cell_type": "code",
      "metadata": {
        "colab": {
          "base_uri": "https://localhost:8080/",
          "height": 502
        },
        "id": "WA2M3Y7RXyX1",
        "outputId": "3017b3e1-3282-4551-8098-e648a252ac98"
      },
      "source": [
        "df = pd.read_csv('/content/drive/MyDrive/Proyecto/BEDU-procesamiento-de-datos-con-python-proyecto/top10s.csv', engine='python')\r\n",
        "\r\n",
        "df"
      ],
      "execution_count": 12,
      "outputs": [
        {
          "output_type": "execute_result",
          "data": {
            "text/html": [
              "<div>\n",
              "<style scoped>\n",
              "    .dataframe tbody tr th:only-of-type {\n",
              "        vertical-align: middle;\n",
              "    }\n",
              "\n",
              "    .dataframe tbody tr th {\n",
              "        vertical-align: top;\n",
              "    }\n",
              "\n",
              "    .dataframe thead th {\n",
              "        text-align: right;\n",
              "    }\n",
              "</style>\n",
              "<table border=\"1\" class=\"dataframe\">\n",
              "  <thead>\n",
              "    <tr style=\"text-align: right;\">\n",
              "      <th></th>\n",
              "      <th>Unnamed: 0</th>\n",
              "      <th>title</th>\n",
              "      <th>artist</th>\n",
              "      <th>top genre</th>\n",
              "      <th>year</th>\n",
              "      <th>bpm</th>\n",
              "      <th>nrgy</th>\n",
              "      <th>dnce</th>\n",
              "      <th>dB</th>\n",
              "      <th>live</th>\n",
              "      <th>val</th>\n",
              "      <th>dur</th>\n",
              "      <th>acous</th>\n",
              "      <th>spch</th>\n",
              "      <th>pop</th>\n",
              "    </tr>\n",
              "  </thead>\n",
              "  <tbody>\n",
              "    <tr>\n",
              "      <th>0</th>\n",
              "      <td>1</td>\n",
              "      <td>Hey, Soul Sister</td>\n",
              "      <td>Train</td>\n",
              "      <td>neo mellow</td>\n",
              "      <td>2010</td>\n",
              "      <td>97</td>\n",
              "      <td>89</td>\n",
              "      <td>67</td>\n",
              "      <td>-4</td>\n",
              "      <td>8</td>\n",
              "      <td>80</td>\n",
              "      <td>217</td>\n",
              "      <td>19</td>\n",
              "      <td>4</td>\n",
              "      <td>83</td>\n",
              "    </tr>\n",
              "    <tr>\n",
              "      <th>1</th>\n",
              "      <td>2</td>\n",
              "      <td>Love The Way You Lie</td>\n",
              "      <td>Eminem</td>\n",
              "      <td>detroit hip hop</td>\n",
              "      <td>2010</td>\n",
              "      <td>87</td>\n",
              "      <td>93</td>\n",
              "      <td>75</td>\n",
              "      <td>-5</td>\n",
              "      <td>52</td>\n",
              "      <td>64</td>\n",
              "      <td>263</td>\n",
              "      <td>24</td>\n",
              "      <td>23</td>\n",
              "      <td>82</td>\n",
              "    </tr>\n",
              "    <tr>\n",
              "      <th>2</th>\n",
              "      <td>3</td>\n",
              "      <td>TiK ToK</td>\n",
              "      <td>Kesha</td>\n",
              "      <td>dance pop</td>\n",
              "      <td>2010</td>\n",
              "      <td>120</td>\n",
              "      <td>84</td>\n",
              "      <td>76</td>\n",
              "      <td>-3</td>\n",
              "      <td>29</td>\n",
              "      <td>71</td>\n",
              "      <td>200</td>\n",
              "      <td>10</td>\n",
              "      <td>14</td>\n",
              "      <td>80</td>\n",
              "    </tr>\n",
              "    <tr>\n",
              "      <th>3</th>\n",
              "      <td>4</td>\n",
              "      <td>Bad Romance</td>\n",
              "      <td>Lady Gaga</td>\n",
              "      <td>dance pop</td>\n",
              "      <td>2010</td>\n",
              "      <td>119</td>\n",
              "      <td>92</td>\n",
              "      <td>70</td>\n",
              "      <td>-4</td>\n",
              "      <td>8</td>\n",
              "      <td>71</td>\n",
              "      <td>295</td>\n",
              "      <td>0</td>\n",
              "      <td>4</td>\n",
              "      <td>79</td>\n",
              "    </tr>\n",
              "    <tr>\n",
              "      <th>4</th>\n",
              "      <td>5</td>\n",
              "      <td>Just the Way You Are</td>\n",
              "      <td>Bruno Mars</td>\n",
              "      <td>pop</td>\n",
              "      <td>2010</td>\n",
              "      <td>109</td>\n",
              "      <td>84</td>\n",
              "      <td>64</td>\n",
              "      <td>-5</td>\n",
              "      <td>9</td>\n",
              "      <td>43</td>\n",
              "      <td>221</td>\n",
              "      <td>2</td>\n",
              "      <td>4</td>\n",
              "      <td>78</td>\n",
              "    </tr>\n",
              "    <tr>\n",
              "      <th>...</th>\n",
              "      <td>...</td>\n",
              "      <td>...</td>\n",
              "      <td>...</td>\n",
              "      <td>...</td>\n",
              "      <td>...</td>\n",
              "      <td>...</td>\n",
              "      <td>...</td>\n",
              "      <td>...</td>\n",
              "      <td>...</td>\n",
              "      <td>...</td>\n",
              "      <td>...</td>\n",
              "      <td>...</td>\n",
              "      <td>...</td>\n",
              "      <td>...</td>\n",
              "      <td>...</td>\n",
              "    </tr>\n",
              "    <tr>\n",
              "      <th>598</th>\n",
              "      <td>599</td>\n",
              "      <td>Find U Again (feat. Camila Cabello)</td>\n",
              "      <td>Mark Ronson</td>\n",
              "      <td>dance pop</td>\n",
              "      <td>2019</td>\n",
              "      <td>104</td>\n",
              "      <td>66</td>\n",
              "      <td>61</td>\n",
              "      <td>-7</td>\n",
              "      <td>20</td>\n",
              "      <td>16</td>\n",
              "      <td>176</td>\n",
              "      <td>1</td>\n",
              "      <td>3</td>\n",
              "      <td>75</td>\n",
              "    </tr>\n",
              "    <tr>\n",
              "      <th>599</th>\n",
              "      <td>600</td>\n",
              "      <td>Cross Me (feat. Chance the Rapper &amp; PnB Rock)</td>\n",
              "      <td>Ed Sheeran</td>\n",
              "      <td>pop</td>\n",
              "      <td>2019</td>\n",
              "      <td>95</td>\n",
              "      <td>79</td>\n",
              "      <td>75</td>\n",
              "      <td>-6</td>\n",
              "      <td>7</td>\n",
              "      <td>61</td>\n",
              "      <td>206</td>\n",
              "      <td>21</td>\n",
              "      <td>12</td>\n",
              "      <td>75</td>\n",
              "    </tr>\n",
              "    <tr>\n",
              "      <th>600</th>\n",
              "      <td>601</td>\n",
              "      <td>No Brainer (feat. Justin Bieber, Chance the Ra...</td>\n",
              "      <td>DJ Khaled</td>\n",
              "      <td>dance pop</td>\n",
              "      <td>2019</td>\n",
              "      <td>136</td>\n",
              "      <td>76</td>\n",
              "      <td>53</td>\n",
              "      <td>-5</td>\n",
              "      <td>9</td>\n",
              "      <td>65</td>\n",
              "      <td>260</td>\n",
              "      <td>7</td>\n",
              "      <td>34</td>\n",
              "      <td>70</td>\n",
              "    </tr>\n",
              "    <tr>\n",
              "      <th>601</th>\n",
              "      <td>602</td>\n",
              "      <td>Nothing Breaks Like a Heart (feat. Miley Cyrus)</td>\n",
              "      <td>Mark Ronson</td>\n",
              "      <td>dance pop</td>\n",
              "      <td>2019</td>\n",
              "      <td>114</td>\n",
              "      <td>79</td>\n",
              "      <td>60</td>\n",
              "      <td>-6</td>\n",
              "      <td>42</td>\n",
              "      <td>24</td>\n",
              "      <td>217</td>\n",
              "      <td>1</td>\n",
              "      <td>7</td>\n",
              "      <td>69</td>\n",
              "    </tr>\n",
              "    <tr>\n",
              "      <th>602</th>\n",
              "      <td>603</td>\n",
              "      <td>Kills You Slowly</td>\n",
              "      <td>The Chainsmokers</td>\n",
              "      <td>electropop</td>\n",
              "      <td>2019</td>\n",
              "      <td>150</td>\n",
              "      <td>44</td>\n",
              "      <td>70</td>\n",
              "      <td>-9</td>\n",
              "      <td>13</td>\n",
              "      <td>23</td>\n",
              "      <td>213</td>\n",
              "      <td>6</td>\n",
              "      <td>6</td>\n",
              "      <td>67</td>\n",
              "    </tr>\n",
              "  </tbody>\n",
              "</table>\n",
              "<p>603 rows × 15 columns</p>\n",
              "</div>"
            ],
            "text/plain": [
              "     Unnamed: 0                                              title  ... spch pop\n",
              "0             1                                   Hey, Soul Sister  ...    4  83\n",
              "1             2                               Love The Way You Lie  ...   23  82\n",
              "2             3                                            TiK ToK  ...   14  80\n",
              "3             4                                        Bad Romance  ...    4  79\n",
              "4             5                               Just the Way You Are  ...    4  78\n",
              "..          ...                                                ...  ...  ...  ..\n",
              "598         599                Find U Again (feat. Camila Cabello)  ...    3  75\n",
              "599         600      Cross Me (feat. Chance the Rapper & PnB Rock)  ...   12  75\n",
              "600         601  No Brainer (feat. Justin Bieber, Chance the Ra...  ...   34  70\n",
              "601         602    Nothing Breaks Like a Heart (feat. Miley Cyrus)  ...    7  69\n",
              "602         603                                   Kills You Slowly  ...    6  67\n",
              "\n",
              "[603 rows x 15 columns]"
            ]
          },
          "metadata": {
            "tags": []
          },
          "execution_count": 12
        }
      ]
    },
    {
      "cell_type": "code",
      "metadata": {
        "colab": {
          "base_uri": "https://localhost:8080/"
        },
        "id": "8Tgi9pQ5d00P",
        "outputId": "9dee271e-ff54-41ca-f33f-74bda1823a89"
      },
      "source": [
        "df.isna().sum(axis=0)"
      ],
      "execution_count": 13,
      "outputs": [
        {
          "output_type": "execute_result",
          "data": {
            "text/plain": [
              "Unnamed: 0    0\n",
              "title         0\n",
              "artist        0\n",
              "top genre     0\n",
              "year          0\n",
              "bpm           0\n",
              "nrgy          0\n",
              "dnce          0\n",
              "dB            0\n",
              "live          0\n",
              "val           0\n",
              "dur           0\n",
              "acous         0\n",
              "spch          0\n",
              "pop           0\n",
              "dtype: int64"
            ]
          },
          "metadata": {
            "tags": []
          },
          "execution_count": 13
        }
      ]
    },
    {
      "cell_type": "code",
      "metadata": {
        "colab": {
          "base_uri": "https://localhost:8080/"
        },
        "id": "I1dxIXqBd5XK",
        "outputId": "5ce0a06e-fa5a-4446-ab9e-23afcbbb232c"
      },
      "source": [
        "df.isna().sum(axis=1)"
      ],
      "execution_count": 14,
      "outputs": [
        {
          "output_type": "execute_result",
          "data": {
            "text/plain": [
              "0      0\n",
              "1      0\n",
              "2      0\n",
              "3      0\n",
              "4      0\n",
              "      ..\n",
              "598    0\n",
              "599    0\n",
              "600    0\n",
              "601    0\n",
              "602    0\n",
              "Length: 603, dtype: int64"
            ]
          },
          "metadata": {
            "tags": []
          },
          "execution_count": 14
        }
      ]
    }
  ]
}