{
  "nbformat": 4,
  "nbformat_minor": 0,
  "metadata": {
    "colab": {
      "name": "Proyecto_Spotify.ipynb",
      "provenance": []
    },
    "kernelspec": {
      "name": "python3",
      "display_name": "Python 3"
    }
  },
  "cells": [
    {
      "cell_type": "markdown",
      "metadata": {
        "id": "Pf-nqrR8fX9M"
      },
      "source": [
        "#Montar Drive"
      ]
    },
    {
      "cell_type": "code",
      "metadata": {
        "id": "UZl4PQTvzezO"
      },
      "source": [
        "from google.colab import drive\n",
        "drive.mount('/content/drive')"
      ],
      "execution_count": null,
      "outputs": []
    },
    {
      "cell_type": "markdown",
      "metadata": {
        "id": "hjZDD_Qa1ZVn"
      },
      "source": [
        "# Comandos de Github"
      ]
    },
    {
      "cell_type": "markdown",
      "metadata": {
        "id": "8UXYd8zxl9pG"
      },
      "source": [
        "## Clonar el repositorio de Github a Colab"
      ]
    },
    {
      "cell_type": "markdown",
      "metadata": {
        "id": "G-_Q2VkieX9-"
      },
      "source": [
        "(Hacer solo una vez)\r\n",
        "- Conectar Colab con Google Drive\r\n",
        "- Crear una carpeta \"Proyecto\" en Google Drive \"/content/drive/MyDrive/Proyecto\"\r\n",
        "- Cambiar la ruta a la carpeta Proyecto"
      ]
    },
    {
      "cell_type": "code",
      "metadata": {
        "id": "VS6OUuSne0a5"
      },
      "source": [
        "cd '/content/drive/MyDrive/Proyecto'"
      ],
      "execution_count": null,
      "outputs": []
    },
    {
      "cell_type": "markdown",
      "metadata": {
        "id": "jtP6uXiwl0Yx"
      },
      "source": [
        "*     Clonar el repositorio en la carpeta Proyecto"
      ]
    },
    {
      "cell_type": "code",
      "metadata": {
        "id": "Uta2OTpSYxHA"
      },
      "source": [
        "!git clone https://github.com/dapariciom/BEDU-procesamiento-de-datos-con-python-proyecto.git"
      ],
      "execution_count": null,
      "outputs": []
    },
    {
      "cell_type": "markdown",
      "metadata": {
        "id": "kWZhwygrngcS"
      },
      "source": [
        "## Actualizar cambios de Github a Colab"
      ]
    },
    {
      "cell_type": "markdown",
      "metadata": {
        "id": "KcvwfwZtvd9Z"
      },
      "source": [
        "(Hacer cada vez que se requiera actualiza Colab con Github)\r\n",
        "* Cambiar la ruta del proyecto para actualizar todos los archivos\r\n",
        "\r\n",
        "\r\n"
      ]
    },
    {
      "cell_type": "code",
      "metadata": {
        "id": "Q6py93UjtM3Y"
      },
      "source": [
        "cd '/content/drive/MyDrive/Proyecto/BEDU-procesamiento-de-datos-con-python-proyecto'"
      ],
      "execution_count": null,
      "outputs": []
    },
    {
      "cell_type": "markdown",
      "metadata": {
        "id": "oN7iLLDYvlOs"
      },
      "source": [
        "* Actualizar archivos del repositorio de Github"
      ]
    },
    {
      "cell_type": "code",
      "metadata": {
        "id": "oImfVp1in5f9"
      },
      "source": [
        "!git pull"
      ],
      "execution_count": null,
      "outputs": []
    },
    {
      "cell_type": "markdown",
      "metadata": {
        "id": "WPASvlM5eWEt"
      },
      "source": [
        "# Proyecto Vacunación - \r\n",
        "\r\n"
      ]
    },
    {
      "cell_type": "markdown",
      "metadata": {
        "id": "fWKd8gVMAp3E"
      },
      "source": [
        "\r\n",
        "**COVID-19 World Vaccination Progress**\r\n",
        "\r\n",
        "**Daily and Total Vaccination for COVID-19 in the World**\r\n",
        "\r\n",
        "https://www.kaggle.com/gpreda/covid-world-vaccination-progress\r\n",
        "\r\n",
        "\r\n",
        "Características básicas del conjunto de datos\r\n",
        "Los datos contienen la siguiente información\r\n",
        "* Country- Este es el país para el que se proporciona la información de vacunación;\r\n",
        "* Country ISO Code - Código ISO del país;\r\n",
        "* Date - Fecha para la entrada de datos; para algunas de las fechas tenemos solo las vacunas diarias *, para otras, solo el total (acumulativo);\r\n",
        "* Total number of vaccinations - Este es el número absoluto de inmunizaciones totales en el país;\r\n",
        "* Total number of people vaccinated - Una persona, según el esquema de inmunización, recibirá una o más (normalmente 2) vacunas; en un momento determinado, el número de vacunaciones puede ser mayor que el número de personas;\r\n",
        "* Total number of people fully vaccinated - Este es el número de personas que recibieron el conjunto completo de inmunización de acuerdo con el esquema de inmunización (normalmente 2); en un momento determinado, puede haber un cierto número de personas que recibieron una vacuna y otro número (menor) de personas que recibieron todas las vacunas del esquema;\r\n",
        "* Daily vaccinations (raw) - Para una determinada entrada de datos, el número de vacunaciones para esa fecha / país;\r\n",
        "* Daily vaccinations - Para una determinada entrada de datos, el número de vacunaciones para esa fecha / país;\r\n",
        "* Total vaccinations per hundred - Relación (en porcentaje) entre el número de vacunaciones y la población total hasta la fecha en el país;\r\n",
        "* Total number of people vaccinated per hundred - Relación (en porcentaje) entre la población completamente inmunizada y la población total hasta la fecha en el país;\r\n",
        "* Total number of people fully vaccinated per hundred - Relación (en ppm) entre el número de vacunación y la población total para la fecha actual en el país;\r\n",
        "* Daily vaccinations per million - Número total de vacunas utilizadas en el país (hasta la fecha);\r\n",
        "* Source name - Fuente de la información (autoridad nacional, organización internacional, organización local, etc.);\r\n",
        "* Source website - Sitio web de la fuente de información;"
      ]
    },
    {
      "cell_type": "markdown",
      "metadata": {
        "id": "3z5FQLSzUThA"
      },
      "source": [
        "## Desarrollo del Proyecto"
      ]
    },
    {
      "cell_type": "markdown",
      "metadata": {
        "id": "F0f3lWwgh_3z"
      },
      "source": [
        "Instalar librerias"
      ]
    },
    {
      "cell_type": "code",
      "metadata": {
        "id": "PSr8OjcciCUj"
      },
      "source": [
        "pip install missingpy"
      ],
      "execution_count": null,
      "outputs": []
    },
    {
      "cell_type": "markdown",
      "metadata": {
        "id": "_DTDBIebhrd_"
      },
      "source": [
        "Importar librerias"
      ]
    },
    {
      "cell_type": "code",
      "metadata": {
        "id": "P0Vc24myJLbO"
      },
      "source": [
        "import pandas as pd\r\n",
        "import matplotlib.pyplot as plt\r\n",
        "import seaborn as sns\r\n",
        "from missingpy import  KNNImputer"
      ],
      "execution_count": 6,
      "outputs": []
    },
    {
      "cell_type": "markdown",
      "metadata": {
        "id": "xRdpLRIy5dOc"
      },
      "source": [
        "Lectura de datos"
      ]
    },
    {
      "cell_type": "code",
      "metadata": {
        "id": "MuQShe79UB0u",
        "colab": {
          "base_uri": "https://localhost:8080/",
          "height": 590
        },
        "outputId": "f7c0cce5-07fc-4e38-f8b7-b514e4e7737f"
      },
      "source": [
        "csv_file = 'country_vaccinations.csv'\r\n",
        "df = pd.read_csv(f'/content/drive/MyDrive/Proyecto/BEDU-procesamiento-de-datos-con-python-proyecto/{csv_file}', engine='python')\r\n",
        "df2 = df.copy()\r\n",
        "df"
      ],
      "execution_count": 12,
      "outputs": [
        {
          "output_type": "execute_result",
          "data": {
            "text/html": [
              "<div>\n",
              "<style scoped>\n",
              "    .dataframe tbody tr th:only-of-type {\n",
              "        vertical-align: middle;\n",
              "    }\n",
              "\n",
              "    .dataframe tbody tr th {\n",
              "        vertical-align: top;\n",
              "    }\n",
              "\n",
              "    .dataframe thead th {\n",
              "        text-align: right;\n",
              "    }\n",
              "</style>\n",
              "<table border=\"1\" class=\"dataframe\">\n",
              "  <thead>\n",
              "    <tr style=\"text-align: right;\">\n",
              "      <th></th>\n",
              "      <th>country</th>\n",
              "      <th>iso_code</th>\n",
              "      <th>date</th>\n",
              "      <th>total_vaccinations</th>\n",
              "      <th>people_vaccinated</th>\n",
              "      <th>people_fully_vaccinated</th>\n",
              "      <th>daily_vaccinations_raw</th>\n",
              "      <th>daily_vaccinations</th>\n",
              "      <th>total_vaccinations_per_hundred</th>\n",
              "      <th>people_vaccinated_per_hundred</th>\n",
              "      <th>people_fully_vaccinated_per_hundred</th>\n",
              "      <th>daily_vaccinations_per_million</th>\n",
              "      <th>vaccines</th>\n",
              "      <th>source_name</th>\n",
              "      <th>source_website</th>\n",
              "    </tr>\n",
              "  </thead>\n",
              "  <tbody>\n",
              "    <tr>\n",
              "      <th>0</th>\n",
              "      <td>Albania</td>\n",
              "      <td>ALB</td>\n",
              "      <td>2021-01-10</td>\n",
              "      <td>0.0</td>\n",
              "      <td>0.0</td>\n",
              "      <td>NaN</td>\n",
              "      <td>NaN</td>\n",
              "      <td>NaN</td>\n",
              "      <td>0.00</td>\n",
              "      <td>0.00</td>\n",
              "      <td>NaN</td>\n",
              "      <td>NaN</td>\n",
              "      <td>Pfizer/BioNTech</td>\n",
              "      <td>Ministry of Health</td>\n",
              "      <td>https://shendetesia.gov.al/covid19-ministria-e...</td>\n",
              "    </tr>\n",
              "    <tr>\n",
              "      <th>1</th>\n",
              "      <td>Albania</td>\n",
              "      <td>ALB</td>\n",
              "      <td>2021-01-11</td>\n",
              "      <td>NaN</td>\n",
              "      <td>NaN</td>\n",
              "      <td>NaN</td>\n",
              "      <td>NaN</td>\n",
              "      <td>64.0</td>\n",
              "      <td>NaN</td>\n",
              "      <td>NaN</td>\n",
              "      <td>NaN</td>\n",
              "      <td>22.0</td>\n",
              "      <td>Pfizer/BioNTech</td>\n",
              "      <td>Ministry of Health</td>\n",
              "      <td>https://shendetesia.gov.al/covid19-ministria-e...</td>\n",
              "    </tr>\n",
              "    <tr>\n",
              "      <th>2</th>\n",
              "      <td>Albania</td>\n",
              "      <td>ALB</td>\n",
              "      <td>2021-01-12</td>\n",
              "      <td>128.0</td>\n",
              "      <td>128.0</td>\n",
              "      <td>NaN</td>\n",
              "      <td>NaN</td>\n",
              "      <td>64.0</td>\n",
              "      <td>0.00</td>\n",
              "      <td>0.00</td>\n",
              "      <td>NaN</td>\n",
              "      <td>22.0</td>\n",
              "      <td>Pfizer/BioNTech</td>\n",
              "      <td>Ministry of Health</td>\n",
              "      <td>https://shendetesia.gov.al/covid19-ministria-e...</td>\n",
              "    </tr>\n",
              "    <tr>\n",
              "      <th>3</th>\n",
              "      <td>Albania</td>\n",
              "      <td>ALB</td>\n",
              "      <td>2021-01-13</td>\n",
              "      <td>188.0</td>\n",
              "      <td>188.0</td>\n",
              "      <td>NaN</td>\n",
              "      <td>60.0</td>\n",
              "      <td>63.0</td>\n",
              "      <td>0.01</td>\n",
              "      <td>0.01</td>\n",
              "      <td>NaN</td>\n",
              "      <td>22.0</td>\n",
              "      <td>Pfizer/BioNTech</td>\n",
              "      <td>Ministry of Health</td>\n",
              "      <td>https://shendetesia.gov.al/covid19-ministria-e...</td>\n",
              "    </tr>\n",
              "    <tr>\n",
              "      <th>4</th>\n",
              "      <td>Albania</td>\n",
              "      <td>ALB</td>\n",
              "      <td>2021-01-14</td>\n",
              "      <td>266.0</td>\n",
              "      <td>266.0</td>\n",
              "      <td>NaN</td>\n",
              "      <td>78.0</td>\n",
              "      <td>66.0</td>\n",
              "      <td>0.01</td>\n",
              "      <td>0.01</td>\n",
              "      <td>NaN</td>\n",
              "      <td>23.0</td>\n",
              "      <td>Pfizer/BioNTech</td>\n",
              "      <td>Ministry of Health</td>\n",
              "      <td>https://shendetesia.gov.al/covid19-ministria-e...</td>\n",
              "    </tr>\n",
              "    <tr>\n",
              "      <th>...</th>\n",
              "      <td>...</td>\n",
              "      <td>...</td>\n",
              "      <td>...</td>\n",
              "      <td>...</td>\n",
              "      <td>...</td>\n",
              "      <td>...</td>\n",
              "      <td>...</td>\n",
              "      <td>...</td>\n",
              "      <td>...</td>\n",
              "      <td>...</td>\n",
              "      <td>...</td>\n",
              "      <td>...</td>\n",
              "      <td>...</td>\n",
              "      <td>...</td>\n",
              "      <td>...</td>\n",
              "    </tr>\n",
              "    <tr>\n",
              "      <th>5316</th>\n",
              "      <td>Zimbabwe</td>\n",
              "      <td>ZWE</td>\n",
              "      <td>2021-03-02</td>\n",
              "      <td>25077.0</td>\n",
              "      <td>25077.0</td>\n",
              "      <td>NaN</td>\n",
              "      <td>3621.0</td>\n",
              "      <td>3005.0</td>\n",
              "      <td>0.17</td>\n",
              "      <td>0.17</td>\n",
              "      <td>NaN</td>\n",
              "      <td>202.0</td>\n",
              "      <td>Sinopharm/Beijing</td>\n",
              "      <td>Ministry of Health</td>\n",
              "      <td>https://twitter.com/MoHCCZim/status/1368309157...</td>\n",
              "    </tr>\n",
              "    <tr>\n",
              "      <th>5317</th>\n",
              "      <td>Zimbabwe</td>\n",
              "      <td>ZWE</td>\n",
              "      <td>2021-03-03</td>\n",
              "      <td>27970.0</td>\n",
              "      <td>27970.0</td>\n",
              "      <td>NaN</td>\n",
              "      <td>2893.0</td>\n",
              "      <td>2871.0</td>\n",
              "      <td>0.19</td>\n",
              "      <td>0.19</td>\n",
              "      <td>NaN</td>\n",
              "      <td>193.0</td>\n",
              "      <td>Sinopharm/Beijing</td>\n",
              "      <td>Ministry of Health</td>\n",
              "      <td>https://twitter.com/MoHCCZim/status/1368309157...</td>\n",
              "    </tr>\n",
              "    <tr>\n",
              "      <th>5318</th>\n",
              "      <td>Zimbabwe</td>\n",
              "      <td>ZWE</td>\n",
              "      <td>2021-03-04</td>\n",
              "      <td>30658.0</td>\n",
              "      <td>30658.0</td>\n",
              "      <td>NaN</td>\n",
              "      <td>2688.0</td>\n",
              "      <td>2807.0</td>\n",
              "      <td>0.21</td>\n",
              "      <td>0.21</td>\n",
              "      <td>NaN</td>\n",
              "      <td>189.0</td>\n",
              "      <td>Sinopharm/Beijing</td>\n",
              "      <td>Ministry of Health</td>\n",
              "      <td>https://twitter.com/MoHCCZim/status/1368309157...</td>\n",
              "    </tr>\n",
              "    <tr>\n",
              "      <th>5319</th>\n",
              "      <td>Zimbabwe</td>\n",
              "      <td>ZWE</td>\n",
              "      <td>2021-03-05</td>\n",
              "      <td>31325.0</td>\n",
              "      <td>31325.0</td>\n",
              "      <td>NaN</td>\n",
              "      <td>667.0</td>\n",
              "      <td>2678.0</td>\n",
              "      <td>0.21</td>\n",
              "      <td>0.21</td>\n",
              "      <td>NaN</td>\n",
              "      <td>180.0</td>\n",
              "      <td>Sinopharm/Beijing</td>\n",
              "      <td>Ministry of Health</td>\n",
              "      <td>https://twitter.com/MoHCCZim/status/1368309157...</td>\n",
              "    </tr>\n",
              "    <tr>\n",
              "      <th>5320</th>\n",
              "      <td>Zimbabwe</td>\n",
              "      <td>ZWE</td>\n",
              "      <td>2021-03-06</td>\n",
              "      <td>32014.0</td>\n",
              "      <td>32014.0</td>\n",
              "      <td>NaN</td>\n",
              "      <td>689.0</td>\n",
              "      <td>2330.0</td>\n",
              "      <td>0.22</td>\n",
              "      <td>0.22</td>\n",
              "      <td>NaN</td>\n",
              "      <td>157.0</td>\n",
              "      <td>Sinopharm/Beijing</td>\n",
              "      <td>Ministry of Health</td>\n",
              "      <td>https://twitter.com/MoHCCZim/status/1368309157...</td>\n",
              "    </tr>\n",
              "  </tbody>\n",
              "</table>\n",
              "<p>5321 rows × 15 columns</p>\n",
              "</div>"
            ],
            "text/plain": [
              "       country  ...                                     source_website\n",
              "0      Albania  ...  https://shendetesia.gov.al/covid19-ministria-e...\n",
              "1      Albania  ...  https://shendetesia.gov.al/covid19-ministria-e...\n",
              "2      Albania  ...  https://shendetesia.gov.al/covid19-ministria-e...\n",
              "3      Albania  ...  https://shendetesia.gov.al/covid19-ministria-e...\n",
              "4      Albania  ...  https://shendetesia.gov.al/covid19-ministria-e...\n",
              "...        ...  ...                                                ...\n",
              "5316  Zimbabwe  ...  https://twitter.com/MoHCCZim/status/1368309157...\n",
              "5317  Zimbabwe  ...  https://twitter.com/MoHCCZim/status/1368309157...\n",
              "5318  Zimbabwe  ...  https://twitter.com/MoHCCZim/status/1368309157...\n",
              "5319  Zimbabwe  ...  https://twitter.com/MoHCCZim/status/1368309157...\n",
              "5320  Zimbabwe  ...  https://twitter.com/MoHCCZim/status/1368309157...\n",
              "\n",
              "[5321 rows x 15 columns]"
            ]
          },
          "metadata": {
            "tags": []
          },
          "execution_count": 12
        }
      ]
    },
    {
      "cell_type": "markdown",
      "metadata": {
        "id": "XrBYfEqniueR"
      },
      "source": [
        "Explorar DataFrame"
      ]
    },
    {
      "cell_type": "code",
      "metadata": {
        "colab": {
          "base_uri": "https://localhost:8080/"
        },
        "id": "9e_Xrj66VRx2",
        "outputId": "7caa6707-3ce2-4e57-a18f-4a02628ea61f"
      },
      "source": [
        "df.isna().sum(axis=0)"
      ],
      "execution_count": 8,
      "outputs": [
        {
          "output_type": "execute_result",
          "data": {
            "text/plain": [
              "country                                   0\n",
              "iso_code                                332\n",
              "date                                      0\n",
              "total_vaccinations                     1937\n",
              "people_vaccinated                      2331\n",
              "people_fully_vaccinated                3282\n",
              "daily_vaccinations_raw                 2476\n",
              "daily_vaccinations                      184\n",
              "total_vaccinations_per_hundred         1937\n",
              "people_vaccinated_per_hundred          2331\n",
              "people_fully_vaccinated_per_hundred    3282\n",
              "daily_vaccinations_per_million          184\n",
              "vaccines                                  0\n",
              "source_name                               6\n",
              "source_website                            0\n",
              "dtype: int64"
            ]
          },
          "metadata": {
            "tags": []
          },
          "execution_count": 8
        }
      ]
    },
    {
      "cell_type": "code",
      "metadata": {
        "colab": {
          "base_uri": "https://localhost:8080/"
        },
        "id": "lao66CKPaW0Q",
        "outputId": "fbdbfc90-554b-4e6c-9ed0-9e63c1ae33be"
      },
      "source": [
        "df.dtypes"
      ],
      "execution_count": 9,
      "outputs": [
        {
          "output_type": "execute_result",
          "data": {
            "text/plain": [
              "country                                 object\n",
              "iso_code                                object\n",
              "date                                    object\n",
              "total_vaccinations                     float64\n",
              "people_vaccinated                      float64\n",
              "people_fully_vaccinated                float64\n",
              "daily_vaccinations_raw                 float64\n",
              "daily_vaccinations                     float64\n",
              "total_vaccinations_per_hundred         float64\n",
              "people_vaccinated_per_hundred          float64\n",
              "people_fully_vaccinated_per_hundred    float64\n",
              "daily_vaccinations_per_million         float64\n",
              "vaccines                                object\n",
              "source_name                             object\n",
              "source_website                          object\n",
              "dtype: object"
            ]
          },
          "metadata": {
            "tags": []
          },
          "execution_count": 9
        }
      ]
    },
    {
      "cell_type": "markdown",
      "metadata": {
        "id": "DebjiC98ShlS"
      },
      "source": [
        "Limpieza de datos"
      ]
    },
    {
      "cell_type": "code",
      "metadata": {
        "id": "FawNx72rSlYS"
      },
      "source": [
        "df = df.fillna(0)"
      ],
      "execution_count": 24,
      "outputs": []
    },
    {
      "cell_type": "code",
      "metadata": {
        "id": "97Lm0ofYjUco"
      },
      "source": [
        "columnas_int=[\"total_vaccinations\",\"people_vaccinated\",\"people_fully_vaccinated\",\"daily_vaccinations_raw\",\"daily_vaccinations\"]\r\n",
        "for columna in columnas_int:\r\n",
        "  df[columna]=pd.to_numeric(df[columna],errors='coerce',downcast='integer')"
      ],
      "execution_count": 25,
      "outputs": []
    },
    {
      "cell_type": "code",
      "metadata": {
        "id": "cp8icNVNlnkO"
      },
      "source": [
        "df[\"total_vaccinations\"]= pd.to_numeric(df[\"total_vaccinations\"],errors='coerce',downcast='integer')"
      ],
      "execution_count": 26,
      "outputs": []
    },
    {
      "cell_type": "code",
      "metadata": {
        "id": "SWn4zXJonrLk"
      },
      "source": [
        "df_vaccinations = df.drop(columns= [\"iso_code\",\"source_name\",\"source_website\"])\r\n"
      ],
      "execution_count": 27,
      "outputs": []
    },
    {
      "cell_type": "code",
      "metadata": {
        "id": "qHDzbJofnscS"
      },
      "source": [
        "df_vaccinations[\"date\"] = pd.to_datetime(df_vaccinations[\"date\"], format = '%Y-%m-%d')"
      ],
      "execution_count": 28,
      "outputs": []
    },
    {
      "cell_type": "markdown",
      "metadata": {
        "id": "tm0FrF1y5ty2"
      },
      "source": [
        "Procedimiento"
      ]
    },
    {
      "cell_type": "markdown",
      "metadata": {
        "id": "zfwTUY5Kw5Dq"
      },
      "source": [
        "* ¿Cuál es el porcentaje total de personas vacunadas en el mundo?\r\n",
        "\r\n"
      ]
    },
    {
      "cell_type": "code",
      "metadata": {
        "colab": {
          "base_uri": "https://localhost:8080/"
        },
        "id": "Ku0x2aNsstg9",
        "outputId": "79a9fee4-db2d-43e1-fbad-52571b3844b9"
      },
      "source": [
        "world_population = 785156800\r\n",
        "world_people_fully_vaccinated = df_vaccinations.groupby('country')['people_fully_vaccinated'].max().sum()\r\n",
        "\r\n",
        "print(f'En el mundo se han vacunado completamente {round(world_people_fully_vaccinated):,} personas lo que equivale al {round(world_people_fully_vaccinated*100/world_population, 2)} % de la población mundial')"
      ],
      "execution_count": 29,
      "outputs": [
        {
          "output_type": "stream",
          "text": [
            "En el mundo se han vacunado completamente 66,694,460 personas lo que equivale al 8.49 % de la población mundial\n"
          ],
          "name": "stdout"
        }
      ]
    },
    {
      "cell_type": "markdown",
      "metadata": {
        "id": "4gMfEak213Q_"
      },
      "source": [
        "* Cociente de personas vacunadas / personas completamente vacunadas"
      ]
    },
    {
      "cell_type": "code",
      "metadata": {
        "colab": {
          "base_uri": "https://localhost:8080/"
        },
        "id": "1Hh1qGnpzs0G",
        "outputId": "5f81a6ea-70c6-4feb-e3d9-ce9a09ba0c5b"
      },
      "source": [
        "world_people_vaccinated = df_vaccinations.groupby('country')['people_vaccinated'].max().sum()\r\n",
        "ratio = round(world_people_vaccinated/world_people_fully_vaccinated, 2)\r\n",
        "print(f'El cociente de personas vacunadas / personas completamente vacunadas es {ratio}')\r\n",
        "print(f'Lo que quiere decir que por cada {ratio} personas que han recibido al menos una vacuna existe 1 persona completamente vacunada')"
      ],
      "execution_count": 19,
      "outputs": [
        {
          "output_type": "stream",
          "text": [
            "El cociente de personas vacunadas / personas completamente vacunadas es 2.99\n",
            "Lo que quiere decir que por cada 2.99 personas que han recibido al menos una vacuna existe 1 persona completamente vacunada\n"
          ],
          "name": "stdout"
        }
      ]
    },
    {
      "cell_type": "markdown",
      "metadata": {
        "id": "PEYxEzTyjM0A"
      },
      "source": [
        "* Top 10 países que han vacunado mayor porcentaje de su población"
      ]
    },
    {
      "cell_type": "code",
      "metadata": {
        "colab": {
          "base_uri": "https://localhost:8080/",
          "height": 876
        },
        "id": "dGaypgv6fRNV",
        "outputId": "bf2448cf-13a8-47b7-f6cd-9cbae44dc663"
      },
      "source": [
        "top_10_mayor_porcentaje = df_vaccinations.groupby('country')['people_fully_vaccinated_per_hundred'].max().sort_values(ascending=False).head(10)\r\n",
        "print(top_10_mayor_porcentaje)\r\n",
        "\r\n",
        "def daily_porcentajes_mayor_plot_bars(value):\r\n",
        "    fig, ax = plt.subplots(figsize=(10, 10))\r\n",
        "    ax.set_title('Top 10 mayor porcentaje de vacunados completamente por población')\r\n",
        "    sns.barplot(value, value.index, ax=ax)\r\n",
        "    ax.set(ylabel='Paises', xlabel='Personas vacunadas por centenar')\r\n",
        "\r\n",
        "daily_porcentajes_mayor_plot_bars(top_10_mayor_porcentaje)"
      ],
      "execution_count": 22,
      "outputs": [
        {
          "output_type": "stream",
          "text": [
            "country\n",
            "Gibraltar               45.72\n",
            "Israel                  42.94\n",
            "Seychelles              25.04\n",
            "United Arab Emirates    22.12\n",
            "Bermuda                 13.88\n",
            "Cayman Islands          11.80\n",
            "Bahrain                 11.72\n",
            "Isle of Man              9.98\n",
            "Serbia                   9.11\n",
            "United States            8.90\n",
            "Name: people_fully_vaccinated_per_hundred, dtype: float64\n"
          ],
          "name": "stdout"
        },
        {
          "output_type": "stream",
          "text": [
            "/usr/local/lib/python3.7/dist-packages/seaborn/_decorators.py:43: FutureWarning: Pass the following variables as keyword args: x, y. From version 0.12, the only valid positional argument will be `data`, and passing other arguments without an explicit keyword will result in an error or misinterpretation.\n",
            "  FutureWarning\n"
          ],
          "name": "stderr"
        },
        {
          "output_type": "display_data",
          "data": {
            "image/png": "[encoded data removed]",
            "text/plain": [
              "<Figure size 720x720 with 1 Axes>"
            ]
          },
          "metadata": {
            "tags": [],
            "needs_background": "light"
          }
        }
      ]
    },
    {
      "cell_type": "markdown",
      "metadata": {
        "id": "R2uh1NbpjNWq"
      },
      "source": [
        "* Top 10 países que han vacunado menor porcentaje de su población"
      ]
    },
    {
      "cell_type": "code",
      "metadata": {
        "id": "Ae7Tb-84jt4s",
        "colab": {
          "base_uri": "https://localhost:8080/"
        },
        "outputId": "652fde9c-d4f7-411d-9269-faad73c63d4c"
      },
      "source": [
        "top_10_menor_porcentaje = df_vaccinations.groupby('country')['people_fully_vaccinated_per_hundred'].min().sort_values(ascending=True).head(10)\r\n",
        "print(top_10_menor_porcentaje)"
      ],
      "execution_count": 31,
      "outputs": [
        {
          "output_type": "stream",
          "text": [
            "country\n",
            "Albania             0.0\n",
            "Philippines         0.0\n",
            "Peru                0.0\n",
            "Paraguay            0.0\n",
            "Panama              0.0\n",
            "Pakistan            0.0\n",
            "Oman                0.0\n",
            "Norway              0.0\n",
            "Northern Ireland    0.0\n",
            "Northern Cyprus     0.0\n",
            "Name: people_fully_vaccinated_per_hundred, dtype: float64\n"
          ],
          "name": "stdout"
        }
      ]
    },
    {
      "cell_type": "markdown",
      "metadata": {
        "id": "1XlmI9bajuvc"
      },
      "source": [
        "* Top 10 países que han vacunado más personas"
      ]
    },
    {
      "cell_type": "code",
      "metadata": {
        "id": "FY7Xqrslj0BH",
        "colab": {
          "base_uri": "https://localhost:8080/",
          "height": 876
        },
        "outputId": "d82597eb-0a64-44c6-f1c6-428e426fde21"
      },
      "source": [
        "top_10_mas_personas_vacunadas = world_people_fully_vaccinated = df_vaccinations.groupby('country')['people_vaccinated'].max().sort_values(ascending=False).head(10)\r\n",
        "print(top_10_mas_personas_vacunadas)\r\n",
        "\r\n",
        "def daily_mas_personas_vacunadas_plot_bars(value):\r\n",
        "    fig, ax = plt.subplots(figsize=(10, 10))\r\n",
        "    ax.set_title('Top 10 países con más personas vacunadas')\r\n",
        "    sns.barplot(value, value.index, ax=ax)\r\n",
        "    ax.set(ylabel='Paises', xlabel='Personas vacunadas (Millones)')\r\n",
        "\r\n",
        "daily_mas_personas_vacunadas_plot_bars(top_10_mas_personas_vacunadas)"
      ],
      "execution_count": 34,
      "outputs": [
        {
          "output_type": "stream",
          "text": [
            "country\n",
            "United States     57358849\n",
            "United Kingdom    21796278\n",
            "England           18491771\n",
            "India             17168303\n",
            "Brazil             7958939\n",
            "Turkey             7509923\n",
            "Russia             5082127\n",
            "Israel             4929084\n",
            "Germany            4915868\n",
            "Chile              4047653\n",
            "Name: people_vaccinated, dtype: int32\n"
          ],
          "name": "stdout"
        },
        {
          "output_type": "stream",
          "text": [
            "/usr/local/lib/python3.7/dist-packages/seaborn/_decorators.py:43: FutureWarning: Pass the following variables as keyword args: x, y. From version 0.12, the only valid positional argument will be `data`, and passing other arguments without an explicit keyword will result in an error or misinterpretation.\n",
            "  FutureWarning\n"
          ],
          "name": "stderr"
        },
        {
          "output_type": "display_data",
          "data": {
            "image/png": "[encoded data removed]",
            "text/plain": [
              "<Figure size 720x720 with 1 Axes>"
            ]
          },
          "metadata": {
            "tags": [],
            "needs_background": "light"
          }
        }
      ]
    },
    {
      "cell_type": "markdown",
      "metadata": {
        "id": "f926xSYYj02N"
      },
      "source": [
        "* Top 10 países que han vacunado menos personas"
      ]
    },
    {
      "cell_type": "code",
      "metadata": {
        "id": "7onP3-zqj33_",
        "colab": {
          "base_uri": "https://localhost:8080/"
        },
        "outputId": "80d61f3e-61e1-44f2-fd08-cc823859686b"
      },
      "source": [
        "top_10_menos_personas_vacunadas = world_people_fully_vaccinated = df_vaccinations.groupby('country')['people_vaccinated'].min().sort_values(ascending=True).head(10)\r\n",
        "print(top_10_menos_personas_vacunadas)"
      ],
      "execution_count": 37,
      "outputs": [
        {
          "output_type": "stream",
          "text": [
            "country\n",
            "Albania             0\n",
            "Philippines         0\n",
            "Paraguay            0\n",
            "Panama              0\n",
            "Pakistan            0\n",
            "Oman                0\n",
            "Northern Ireland    0\n",
            "Northern Cyprus     0\n",
            "New Zealand         0\n",
            "Netherlands         0\n",
            "Name: people_vaccinated, dtype: int32\n"
          ],
          "name": "stdout"
        }
      ]
    },
    {
      "cell_type": "markdown",
      "metadata": {
        "id": "Bm4wWaP35R7v"
      },
      "source": [
        "* Top 10 de países que presentaron la mayor vacunacion por día"
      ]
    },
    {
      "cell_type": "code",
      "metadata": {
        "colab": {
          "base_uri": "https://localhost:8080/",
          "height": 674
        },
        "id": "HK8gSlVp30Jq",
        "outputId": "8a7dd60f-95a0-4095-e872-1cfc2f0beeef"
      },
      "source": [
        "top_10_daily_vaccinations = df_vaccinations.groupby('country')['daily_vaccinations'].max().sort_values(ascending=False).head(10)\r\n",
        "\r\n",
        "def daily_vaccinations_plot_bars(value):\r\n",
        "    fig, ax = plt.subplots(figsize=(10, 10))\r\n",
        "    ax.set_title('Países que presentaron la mayor vacunacion de personas por día')\r\n",
        "    sns.barplot(value, value.index, ax=ax)\r\n",
        "    ax.set(ylabel='Paises', xlabel='En Millones (1,000,000)')\r\n",
        "\r\n",
        "daily_vaccinations_plot_bars(top_10_daily_vaccinations)\r\n",
        "\r\n"
      ],
      "execution_count": 38,
      "outputs": [
        {
          "output_type": "stream",
          "text": [
            "/usr/local/lib/python3.7/dist-packages/seaborn/_decorators.py:43: FutureWarning: Pass the following variables as keyword args: x, y. From version 0.12, the only valid positional argument will be `data`, and passing other arguments without an explicit keyword will result in an error or misinterpretation.\n",
            "  FutureWarning\n"
          ],
          "name": "stderr"
        },
        {
          "output_type": "display_data",
          "data": {
            "image/png": "[encoded data removed]",
            "text/plain": [
              "<Figure size 720x720 with 1 Axes>"
            ]
          },
          "metadata": {
            "tags": [],
            "needs_background": "light"
          }
        }
      ]
    },
    {
      "cell_type": "markdown",
      "metadata": {
        "id": "6i7_BJT7NdoM"
      },
      "source": [
        "\r\n",
        "\r\n",
        "*   ¿Cuál es la vacuna más utilizada en el mundo?\r\n",
        "\r\n"
      ]
    },
    {
      "cell_type": "code",
      "metadata": {
        "colab": {
          "base_uri": "https://localhost:8080/",
          "height": 661
        },
        "id": "NzmKCDnRQrem",
        "outputId": "44c07869-cd96-40b9-a78b-1969c349975e"
      },
      "source": [
        "top_10_vaccines = df_vaccinations.groupby('vaccines').size().sort_values(ascending=False).head(10)\r\n",
        "\r\n",
        "def top_vaccines_plot_bars(value):\r\n",
        "    fig, ax = plt.subplots(figsize=(10, 10))\r\n",
        "    ax.set_title('Vacunas más usadas en el mundo')\r\n",
        "    sns.barplot(value, value.index, ax=ax)\r\n",
        "    ax.set(ylabel='Vacunas')\r\n",
        "\r\n",
        "top_vaccines_plot_bars(top_10_vaccines)"
      ],
      "execution_count": 21,
      "outputs": [
        {
          "output_type": "stream",
          "text": [
            "/usr/local/lib/python3.7/dist-packages/seaborn/_decorators.py:43: FutureWarning: Pass the following variables as keyword args: x, y. From version 0.12, the only valid positional argument will be `data`, and passing other arguments without an explicit keyword will result in an error or misinterpretation.\n",
            "  FutureWarning\n"
          ],
          "name": "stderr"
        },
        {
          "output_type": "display_data",
          "data": {
            "image/png": "[encoded data removed]",
            "text/plain": [
              "<Figure size 720x720 with 1 Axes>"
            ]
          },
          "metadata": {
            "tags": [],
            "needs_background": "light"
          }
        }
      ]
    },
    {
      "cell_type": "markdown",
      "metadata": {
        "id": "MdPoM5wAY9po"
      },
      "source": [
        "Filtramos datos para México"
      ]
    },
    {
      "cell_type": "code",
      "metadata": {
        "colab": {
          "base_uri": "https://localhost:8080/",
          "height": 758
        },
        "id": "waokALFgZofb",
        "outputId": "4a7c2025-ae8c-405b-cf81-5b666fb2fd7f"
      },
      "source": [
        "df_mexico = df2[df2[\"country\"] == \"Mexico\"]\r\n",
        "df_mexico"
      ],
      "execution_count": null,
      "outputs": [
        {
          "output_type": "execute_result",
          "data": {
            "text/html": [
              "<div>\n",
              "<style scoped>\n",
              "    .dataframe tbody tr th:only-of-type {\n",
              "        vertical-align: middle;\n",
              "    }\n",
              "\n",
              "    .dataframe tbody tr th {\n",
              "        vertical-align: top;\n",
              "    }\n",
              "\n",
              "    .dataframe thead th {\n",
              "        text-align: right;\n",
              "    }\n",
              "</style>\n",
              "<table border=\"1\" class=\"dataframe\">\n",
              "  <thead>\n",
              "    <tr style=\"text-align: right;\">\n",
              "      <th></th>\n",
              "      <th>country</th>\n",
              "      <th>iso_code</th>\n",
              "      <th>date</th>\n",
              "      <th>total_vaccinations</th>\n",
              "      <th>people_vaccinated</th>\n",
              "      <th>people_fully_vaccinated</th>\n",
              "      <th>daily_vaccinations_raw</th>\n",
              "      <th>daily_vaccinations</th>\n",
              "      <th>total_vaccinations_per_hundred</th>\n",
              "      <th>people_vaccinated_per_hundred</th>\n",
              "      <th>people_fully_vaccinated_per_hundred</th>\n",
              "      <th>daily_vaccinations_per_million</th>\n",
              "      <th>vaccines</th>\n",
              "      <th>source_name</th>\n",
              "      <th>source_website</th>\n",
              "    </tr>\n",
              "  </thead>\n",
              "  <tbody>\n",
              "    <tr>\n",
              "      <th>3237</th>\n",
              "      <td>Mexico</td>\n",
              "      <td>MEX</td>\n",
              "      <td>2020-12-24</td>\n",
              "      <td>2924.0</td>\n",
              "      <td>2924.0</td>\n",
              "      <td>NaN</td>\n",
              "      <td>NaN</td>\n",
              "      <td>NaN</td>\n",
              "      <td>0.00</td>\n",
              "      <td>0.00</td>\n",
              "      <td>NaN</td>\n",
              "      <td>NaN</td>\n",
              "      <td>Oxford/AstraZeneca, Pfizer/BioNTech, Sputnik V</td>\n",
              "      <td>Secretary of Health</td>\n",
              "      <td>https://www.gob.mx/salud/prensa/098-con-esquem...</td>\n",
              "    </tr>\n",
              "    <tr>\n",
              "      <th>3238</th>\n",
              "      <td>Mexico</td>\n",
              "      <td>MEX</td>\n",
              "      <td>2020-12-25</td>\n",
              "      <td>NaN</td>\n",
              "      <td>NaN</td>\n",
              "      <td>NaN</td>\n",
              "      <td>NaN</td>\n",
              "      <td>1300.0</td>\n",
              "      <td>NaN</td>\n",
              "      <td>NaN</td>\n",
              "      <td>NaN</td>\n",
              "      <td>10.0</td>\n",
              "      <td>Oxford/AstraZeneca, Pfizer/BioNTech, Sputnik V</td>\n",
              "      <td>Secretary of Health</td>\n",
              "      <td>https://www.gob.mx/salud/prensa/098-con-esquem...</td>\n",
              "    </tr>\n",
              "    <tr>\n",
              "      <th>3239</th>\n",
              "      <td>Mexico</td>\n",
              "      <td>MEX</td>\n",
              "      <td>2020-12-26</td>\n",
              "      <td>NaN</td>\n",
              "      <td>NaN</td>\n",
              "      <td>NaN</td>\n",
              "      <td>NaN</td>\n",
              "      <td>1300.0</td>\n",
              "      <td>NaN</td>\n",
              "      <td>NaN</td>\n",
              "      <td>NaN</td>\n",
              "      <td>10.0</td>\n",
              "      <td>Oxford/AstraZeneca, Pfizer/BioNTech, Sputnik V</td>\n",
              "      <td>Secretary of Health</td>\n",
              "      <td>https://www.gob.mx/salud/prensa/098-con-esquem...</td>\n",
              "    </tr>\n",
              "    <tr>\n",
              "      <th>3240</th>\n",
              "      <td>Mexico</td>\n",
              "      <td>MEX</td>\n",
              "      <td>2020-12-27</td>\n",
              "      <td>6824.0</td>\n",
              "      <td>6824.0</td>\n",
              "      <td>NaN</td>\n",
              "      <td>NaN</td>\n",
              "      <td>1300.0</td>\n",
              "      <td>0.01</td>\n",
              "      <td>0.01</td>\n",
              "      <td>NaN</td>\n",
              "      <td>10.0</td>\n",
              "      <td>Oxford/AstraZeneca, Pfizer/BioNTech, Sputnik V</td>\n",
              "      <td>Secretary of Health</td>\n",
              "      <td>https://www.gob.mx/salud/prensa/098-con-esquem...</td>\n",
              "    </tr>\n",
              "    <tr>\n",
              "      <th>3241</th>\n",
              "      <td>Mexico</td>\n",
              "      <td>MEX</td>\n",
              "      <td>2020-12-28</td>\n",
              "      <td>9579.0</td>\n",
              "      <td>9579.0</td>\n",
              "      <td>NaN</td>\n",
              "      <td>2755.0</td>\n",
              "      <td>1664.0</td>\n",
              "      <td>0.01</td>\n",
              "      <td>0.01</td>\n",
              "      <td>NaN</td>\n",
              "      <td>13.0</td>\n",
              "      <td>Oxford/AstraZeneca, Pfizer/BioNTech, Sputnik V</td>\n",
              "      <td>Secretary of Health</td>\n",
              "      <td>https://www.gob.mx/salud/prensa/098-con-esquem...</td>\n",
              "    </tr>\n",
              "    <tr>\n",
              "      <th>...</th>\n",
              "      <td>...</td>\n",
              "      <td>...</td>\n",
              "      <td>...</td>\n",
              "      <td>...</td>\n",
              "      <td>...</td>\n",
              "      <td>...</td>\n",
              "      <td>...</td>\n",
              "      <td>...</td>\n",
              "      <td>...</td>\n",
              "      <td>...</td>\n",
              "      <td>...</td>\n",
              "      <td>...</td>\n",
              "      <td>...</td>\n",
              "      <td>...</td>\n",
              "      <td>...</td>\n",
              "    </tr>\n",
              "    <tr>\n",
              "      <th>3305</th>\n",
              "      <td>Mexico</td>\n",
              "      <td>MEX</td>\n",
              "      <td>2021-03-02</td>\n",
              "      <td>2583435.0</td>\n",
              "      <td>2012853.0</td>\n",
              "      <td>570582.0</td>\n",
              "      <td>56572.0</td>\n",
              "      <td>111754.0</td>\n",
              "      <td>2.00</td>\n",
              "      <td>1.56</td>\n",
              "      <td>0.44</td>\n",
              "      <td>867.0</td>\n",
              "      <td>Oxford/AstraZeneca, Pfizer/BioNTech, Sputnik V</td>\n",
              "      <td>Secretary of Health</td>\n",
              "      <td>https://www.gob.mx/salud/prensa/098-con-esquem...</td>\n",
              "    </tr>\n",
              "    <tr>\n",
              "      <th>3306</th>\n",
              "      <td>Mexico</td>\n",
              "      <td>MEX</td>\n",
              "      <td>2021-03-03</td>\n",
              "      <td>2633580.0</td>\n",
              "      <td>2043941.0</td>\n",
              "      <td>589639.0</td>\n",
              "      <td>50145.0</td>\n",
              "      <td>104685.0</td>\n",
              "      <td>2.04</td>\n",
              "      <td>1.59</td>\n",
              "      <td>0.46</td>\n",
              "      <td>812.0</td>\n",
              "      <td>Oxford/AstraZeneca, Pfizer/BioNTech, Sputnik V</td>\n",
              "      <td>Secretary of Health</td>\n",
              "      <td>https://www.gob.mx/salud/prensa/098-con-esquem...</td>\n",
              "    </tr>\n",
              "    <tr>\n",
              "      <th>3307</th>\n",
              "      <td>Mexico</td>\n",
              "      <td>MEX</td>\n",
              "      <td>2021-03-04</td>\n",
              "      <td>2676035.0</td>\n",
              "      <td>NaN</td>\n",
              "      <td>NaN</td>\n",
              "      <td>42455.0</td>\n",
              "      <td>83889.0</td>\n",
              "      <td>2.08</td>\n",
              "      <td>NaN</td>\n",
              "      <td>NaN</td>\n",
              "      <td>651.0</td>\n",
              "      <td>Oxford/AstraZeneca, Pfizer/BioNTech, Sputnik V</td>\n",
              "      <td>Secretary of Health</td>\n",
              "      <td>https://www.gob.mx/salud/prensa/098-con-esquem...</td>\n",
              "    </tr>\n",
              "    <tr>\n",
              "      <th>3308</th>\n",
              "      <td>Mexico</td>\n",
              "      <td>MEX</td>\n",
              "      <td>2021-03-05</td>\n",
              "      <td>2731900.0</td>\n",
              "      <td>2128766.0</td>\n",
              "      <td>603134.0</td>\n",
              "      <td>55865.0</td>\n",
              "      <td>65838.0</td>\n",
              "      <td>2.12</td>\n",
              "      <td>1.65</td>\n",
              "      <td>0.47</td>\n",
              "      <td>511.0</td>\n",
              "      <td>Oxford/AstraZeneca, Pfizer/BioNTech, Sputnik V</td>\n",
              "      <td>Secretary of Health</td>\n",
              "      <td>https://www.gob.mx/salud/prensa/098-con-esquem...</td>\n",
              "    </tr>\n",
              "    <tr>\n",
              "      <th>3309</th>\n",
              "      <td>Mexico</td>\n",
              "      <td>MEX</td>\n",
              "      <td>2021-03-06</td>\n",
              "      <td>2765805.0</td>\n",
              "      <td>2162358.0</td>\n",
              "      <td>603447.0</td>\n",
              "      <td>33905.0</td>\n",
              "      <td>54628.0</td>\n",
              "      <td>2.15</td>\n",
              "      <td>1.68</td>\n",
              "      <td>0.47</td>\n",
              "      <td>424.0</td>\n",
              "      <td>Oxford/AstraZeneca, Pfizer/BioNTech, Sputnik V</td>\n",
              "      <td>Secretary of Health</td>\n",
              "      <td>https://www.gob.mx/salud/prensa/098-con-esquem...</td>\n",
              "    </tr>\n",
              "  </tbody>\n",
              "</table>\n",
              "<p>73 rows × 15 columns</p>\n",
              "</div>"
            ],
            "text/plain": [
              "     country  ...                                     source_website\n",
              "3237  Mexico  ...  https://www.gob.mx/salud/prensa/098-con-esquem...\n",
              "3238  Mexico  ...  https://www.gob.mx/salud/prensa/098-con-esquem...\n",
              "3239  Mexico  ...  https://www.gob.mx/salud/prensa/098-con-esquem...\n",
              "3240  Mexico  ...  https://www.gob.mx/salud/prensa/098-con-esquem...\n",
              "3241  Mexico  ...  https://www.gob.mx/salud/prensa/098-con-esquem...\n",
              "...      ...  ...                                                ...\n",
              "3305  Mexico  ...  https://www.gob.mx/salud/prensa/098-con-esquem...\n",
              "3306  Mexico  ...  https://www.gob.mx/salud/prensa/098-con-esquem...\n",
              "3307  Mexico  ...  https://www.gob.mx/salud/prensa/098-con-esquem...\n",
              "3308  Mexico  ...  https://www.gob.mx/salud/prensa/098-con-esquem...\n",
              "3309  Mexico  ...  https://www.gob.mx/salud/prensa/098-con-esquem...\n",
              "\n",
              "[73 rows x 15 columns]"
            ]
          },
          "metadata": {
            "tags": []
          },
          "execution_count": 18
        }
      ]
    },
    {
      "cell_type": "code",
      "metadata": {
        "colab": {
          "base_uri": "https://localhost:8080/"
        },
        "id": "56cUQD53ci6u",
        "outputId": "532d8929-37ee-4287-f0fc-ad89b11abadf"
      },
      "source": [
        "df_mexico.isna().sum(axis=0)"
      ],
      "execution_count": null,
      "outputs": [
        {
          "output_type": "execute_result",
          "data": {
            "text/plain": [
              "country                                 0\n",
              "iso_code                                0\n",
              "date                                    0\n",
              "total_vaccinations                      7\n",
              "people_vaccinated                       9\n",
              "people_fully_vaccinated                25\n",
              "daily_vaccinations_raw                 11\n",
              "daily_vaccinations                      1\n",
              "total_vaccinations_per_hundred          7\n",
              "people_vaccinated_per_hundred           9\n",
              "people_fully_vaccinated_per_hundred    25\n",
              "daily_vaccinations_per_million          1\n",
              "vaccines                                0\n",
              "source_name                             0\n",
              "source_website                          0\n",
              "dtype: int64"
            ]
          },
          "metadata": {
            "tags": []
          },
          "execution_count": 19
        }
      ]
    },
    {
      "cell_type": "markdown",
      "metadata": {
        "id": "iheXOZ9LSF6F"
      },
      "source": [
        "Imputación de variables faltantes para México"
      ]
    },
    {
      "cell_type": "markdown",
      "metadata": {
        "id": "-Ro3H4qGZlZE"
      },
      "source": [
        "Eliminamos filas que tengan mas de 5 NaNs"
      ]
    },
    {
      "cell_type": "code",
      "metadata": {
        "colab": {
          "base_uri": "https://localhost:8080/",
          "height": 758
        },
        "id": "Utw6UwOZubTP",
        "outputId": "aefa97a0-5a6a-4dfb-e7b8-eea9d26c5e09"
      },
      "source": [
        "df_mexico_filtraNaNs=df_mexico.dropna(subset=[\"total_vaccinations\",\"people_vaccinated\",\"people_fully_vaccinated\",\"daily_vaccinations_raw\",\"daily_vaccinations\",\"total_vaccinations_per_hundred\",\"people_vaccinated_per_hundred\",\"people_fully_vaccinated_per_hundred\",\"daily_vaccinations_per_million\"],thresh=5)\r\n",
        "df_mexico_filtraNaNs\r\n"
      ],
      "execution_count": null,
      "outputs": [
        {
          "output_type": "execute_result",
          "data": {
            "text/html": [
              "<div>\n",
              "<style scoped>\n",
              "    .dataframe tbody tr th:only-of-type {\n",
              "        vertical-align: middle;\n",
              "    }\n",
              "\n",
              "    .dataframe tbody tr th {\n",
              "        vertical-align: top;\n",
              "    }\n",
              "\n",
              "    .dataframe thead th {\n",
              "        text-align: right;\n",
              "    }\n",
              "</style>\n",
              "<table border=\"1\" class=\"dataframe\">\n",
              "  <thead>\n",
              "    <tr style=\"text-align: right;\">\n",
              "      <th></th>\n",
              "      <th>country</th>\n",
              "      <th>iso_code</th>\n",
              "      <th>date</th>\n",
              "      <th>total_vaccinations</th>\n",
              "      <th>people_vaccinated</th>\n",
              "      <th>people_fully_vaccinated</th>\n",
              "      <th>daily_vaccinations_raw</th>\n",
              "      <th>daily_vaccinations</th>\n",
              "      <th>total_vaccinations_per_hundred</th>\n",
              "      <th>people_vaccinated_per_hundred</th>\n",
              "      <th>people_fully_vaccinated_per_hundred</th>\n",
              "      <th>daily_vaccinations_per_million</th>\n",
              "      <th>vaccines</th>\n",
              "      <th>source_name</th>\n",
              "      <th>source_website</th>\n",
              "    </tr>\n",
              "  </thead>\n",
              "  <tbody>\n",
              "    <tr>\n",
              "      <th>3240</th>\n",
              "      <td>Mexico</td>\n",
              "      <td>MEX</td>\n",
              "      <td>2020-12-27</td>\n",
              "      <td>6824.0</td>\n",
              "      <td>6824.0</td>\n",
              "      <td>NaN</td>\n",
              "      <td>NaN</td>\n",
              "      <td>1300.0</td>\n",
              "      <td>0.01</td>\n",
              "      <td>0.01</td>\n",
              "      <td>NaN</td>\n",
              "      <td>10.0</td>\n",
              "      <td>Oxford/AstraZeneca, Pfizer/BioNTech, Sputnik V</td>\n",
              "      <td>Secretary of Health</td>\n",
              "      <td>https://www.gob.mx/salud/prensa/098-con-esquem...</td>\n",
              "    </tr>\n",
              "    <tr>\n",
              "      <th>3241</th>\n",
              "      <td>Mexico</td>\n",
              "      <td>MEX</td>\n",
              "      <td>2020-12-28</td>\n",
              "      <td>9579.0</td>\n",
              "      <td>9579.0</td>\n",
              "      <td>NaN</td>\n",
              "      <td>2755.0</td>\n",
              "      <td>1664.0</td>\n",
              "      <td>0.01</td>\n",
              "      <td>0.01</td>\n",
              "      <td>NaN</td>\n",
              "      <td>13.0</td>\n",
              "      <td>Oxford/AstraZeneca, Pfizer/BioNTech, Sputnik V</td>\n",
              "      <td>Secretary of Health</td>\n",
              "      <td>https://www.gob.mx/salud/prensa/098-con-esquem...</td>\n",
              "    </tr>\n",
              "    <tr>\n",
              "      <th>3242</th>\n",
              "      <td>Mexico</td>\n",
              "      <td>MEX</td>\n",
              "      <td>2020-12-29</td>\n",
              "      <td>18529.0</td>\n",
              "      <td>18529.0</td>\n",
              "      <td>NaN</td>\n",
              "      <td>8950.0</td>\n",
              "      <td>3121.0</td>\n",
              "      <td>0.01</td>\n",
              "      <td>0.01</td>\n",
              "      <td>NaN</td>\n",
              "      <td>24.0</td>\n",
              "      <td>Oxford/AstraZeneca, Pfizer/BioNTech, Sputnik V</td>\n",
              "      <td>Secretary of Health</td>\n",
              "      <td>https://www.gob.mx/salud/prensa/098-con-esquem...</td>\n",
              "    </tr>\n",
              "    <tr>\n",
              "      <th>3243</th>\n",
              "      <td>Mexico</td>\n",
              "      <td>MEX</td>\n",
              "      <td>2020-12-30</td>\n",
              "      <td>24998.0</td>\n",
              "      <td>24998.0</td>\n",
              "      <td>NaN</td>\n",
              "      <td>6469.0</td>\n",
              "      <td>3679.0</td>\n",
              "      <td>0.02</td>\n",
              "      <td>0.02</td>\n",
              "      <td>NaN</td>\n",
              "      <td>29.0</td>\n",
              "      <td>Oxford/AstraZeneca, Pfizer/BioNTech, Sputnik V</td>\n",
              "      <td>Secretary of Health</td>\n",
              "      <td>https://www.gob.mx/salud/prensa/098-con-esquem...</td>\n",
              "    </tr>\n",
              "    <tr>\n",
              "      <th>3248</th>\n",
              "      <td>Mexico</td>\n",
              "      <td>MEX</td>\n",
              "      <td>2021-01-04</td>\n",
              "      <td>43960.0</td>\n",
              "      <td>43960.0</td>\n",
              "      <td>NaN</td>\n",
              "      <td>NaN</td>\n",
              "      <td>4912.0</td>\n",
              "      <td>0.03</td>\n",
              "      <td>0.03</td>\n",
              "      <td>NaN</td>\n",
              "      <td>38.0</td>\n",
              "      <td>Oxford/AstraZeneca, Pfizer/BioNTech, Sputnik V</td>\n",
              "      <td>Secretary of Health</td>\n",
              "      <td>https://www.gob.mx/salud/prensa/098-con-esquem...</td>\n",
              "    </tr>\n",
              "    <tr>\n",
              "      <th>...</th>\n",
              "      <td>...</td>\n",
              "      <td>...</td>\n",
              "      <td>...</td>\n",
              "      <td>...</td>\n",
              "      <td>...</td>\n",
              "      <td>...</td>\n",
              "      <td>...</td>\n",
              "      <td>...</td>\n",
              "      <td>...</td>\n",
              "      <td>...</td>\n",
              "      <td>...</td>\n",
              "      <td>...</td>\n",
              "      <td>...</td>\n",
              "      <td>...</td>\n",
              "      <td>...</td>\n",
              "    </tr>\n",
              "    <tr>\n",
              "      <th>3305</th>\n",
              "      <td>Mexico</td>\n",
              "      <td>MEX</td>\n",
              "      <td>2021-03-02</td>\n",
              "      <td>2583435.0</td>\n",
              "      <td>2012853.0</td>\n",
              "      <td>570582.0</td>\n",
              "      <td>56572.0</td>\n",
              "      <td>111754.0</td>\n",
              "      <td>2.00</td>\n",
              "      <td>1.56</td>\n",
              "      <td>0.44</td>\n",
              "      <td>867.0</td>\n",
              "      <td>Oxford/AstraZeneca, Pfizer/BioNTech, Sputnik V</td>\n",
              "      <td>Secretary of Health</td>\n",
              "      <td>https://www.gob.mx/salud/prensa/098-con-esquem...</td>\n",
              "    </tr>\n",
              "    <tr>\n",
              "      <th>3306</th>\n",
              "      <td>Mexico</td>\n",
              "      <td>MEX</td>\n",
              "      <td>2021-03-03</td>\n",
              "      <td>2633580.0</td>\n",
              "      <td>2043941.0</td>\n",
              "      <td>589639.0</td>\n",
              "      <td>50145.0</td>\n",
              "      <td>104685.0</td>\n",
              "      <td>2.04</td>\n",
              "      <td>1.59</td>\n",
              "      <td>0.46</td>\n",
              "      <td>812.0</td>\n",
              "      <td>Oxford/AstraZeneca, Pfizer/BioNTech, Sputnik V</td>\n",
              "      <td>Secretary of Health</td>\n",
              "      <td>https://www.gob.mx/salud/prensa/098-con-esquem...</td>\n",
              "    </tr>\n",
              "    <tr>\n",
              "      <th>3307</th>\n",
              "      <td>Mexico</td>\n",
              "      <td>MEX</td>\n",
              "      <td>2021-03-04</td>\n",
              "      <td>2676035.0</td>\n",
              "      <td>NaN</td>\n",
              "      <td>NaN</td>\n",
              "      <td>42455.0</td>\n",
              "      <td>83889.0</td>\n",
              "      <td>2.08</td>\n",
              "      <td>NaN</td>\n",
              "      <td>NaN</td>\n",
              "      <td>651.0</td>\n",
              "      <td>Oxford/AstraZeneca, Pfizer/BioNTech, Sputnik V</td>\n",
              "      <td>Secretary of Health</td>\n",
              "      <td>https://www.gob.mx/salud/prensa/098-con-esquem...</td>\n",
              "    </tr>\n",
              "    <tr>\n",
              "      <th>3308</th>\n",
              "      <td>Mexico</td>\n",
              "      <td>MEX</td>\n",
              "      <td>2021-03-05</td>\n",
              "      <td>2731900.0</td>\n",
              "      <td>2128766.0</td>\n",
              "      <td>603134.0</td>\n",
              "      <td>55865.0</td>\n",
              "      <td>65838.0</td>\n",
              "      <td>2.12</td>\n",
              "      <td>1.65</td>\n",
              "      <td>0.47</td>\n",
              "      <td>511.0</td>\n",
              "      <td>Oxford/AstraZeneca, Pfizer/BioNTech, Sputnik V</td>\n",
              "      <td>Secretary of Health</td>\n",
              "      <td>https://www.gob.mx/salud/prensa/098-con-esquem...</td>\n",
              "    </tr>\n",
              "    <tr>\n",
              "      <th>3309</th>\n",
              "      <td>Mexico</td>\n",
              "      <td>MEX</td>\n",
              "      <td>2021-03-06</td>\n",
              "      <td>2765805.0</td>\n",
              "      <td>2162358.0</td>\n",
              "      <td>603447.0</td>\n",
              "      <td>33905.0</td>\n",
              "      <td>54628.0</td>\n",
              "      <td>2.15</td>\n",
              "      <td>1.68</td>\n",
              "      <td>0.47</td>\n",
              "      <td>424.0</td>\n",
              "      <td>Oxford/AstraZeneca, Pfizer/BioNTech, Sputnik V</td>\n",
              "      <td>Secretary of Health</td>\n",
              "      <td>https://www.gob.mx/salud/prensa/098-con-esquem...</td>\n",
              "    </tr>\n",
              "  </tbody>\n",
              "</table>\n",
              "<p>65 rows × 15 columns</p>\n",
              "</div>"
            ],
            "text/plain": [
              "     country  ...                                     source_website\n",
              "3240  Mexico  ...  https://www.gob.mx/salud/prensa/098-con-esquem...\n",
              "3241  Mexico  ...  https://www.gob.mx/salud/prensa/098-con-esquem...\n",
              "3242  Mexico  ...  https://www.gob.mx/salud/prensa/098-con-esquem...\n",
              "3243  Mexico  ...  https://www.gob.mx/salud/prensa/098-con-esquem...\n",
              "3248  Mexico  ...  https://www.gob.mx/salud/prensa/098-con-esquem...\n",
              "...      ...  ...                                                ...\n",
              "3305  Mexico  ...  https://www.gob.mx/salud/prensa/098-con-esquem...\n",
              "3306  Mexico  ...  https://www.gob.mx/salud/prensa/098-con-esquem...\n",
              "3307  Mexico  ...  https://www.gob.mx/salud/prensa/098-con-esquem...\n",
              "3308  Mexico  ...  https://www.gob.mx/salud/prensa/098-con-esquem...\n",
              "3309  Mexico  ...  https://www.gob.mx/salud/prensa/098-con-esquem...\n",
              "\n",
              "[65 rows x 15 columns]"
            ]
          },
          "metadata": {
            "tags": []
          },
          "execution_count": 20
        }
      ]
    },
    {
      "cell_type": "markdown",
      "metadata": {
        "id": "qenFIbS5Zqkd"
      },
      "source": [
        "Subset con campos que continene valores faltantes"
      ]
    },
    {
      "cell_type": "code",
      "metadata": {
        "id": "qcar5wdCppF4"
      },
      "source": [
        "dfNA= df_mexico_filtraNaNs[[\"total_vaccinations\",\"people_vaccinated\",\"people_fully_vaccinated\",\"daily_vaccinations_raw\",\"daily_vaccinations\",\"total_vaccinations_per_hundred\",\"people_vaccinated_per_hundred\",\"people_fully_vaccinated_per_hundred\",\"daily_vaccinations_per_million\"]]"
      ],
      "execution_count": null,
      "outputs": []
    },
    {
      "cell_type": "markdown",
      "metadata": {
        "id": "Jc4mQtmvZvFG"
      },
      "source": [
        "Cálculo de valores faltantes"
      ]
    },
    {
      "cell_type": "code",
      "metadata": {
        "id": "GlCKKTKspNDS"
      },
      "source": [
        "imp = KNNImputer(n_neighbors=4,weights=\"uniform\")\r\n",
        "X=imp.fit_transform(dfNA)"
      ],
      "execution_count": null,
      "outputs": []
    },
    {
      "cell_type": "markdown",
      "metadata": {
        "id": "TTQgntR0Zy8P"
      },
      "source": [
        "Asignamos valores calculados a df"
      ]
    },
    {
      "cell_type": "code",
      "metadata": {
        "id": "XD7kAkBRq54J"
      },
      "source": [
        "df_mexico_filtraNaNs[[\"total_vaccinations\",\"people_vaccinated\",\r\n",
        "\"people_fully_vaccinated\",\"daily_vaccinations_raw\",\"daily_vaccinations\",\"total_vaccinations_per_hundred\",\"people_vaccinated_per_hundred\",\"people_fully_vaccinated_per_hundred\",\"daily_vaccinations_per_million\"]] = X"
      ],
      "execution_count": null,
      "outputs": []
    },
    {
      "cell_type": "code",
      "metadata": {
        "colab": {
          "base_uri": "https://localhost:8080/",
          "height": 758
        },
        "id": "xD7pzMzvrxf4",
        "outputId": "551bc443-24de-4130-bd2f-b62221d3a207"
      },
      "source": [
        "df_mexico_filtraNaNs"
      ],
      "execution_count": null,
      "outputs": [
        {
          "output_type": "execute_result",
          "data": {
            "text/html": [
              "<div>\n",
              "<style scoped>\n",
              "    .dataframe tbody tr th:only-of-type {\n",
              "        vertical-align: middle;\n",
              "    }\n",
              "\n",
              "    .dataframe tbody tr th {\n",
              "        vertical-align: top;\n",
              "    }\n",
              "\n",
              "    .dataframe thead th {\n",
              "        text-align: right;\n",
              "    }\n",
              "</style>\n",
              "<table border=\"1\" class=\"dataframe\">\n",
              "  <thead>\n",
              "    <tr style=\"text-align: right;\">\n",
              "      <th></th>\n",
              "      <th>country</th>\n",
              "      <th>iso_code</th>\n",
              "      <th>date</th>\n",
              "      <th>total_vaccinations</th>\n",
              "      <th>people_vaccinated</th>\n",
              "      <th>people_fully_vaccinated</th>\n",
              "      <th>daily_vaccinations_raw</th>\n",
              "      <th>daily_vaccinations</th>\n",
              "      <th>total_vaccinations_per_hundred</th>\n",
              "      <th>people_vaccinated_per_hundred</th>\n",
              "      <th>people_fully_vaccinated_per_hundred</th>\n",
              "      <th>daily_vaccinations_per_million</th>\n",
              "      <th>vaccines</th>\n",
              "      <th>source_name</th>\n",
              "      <th>source_website</th>\n",
              "    </tr>\n",
              "  </thead>\n",
              "  <tbody>\n",
              "    <tr>\n",
              "      <th>3240</th>\n",
              "      <td>Mexico</td>\n",
              "      <td>MEX</td>\n",
              "      <td>2020-12-27</td>\n",
              "      <td>6824.0</td>\n",
              "      <td>6824.0</td>\n",
              "      <td>3539.75</td>\n",
              "      <td>5612.50</td>\n",
              "      <td>1300.0</td>\n",
              "      <td>0.01</td>\n",
              "      <td>0.01</td>\n",
              "      <td>0.0025</td>\n",
              "      <td>10.0</td>\n",
              "      <td>Oxford/AstraZeneca, Pfizer/BioNTech, Sputnik V</td>\n",
              "      <td>Secretary of Health</td>\n",
              "      <td>https://www.gob.mx/salud/prensa/098-con-esquem...</td>\n",
              "    </tr>\n",
              "    <tr>\n",
              "      <th>3241</th>\n",
              "      <td>Mexico</td>\n",
              "      <td>MEX</td>\n",
              "      <td>2020-12-28</td>\n",
              "      <td>9579.0</td>\n",
              "      <td>9579.0</td>\n",
              "      <td>3539.75</td>\n",
              "      <td>2755.00</td>\n",
              "      <td>1664.0</td>\n",
              "      <td>0.01</td>\n",
              "      <td>0.01</td>\n",
              "      <td>0.0025</td>\n",
              "      <td>13.0</td>\n",
              "      <td>Oxford/AstraZeneca, Pfizer/BioNTech, Sputnik V</td>\n",
              "      <td>Secretary of Health</td>\n",
              "      <td>https://www.gob.mx/salud/prensa/098-con-esquem...</td>\n",
              "    </tr>\n",
              "    <tr>\n",
              "      <th>3242</th>\n",
              "      <td>Mexico</td>\n",
              "      <td>MEX</td>\n",
              "      <td>2020-12-29</td>\n",
              "      <td>18529.0</td>\n",
              "      <td>18529.0</td>\n",
              "      <td>3539.75</td>\n",
              "      <td>8950.00</td>\n",
              "      <td>3121.0</td>\n",
              "      <td>0.01</td>\n",
              "      <td>0.01</td>\n",
              "      <td>0.0025</td>\n",
              "      <td>24.0</td>\n",
              "      <td>Oxford/AstraZeneca, Pfizer/BioNTech, Sputnik V</td>\n",
              "      <td>Secretary of Health</td>\n",
              "      <td>https://www.gob.mx/salud/prensa/098-con-esquem...</td>\n",
              "    </tr>\n",
              "    <tr>\n",
              "      <th>3243</th>\n",
              "      <td>Mexico</td>\n",
              "      <td>MEX</td>\n",
              "      <td>2020-12-30</td>\n",
              "      <td>24998.0</td>\n",
              "      <td>24998.0</td>\n",
              "      <td>3539.75</td>\n",
              "      <td>6469.00</td>\n",
              "      <td>3679.0</td>\n",
              "      <td>0.02</td>\n",
              "      <td>0.02</td>\n",
              "      <td>0.0025</td>\n",
              "      <td>29.0</td>\n",
              "      <td>Oxford/AstraZeneca, Pfizer/BioNTech, Sputnik V</td>\n",
              "      <td>Secretary of Health</td>\n",
              "      <td>https://www.gob.mx/salud/prensa/098-con-esquem...</td>\n",
              "    </tr>\n",
              "    <tr>\n",
              "      <th>3248</th>\n",
              "      <td>Mexico</td>\n",
              "      <td>MEX</td>\n",
              "      <td>2021-01-04</td>\n",
              "      <td>43960.0</td>\n",
              "      <td>43960.0</td>\n",
              "      <td>3539.75</td>\n",
              "      <td>5227.75</td>\n",
              "      <td>4912.0</td>\n",
              "      <td>0.03</td>\n",
              "      <td>0.03</td>\n",
              "      <td>0.0025</td>\n",
              "      <td>38.0</td>\n",
              "      <td>Oxford/AstraZeneca, Pfizer/BioNTech, Sputnik V</td>\n",
              "      <td>Secretary of Health</td>\n",
              "      <td>https://www.gob.mx/salud/prensa/098-con-esquem...</td>\n",
              "    </tr>\n",
              "    <tr>\n",
              "      <th>...</th>\n",
              "      <td>...</td>\n",
              "      <td>...</td>\n",
              "      <td>...</td>\n",
              "      <td>...</td>\n",
              "      <td>...</td>\n",
              "      <td>...</td>\n",
              "      <td>...</td>\n",
              "      <td>...</td>\n",
              "      <td>...</td>\n",
              "      <td>...</td>\n",
              "      <td>...</td>\n",
              "      <td>...</td>\n",
              "      <td>...</td>\n",
              "      <td>...</td>\n",
              "      <td>...</td>\n",
              "    </tr>\n",
              "    <tr>\n",
              "      <th>3305</th>\n",
              "      <td>Mexico</td>\n",
              "      <td>MEX</td>\n",
              "      <td>2021-03-02</td>\n",
              "      <td>2583435.0</td>\n",
              "      <td>2012853.0</td>\n",
              "      <td>570582.00</td>\n",
              "      <td>56572.00</td>\n",
              "      <td>111754.0</td>\n",
              "      <td>2.00</td>\n",
              "      <td>1.56</td>\n",
              "      <td>0.4400</td>\n",
              "      <td>867.0</td>\n",
              "      <td>Oxford/AstraZeneca, Pfizer/BioNTech, Sputnik V</td>\n",
              "      <td>Secretary of Health</td>\n",
              "      <td>https://www.gob.mx/salud/prensa/098-con-esquem...</td>\n",
              "    </tr>\n",
              "    <tr>\n",
              "      <th>3306</th>\n",
              "      <td>Mexico</td>\n",
              "      <td>MEX</td>\n",
              "      <td>2021-03-03</td>\n",
              "      <td>2633580.0</td>\n",
              "      <td>2043941.0</td>\n",
              "      <td>589639.00</td>\n",
              "      <td>50145.00</td>\n",
              "      <td>104685.0</td>\n",
              "      <td>2.04</td>\n",
              "      <td>1.59</td>\n",
              "      <td>0.4600</td>\n",
              "      <td>812.0</td>\n",
              "      <td>Oxford/AstraZeneca, Pfizer/BioNTech, Sputnik V</td>\n",
              "      <td>Secretary of Health</td>\n",
              "      <td>https://www.gob.mx/salud/prensa/098-con-esquem...</td>\n",
              "    </tr>\n",
              "    <tr>\n",
              "      <th>3307</th>\n",
              "      <td>Mexico</td>\n",
              "      <td>MEX</td>\n",
              "      <td>2021-03-04</td>\n",
              "      <td>2676035.0</td>\n",
              "      <td>2086979.5</td>\n",
              "      <td>591700.50</td>\n",
              "      <td>42455.00</td>\n",
              "      <td>83889.0</td>\n",
              "      <td>2.08</td>\n",
              "      <td>1.62</td>\n",
              "      <td>0.4600</td>\n",
              "      <td>651.0</td>\n",
              "      <td>Oxford/AstraZeneca, Pfizer/BioNTech, Sputnik V</td>\n",
              "      <td>Secretary of Health</td>\n",
              "      <td>https://www.gob.mx/salud/prensa/098-con-esquem...</td>\n",
              "    </tr>\n",
              "    <tr>\n",
              "      <th>3308</th>\n",
              "      <td>Mexico</td>\n",
              "      <td>MEX</td>\n",
              "      <td>2021-03-05</td>\n",
              "      <td>2731900.0</td>\n",
              "      <td>2128766.0</td>\n",
              "      <td>603134.00</td>\n",
              "      <td>55865.00</td>\n",
              "      <td>65838.0</td>\n",
              "      <td>2.12</td>\n",
              "      <td>1.65</td>\n",
              "      <td>0.4700</td>\n",
              "      <td>511.0</td>\n",
              "      <td>Oxford/AstraZeneca, Pfizer/BioNTech, Sputnik V</td>\n",
              "      <td>Secretary of Health</td>\n",
              "      <td>https://www.gob.mx/salud/prensa/098-con-esquem...</td>\n",
              "    </tr>\n",
              "    <tr>\n",
              "      <th>3309</th>\n",
              "      <td>Mexico</td>\n",
              "      <td>MEX</td>\n",
              "      <td>2021-03-06</td>\n",
              "      <td>2765805.0</td>\n",
              "      <td>2162358.0</td>\n",
              "      <td>603447.00</td>\n",
              "      <td>33905.00</td>\n",
              "      <td>54628.0</td>\n",
              "      <td>2.15</td>\n",
              "      <td>1.68</td>\n",
              "      <td>0.4700</td>\n",
              "      <td>424.0</td>\n",
              "      <td>Oxford/AstraZeneca, Pfizer/BioNTech, Sputnik V</td>\n",
              "      <td>Secretary of Health</td>\n",
              "      <td>https://www.gob.mx/salud/prensa/098-con-esquem...</td>\n",
              "    </tr>\n",
              "  </tbody>\n",
              "</table>\n",
              "<p>65 rows × 15 columns</p>\n",
              "</div>"
            ],
            "text/plain": [
              "     country  ...                                     source_website\n",
              "3240  Mexico  ...  https://www.gob.mx/salud/prensa/098-con-esquem...\n",
              "3241  Mexico  ...  https://www.gob.mx/salud/prensa/098-con-esquem...\n",
              "3242  Mexico  ...  https://www.gob.mx/salud/prensa/098-con-esquem...\n",
              "3243  Mexico  ...  https://www.gob.mx/salud/prensa/098-con-esquem...\n",
              "3248  Mexico  ...  https://www.gob.mx/salud/prensa/098-con-esquem...\n",
              "...      ...  ...                                                ...\n",
              "3305  Mexico  ...  https://www.gob.mx/salud/prensa/098-con-esquem...\n",
              "3306  Mexico  ...  https://www.gob.mx/salud/prensa/098-con-esquem...\n",
              "3307  Mexico  ...  https://www.gob.mx/salud/prensa/098-con-esquem...\n",
              "3308  Mexico  ...  https://www.gob.mx/salud/prensa/098-con-esquem...\n",
              "3309  Mexico  ...  https://www.gob.mx/salud/prensa/098-con-esquem...\n",
              "\n",
              "[65 rows x 15 columns]"
            ]
          },
          "metadata": {
            "tags": []
          },
          "execution_count": 24
        }
      ]
    },
    {
      "cell_type": "code",
      "metadata": {
        "colab": {
          "base_uri": "https://localhost:8080/"
        },
        "id": "1nAjLdBEyTrn",
        "outputId": "ea960e0a-00d3-44ff-ea68-553dde77df17"
      },
      "source": [
        "df_mexico_filtraNaNs.isna().sum(axis=0)"
      ],
      "execution_count": null,
      "outputs": [
        {
          "output_type": "execute_result",
          "data": {
            "text/plain": [
              "country                                0\n",
              "iso_code                               0\n",
              "date                                   0\n",
              "total_vaccinations                     0\n",
              "people_vaccinated                      0\n",
              "people_fully_vaccinated                0\n",
              "daily_vaccinations_raw                 0\n",
              "daily_vaccinations                     0\n",
              "total_vaccinations_per_hundred         0\n",
              "people_vaccinated_per_hundred          0\n",
              "people_fully_vaccinated_per_hundred    0\n",
              "daily_vaccinations_per_million         0\n",
              "vaccines                               0\n",
              "source_name                            0\n",
              "source_website                         0\n",
              "dtype: int64"
            ]
          },
          "metadata": {
            "tags": []
          },
          "execution_count": 25
        }
      ]
    },
    {
      "cell_type": "code",
      "metadata": {
        "id": "TD6CWAqYfEHp"
      },
      "source": [
        "diccionario_casting={\"total_vaccinations\":int,\r\n",
        "                     \"people_vaccinated\":int,\r\n",
        "                     \"people_fully_vaccinated\":int,\r\n",
        "                     \"daily_vaccinations_raw\":int,\r\n",
        "                     \"daily_vaccinations\":int\r\n",
        "                     }\r\n",
        "df_mexico_filtraNaNs = df_mexico_filtraNaNs.astype(diccionario_casting)"
      ],
      "execution_count": null,
      "outputs": []
    },
    {
      "cell_type": "code",
      "metadata": {
        "colab": {
          "base_uri": "https://localhost:8080/"
        },
        "id": "Xf1713GEhwcx",
        "outputId": "4ac6162c-1661-4f53-cbd9-6ee164329404"
      },
      "source": [
        "df_mexico_filtraNaNs.dtypes"
      ],
      "execution_count": null,
      "outputs": [
        {
          "output_type": "execute_result",
          "data": {
            "text/plain": [
              "country                                 object\n",
              "iso_code                                object\n",
              "date                                    object\n",
              "total_vaccinations                       int64\n",
              "people_vaccinated                        int64\n",
              "people_fully_vaccinated                  int64\n",
              "daily_vaccinations_raw                   int64\n",
              "daily_vaccinations                       int64\n",
              "total_vaccinations_per_hundred         float64\n",
              "people_vaccinated_per_hundred          float64\n",
              "people_fully_vaccinated_per_hundred    float64\n",
              "daily_vaccinations_per_million         float64\n",
              "vaccines                                object\n",
              "source_name                             object\n",
              "source_website                          object\n",
              "dtype: object"
            ]
          },
          "metadata": {
            "tags": []
          },
          "execution_count": 27
        }
      ]
    },
    {
      "cell_type": "markdown",
      "metadata": {
        "id": "LdblQlpvS7sv"
      },
      "source": [
        "\r\n",
        "\r\n",
        "*   Personas vacunadas en México\r\n",
        "\r\n"
      ]
    },
    {
      "cell_type": "code",
      "metadata": {
        "colab": {
          "base_uri": "https://localhost:8080/",
          "height": 350
        },
        "id": "RG6On4TkTpHJ",
        "outputId": "38e9382f-f42f-4186-e362-f90f91d88f7b"
      },
      "source": [
        "dias = range(len(df_mexico_filtraNaNs[\"date\"]))\r\n",
        "vacunaciones = df_mexico_filtraNaNs[\"total_vaccinations\"]\r\n",
        "plt.figure(figsize=(15,5))\r\n",
        "plt.title('Vacunación en México')\r\n",
        "plt.xlabel('Días desde inicio de  vacunación ')\r\n",
        "plt.ylabel('Total')\r\n",
        "plt.grid(True)\r\n",
        "plt.plot(dias,vacunaciones,'r-')\r\n",
        "plt.show()"
      ],
      "execution_count": null,
      "outputs": [
        {
          "output_type": "display_data",
          "data": {
            "image/png": "[encoded data removed]",
            "text/plain": [
              "<Figure size 1080x360 with 1 Axes>"
            ]
          },
          "metadata": {
            "tags": [],
            "needs_background": "light"
          }
        }
      ]
    },
    {
      "cell_type": "markdown",
      "metadata": {
        "id": "u6z2sqouboQe"
      },
      "source": [
        "\r\n",
        "\r\n",
        "*   Porcentaje de población totalmente vacunada\r\n",
        "\r\n"
      ]
    },
    {
      "cell_type": "code",
      "metadata": {
        "colab": {
          "base_uri": "https://localhost:8080/"
        },
        "id": "BG_Wwli5bnfu",
        "outputId": "188a48af-6fdd-47d9-f41d-9cd00383a8cd"
      },
      "source": [
        "mexico_people_fully_vaccinated_percentage = df_mexico_filtraNaNs['people_fully_vaccinated_per_hundred'].max()\r\n",
        "mexico_people_fully_vaccinated = df_mexico_filtraNaNs['people_fully_vaccinated'].max()\r\n",
        "print(f'En México se han vacunado completamente {round(mexico_people_fully_vaccinated):,} personas lo que equivale al {mexico_people_fully_vaccinated_percentage} % de la población de México')"
      ],
      "execution_count": null,
      "outputs": [
        {
          "output_type": "stream",
          "text": [
            "En México se han vacunado completamente 603,447 personas lo que equivale al 0.47 % de la población de México\n"
          ],
          "name": "stdout"
        }
      ]
    },
    {
      "cell_type": "markdown",
      "metadata": {
        "id": "Ty1GccLpdMPJ"
      },
      "source": [
        "\r\n",
        "\r\n",
        "*   Porcentaje de población parcialmente vacunada\r\n",
        "\r\n"
      ]
    },
    {
      "cell_type": "code",
      "metadata": {
        "colab": {
          "base_uri": "https://localhost:8080/"
        },
        "id": "sPOAU3DIdMPW",
        "outputId": "9a94791c-3fb1-4a1e-e1e5-d26097e7880b"
      },
      "source": [
        "mexico_people_vaccinated_percentage = df_mexico_filtraNaNs['people_vaccinated_per_hundred'].max()\r\n",
        "mexico_people_vaccinated = df_mexico_filtraNaNs['people_vaccinated'].max()\r\n",
        "print(f'En México se han vacunado completamente {mexico_people_vaccinated:,} personas lo que equivale al {mexico_people_vaccinated_percentage} % de la población de México')"
      ],
      "execution_count": null,
      "outputs": [
        {
          "output_type": "stream",
          "text": [
            "En México se han vacunado completamente 2,162,358 personas lo que equivale al 1.68 % de la población de México\n"
          ],
          "name": "stdout"
        }
      ]
    },
    {
      "cell_type": "code",
      "metadata": {
        "id": "EkZuhilRoZnD"
      },
      "source": [
        ""
      ],
      "execution_count": null,
      "outputs": []
    }
  ]
}