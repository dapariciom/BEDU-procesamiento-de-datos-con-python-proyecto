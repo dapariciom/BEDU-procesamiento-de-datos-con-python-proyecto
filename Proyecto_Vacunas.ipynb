{
  "nbformat": 4,
  "nbformat_minor": 0,
  "metadata": {
    "colab": {
      "name": "Proyecto_Spotify.ipynb",
      "provenance": [],
      "toc_visible": true
    },
    "kernelspec": {
      "name": "python3",
      "display_name": "Python 3"
    }
  },
  "cells": [
    {
      "cell_type": "markdown",
      "metadata": {
        "id": "view-in-github"
      },
      "source": [
        "<a href=\"https://colab.research.google.com/github/dapariciom/BEDU-procesamiento-de-datos-con-python-proyecto/blob/main/Proyecto_Spotify.ipynb\" target=\"_parent\"><img src=\"https://colab.research.google.com/assets/colab-badge.svg\" alt=\"Open In Colab\"/></a>"
      ]
    },
    {
      "cell_type": "code",
      "metadata": {
        "colab": {
          "base_uri": "https://localhost:8080/"
        },
        "id": "UZl4PQTvzezO",
        "outputId": "b5654206-ec49-4858-88b7-68fb7faeda83"
      },
      "source": [
        "from google.colab import drive\n",
        "drive.mount('/content/drive')"
      ],
      "execution_count": 1,
      "outputs": [
        {
          "output_type": "stream",
          "text": [
            "Mounted at /content/drive\n"
          ],
          "name": "stdout"
        }
      ]
    },
    {
      "cell_type": "markdown",
      "metadata": {
        "id": "hjZDD_Qa1ZVn"
      },
      "source": [
        "# Comandos de Github"
      ]
    },
    {
      "cell_type": "markdown",
      "metadata": {
        "id": "8UXYd8zxl9pG"
      },
      "source": [
        "## Clonar el repositorio de Github a Colab"
      ]
    },
    {
      "cell_type": "markdown",
      "metadata": {
        "id": "G-_Q2VkieX9-"
      },
      "source": [
        "(Hacer solo una vez)\r\n",
        "- Conectar Colab con Google Drive\r\n",
        "- Crear una carpeta \"Proyecto\" en Google Drive \"/content/drive/MyDrive/Proyecto\"\r\n",
        "- Cambiar la ruta a la carpeta Proyecto"
      ]
    },
    {
      "cell_type": "code",
      "metadata": {
        "id": "VS6OUuSne0a5",
        "colab": {
          "base_uri": "https://localhost:8080/"
        },
        "outputId": "a28661aa-390e-4389-a239-23aef83d879e"
      },
      "source": [
        "cd '/content/drive/MyDrive/Proyecto'"
      ],
      "execution_count": 2,
      "outputs": [
        {
          "output_type": "stream",
          "text": [
            "/content/drive/MyDrive/Proyecto\n"
          ],
          "name": "stdout"
        }
      ]
    },
    {
      "cell_type": "markdown",
      "metadata": {
        "id": "jtP6uXiwl0Yx"
      },
      "source": [
        "*     Clonar el repositorio en la carpeta Proyecto"
      ]
    },
    {
      "cell_type": "code",
      "metadata": {
        "id": "Uta2OTpSYxHA",
        "colab": {
          "base_uri": "https://localhost:8080/"
        },
        "outputId": "c08764b3-f3b6-4a37-f035-8fb9b01240f0"
      },
      "source": [
        "!git clone https://github.com/dapariciom/BEDU-procesamiento-de-datos-con-python-proyecto.git"
      ],
      "execution_count": 3,
      "outputs": [
        {
          "output_type": "stream",
          "text": [
            "fatal: destination path 'BEDU-procesamiento-de-datos-con-python-proyecto' already exists and is not an empty directory.\n"
          ],
          "name": "stdout"
        }
      ]
    },
    {
      "cell_type": "markdown",
      "metadata": {
        "id": "kWZhwygrngcS"
      },
      "source": [
        "## Actualizar cambios de Github a Colab"
      ]
    },
    {
      "cell_type": "markdown",
      "metadata": {
        "id": "KcvwfwZtvd9Z"
      },
      "source": [
        "(Hacer cada vez que se requiera actualiza Colab con Github)\r\n",
        "* Cambiar la ruta del proyecto para actualizar todos los archivos\r\n",
        "\r\n",
        "\r\n"
      ]
    },
    {
      "cell_type": "code",
      "metadata": {
        "id": "Q6py93UjtM3Y",
        "colab": {
          "base_uri": "https://localhost:8080/"
        },
        "outputId": "7a4480b9-6303-4b8a-a237-316fb3a543f9"
      },
      "source": [
        "cd '/content/drive/MyDrive/Proyecto/BEDU-procesamiento-de-datos-con-python-proyecto'"
      ],
      "execution_count": 4,
      "outputs": [
        {
          "output_type": "stream",
          "text": [
            "/content/drive/MyDrive/Proyecto/BEDU-procesamiento-de-datos-con-python-proyecto\n"
          ],
          "name": "stdout"
        }
      ]
    },
    {
      "cell_type": "markdown",
      "metadata": {
        "id": "oN7iLLDYvlOs"
      },
      "source": [
        "* Actualizar archivos del repositorio de Github"
      ]
    },
    {
      "cell_type": "code",
      "metadata": {
        "id": "oImfVp1in5f9",
        "colab": {
          "base_uri": "https://localhost:8080/"
        },
        "outputId": "bd6db05e-6108-4eb3-a62a-17a137b43f17"
      },
      "source": [
        "!git pull"
      ],
      "execution_count": 5,
      "outputs": [
        {
          "output_type": "stream",
          "text": [
            "Already up to date.\n"
          ],
          "name": "stdout"
        }
      ]
    },
    {
      "cell_type": "markdown",
      "metadata": {
        "id": "WPASvlM5eWEt"
      },
      "source": [
        "# Proyecto"
      ]
    },
    {
      "cell_type": "code",
      "metadata": {
        "id": "P0Vc24myJLbO"
      },
      "source": [
        "import pandas as pd"
      ],
      "execution_count": null,
      "outputs": []
    },
    {
      "cell_type": "code",
      "metadata": {
        "colab": {
          "base_uri": "https://localhost:8080/",
          "height": 402
        },
        "id": "WA2M3Y7RXyX1",
        "outputId": "c73c65ba-1d35-4c04-dea8-6e0aa545b302"
      },
      "source": [
        "csv_file = 'top10s.csv'\r\n",
        "df = pd.read_csv(f'/content/drive/MyDrive/Proyecto/BEDU-procesamiento-de-datos-con-python-proyecto/{csv_file}', engine='python')\r\n",
        "df"
      ],
      "execution_count": null,
      "outputs": [
        {
          "output_type": "execute_result",
          "data": {
            "text/html": [
              "<div>\n",
              "<style scoped>\n",
              "    .dataframe tbody tr th:only-of-type {\n",
              "        vertical-align: middle;\n",
              "    }\n",
              "\n",
              "    .dataframe tbody tr th {\n",
              "        vertical-align: top;\n",
              "    }\n",
              "\n",
              "    .dataframe thead th {\n",
              "        text-align: right;\n",
              "    }\n",
              "</style>\n",
              "<table border=\"1\" class=\"dataframe\">\n",
              "  <thead>\n",
              "    <tr style=\"text-align: right;\">\n",
              "      <th></th>\n",
              "      <th>Unnamed: 0</th>\n",
              "      <th>title</th>\n",
              "      <th>artist</th>\n",
              "      <th>top genre</th>\n",
              "      <th>year</th>\n",
              "      <th>bpm</th>\n",
              "      <th>nrgy</th>\n",
              "      <th>dnce</th>\n",
              "      <th>dB</th>\n",
              "      <th>live</th>\n",
              "      <th>val</th>\n",
              "      <th>dur</th>\n",
              "      <th>acous</th>\n",
              "      <th>spch</th>\n",
              "      <th>pop</th>\n",
              "    </tr>\n",
              "  </thead>\n",
              "  <tbody>\n",
              "    <tr>\n",
              "      <th>0</th>\n",
              "      <td>1</td>\n",
              "      <td>Hey, Soul Sister</td>\n",
              "      <td>Train</td>\n",
              "      <td>neo mellow</td>\n",
              "      <td>2010</td>\n",
              "      <td>97</td>\n",
              "      <td>89</td>\n",
              "      <td>67</td>\n",
              "      <td>-4</td>\n",
              "      <td>8</td>\n",
              "      <td>80</td>\n",
              "      <td>217</td>\n",
              "      <td>19</td>\n",
              "      <td>4</td>\n",
              "      <td>83</td>\n",
              "    </tr>\n",
              "    <tr>\n",
              "      <th>1</th>\n",
              "      <td>2</td>\n",
              "      <td>Love The Way You Lie</td>\n",
              "      <td>Eminem</td>\n",
              "      <td>detroit hip hop</td>\n",
              "      <td>2010</td>\n",
              "      <td>87</td>\n",
              "      <td>93</td>\n",
              "      <td>75</td>\n",
              "      <td>-5</td>\n",
              "      <td>52</td>\n",
              "      <td>64</td>\n",
              "      <td>263</td>\n",
              "      <td>24</td>\n",
              "      <td>23</td>\n",
              "      <td>82</td>\n",
              "    </tr>\n",
              "    <tr>\n",
              "      <th>2</th>\n",
              "      <td>3</td>\n",
              "      <td>TiK ToK</td>\n",
              "      <td>Kesha</td>\n",
              "      <td>dance pop</td>\n",
              "      <td>2010</td>\n",
              "      <td>120</td>\n",
              "      <td>84</td>\n",
              "      <td>76</td>\n",
              "      <td>-3</td>\n",
              "      <td>29</td>\n",
              "      <td>71</td>\n",
              "      <td>200</td>\n",
              "      <td>10</td>\n",
              "      <td>14</td>\n",
              "      <td>80</td>\n",
              "    </tr>\n",
              "    <tr>\n",
              "      <th>3</th>\n",
              "      <td>4</td>\n",
              "      <td>Bad Romance</td>\n",
              "      <td>Lady Gaga</td>\n",
              "      <td>dance pop</td>\n",
              "      <td>2010</td>\n",
              "      <td>119</td>\n",
              "      <td>92</td>\n",
              "      <td>70</td>\n",
              "      <td>-4</td>\n",
              "      <td>8</td>\n",
              "      <td>71</td>\n",
              "      <td>295</td>\n",
              "      <td>0</td>\n",
              "      <td>4</td>\n",
              "      <td>79</td>\n",
              "    </tr>\n",
              "    <tr>\n",
              "      <th>4</th>\n",
              "      <td>5</td>\n",
              "      <td>Just the Way You Are</td>\n",
              "      <td>Bruno Mars</td>\n",
              "      <td>pop</td>\n",
              "      <td>2010</td>\n",
              "      <td>109</td>\n",
              "      <td>84</td>\n",
              "      <td>64</td>\n",
              "      <td>-5</td>\n",
              "      <td>9</td>\n",
              "      <td>43</td>\n",
              "      <td>221</td>\n",
              "      <td>2</td>\n",
              "      <td>4</td>\n",
              "      <td>78</td>\n",
              "    </tr>\n",
              "    <tr>\n",
              "      <th>...</th>\n",
              "      <td>...</td>\n",
              "      <td>...</td>\n",
              "      <td>...</td>\n",
              "      <td>...</td>\n",
              "      <td>...</td>\n",
              "      <td>...</td>\n",
              "      <td>...</td>\n",
              "      <td>...</td>\n",
              "      <td>...</td>\n",
              "      <td>...</td>\n",
              "      <td>...</td>\n",
              "      <td>...</td>\n",
              "      <td>...</td>\n",
              "      <td>...</td>\n",
              "      <td>...</td>\n",
              "    </tr>\n",
              "    <tr>\n",
              "      <th>598</th>\n",
              "      <td>599</td>\n",
              "      <td>Find U Again (feat. Camila Cabello)</td>\n",
              "      <td>Mark Ronson</td>\n",
              "      <td>dance pop</td>\n",
              "      <td>2019</td>\n",
              "      <td>104</td>\n",
              "      <td>66</td>\n",
              "      <td>61</td>\n",
              "      <td>-7</td>\n",
              "      <td>20</td>\n",
              "      <td>16</td>\n",
              "      <td>176</td>\n",
              "      <td>1</td>\n",
              "      <td>3</td>\n",
              "      <td>75</td>\n",
              "    </tr>\n",
              "    <tr>\n",
              "      <th>599</th>\n",
              "      <td>600</td>\n",
              "      <td>Cross Me (feat. Chance the Rapper &amp; PnB Rock)</td>\n",
              "      <td>Ed Sheeran</td>\n",
              "      <td>pop</td>\n",
              "      <td>2019</td>\n",
              "      <td>95</td>\n",
              "      <td>79</td>\n",
              "      <td>75</td>\n",
              "      <td>-6</td>\n",
              "      <td>7</td>\n",
              "      <td>61</td>\n",
              "      <td>206</td>\n",
              "      <td>21</td>\n",
              "      <td>12</td>\n",
              "      <td>75</td>\n",
              "    </tr>\n",
              "    <tr>\n",
              "      <th>600</th>\n",
              "      <td>601</td>\n",
              "      <td>No Brainer (feat. Justin Bieber, Chance the Ra...</td>\n",
              "      <td>DJ Khaled</td>\n",
              "      <td>dance pop</td>\n",
              "      <td>2019</td>\n",
              "      <td>136</td>\n",
              "      <td>76</td>\n",
              "      <td>53</td>\n",
              "      <td>-5</td>\n",
              "      <td>9</td>\n",
              "      <td>65</td>\n",
              "      <td>260</td>\n",
              "      <td>7</td>\n",
              "      <td>34</td>\n",
              "      <td>70</td>\n",
              "    </tr>\n",
              "    <tr>\n",
              "      <th>601</th>\n",
              "      <td>602</td>\n",
              "      <td>Nothing Breaks Like a Heart (feat. Miley Cyrus)</td>\n",
              "      <td>Mark Ronson</td>\n",
              "      <td>dance pop</td>\n",
              "      <td>2019</td>\n",
              "      <td>114</td>\n",
              "      <td>79</td>\n",
              "      <td>60</td>\n",
              "      <td>-6</td>\n",
              "      <td>42</td>\n",
              "      <td>24</td>\n",
              "      <td>217</td>\n",
              "      <td>1</td>\n",
              "      <td>7</td>\n",
              "      <td>69</td>\n",
              "    </tr>\n",
              "    <tr>\n",
              "      <th>602</th>\n",
              "      <td>603</td>\n",
              "      <td>Kills You Slowly</td>\n",
              "      <td>The Chainsmokers</td>\n",
              "      <td>electropop</td>\n",
              "      <td>2019</td>\n",
              "      <td>150</td>\n",
              "      <td>44</td>\n",
              "      <td>70</td>\n",
              "      <td>-9</td>\n",
              "      <td>13</td>\n",
              "      <td>23</td>\n",
              "      <td>213</td>\n",
              "      <td>6</td>\n",
              "      <td>6</td>\n",
              "      <td>67</td>\n",
              "    </tr>\n",
              "  </tbody>\n",
              "</table>\n",
              "<p>603 rows × 15 columns</p>\n",
              "</div>"
            ],
            "text/plain": [
              "     Unnamed: 0                                              title  ... spch pop\n",
              "0             1                                   Hey, Soul Sister  ...    4  83\n",
              "1             2                               Love The Way You Lie  ...   23  82\n",
              "2             3                                            TiK ToK  ...   14  80\n",
              "3             4                                        Bad Romance  ...    4  79\n",
              "4             5                               Just the Way You Are  ...    4  78\n",
              "..          ...                                                ...  ...  ...  ..\n",
              "598         599                Find U Again (feat. Camila Cabello)  ...    3  75\n",
              "599         600      Cross Me (feat. Chance the Rapper & PnB Rock)  ...   12  75\n",
              "600         601  No Brainer (feat. Justin Bieber, Chance the Ra...  ...   34  70\n",
              "601         602    Nothing Breaks Like a Heart (feat. Miley Cyrus)  ...    7  69\n",
              "602         603                                   Kills You Slowly  ...    6  67\n",
              "\n",
              "[603 rows x 15 columns]"
            ]
          },
          "metadata": {
            "tags": []
          },
          "execution_count": 50
        }
      ]
    },
    {
      "cell_type": "code",
      "metadata": {
        "colab": {
          "base_uri": "https://localhost:8080/"
        },
        "id": "8Tgi9pQ5d00P",
        "outputId": "9dee271e-ff54-41ca-f33f-74bda1823a89"
      },
      "source": [
        "df.isna().sum(axis=0)"
      ],
      "execution_count": null,
      "outputs": [
        {
          "output_type": "execute_result",
          "data": {
            "text/plain": [
              "Unnamed: 0    0\n",
              "title         0\n",
              "artist        0\n",
              "top genre     0\n",
              "year          0\n",
              "bpm           0\n",
              "nrgy          0\n",
              "dnce          0\n",
              "dB            0\n",
              "live          0\n",
              "val           0\n",
              "dur           0\n",
              "acous         0\n",
              "spch          0\n",
              "pop           0\n",
              "dtype: int64"
            ]
          },
          "metadata": {
            "tags": []
          },
          "execution_count": 13
        }
      ]
    },
    {
      "cell_type": "code",
      "metadata": {
        "colab": {
          "base_uri": "https://localhost:8080/"
        },
        "id": "I1dxIXqBd5XK",
        "outputId": "5ce0a06e-fa5a-4446-ab9e-23afcbbb232c"
      },
      "source": [
        "df.isna().sum(axis=1)"
      ],
      "execution_count": null,
      "outputs": [
        {
          "output_type": "execute_result",
          "data": {
            "text/plain": [
              "0      0\n",
              "1      0\n",
              "2      0\n",
              "3      0\n",
              "4      0\n",
              "      ..\n",
              "598    0\n",
              "599    0\n",
              "600    0\n",
              "601    0\n",
              "602    0\n",
              "Length: 603, dtype: int64"
            ]
          },
          "metadata": {
            "tags": []
          },
          "execution_count": 14
        }
      ]
    },
    {
      "cell_type": "markdown",
      "metadata": {
        "id": "uDFq-igjUFLs"
      },
      "source": [
        "PROYECTO VACUNACIÓN"
      ]
    },
    {
      "cell_type": "code",
      "metadata": {
        "colab": {
          "base_uri": "https://localhost:8080/",
          "height": 609
        },
        "id": "MuQShe79UB0u",
        "outputId": "eef3d5c7-ea81-4efa-ccf6-856fb829da00"
      },
      "source": [
        "csv_file = 'country_vaccinations.csv'\r\n",
        "df = pd.read_csv(f'/content/drive/MyDrive/Proyecto/BEDU-procesamiento-de-datos-con-python-proyecto/{csv_file}', engine='python')\r\n",
        "df"
      ],
      "execution_count": null,
      "outputs": [
        {
          "output_type": "execute_result",
          "data": {
            "text/html": [
              "<div>\n",
              "<style scoped>\n",
              "    .dataframe tbody tr th:only-of-type {\n",
              "        vertical-align: middle;\n",
              "    }\n",
              "\n",
              "    .dataframe tbody tr th {\n",
              "        vertical-align: top;\n",
              "    }\n",
              "\n",
              "    .dataframe thead th {\n",
              "        text-align: right;\n",
              "    }\n",
              "</style>\n",
              "<table border=\"1\" class=\"dataframe\">\n",
              "  <thead>\n",
              "    <tr style=\"text-align: right;\">\n",
              "      <th></th>\n",
              "      <th>country</th>\n",
              "      <th>iso_code</th>\n",
              "      <th>date</th>\n",
              "      <th>total_vaccinations</th>\n",
              "      <th>people_vaccinated</th>\n",
              "      <th>people_fully_vaccinated</th>\n",
              "      <th>daily_vaccinations_raw</th>\n",
              "      <th>daily_vaccinations</th>\n",
              "      <th>total_vaccinations_per_hundred</th>\n",
              "      <th>people_vaccinated_per_hundred</th>\n",
              "      <th>people_fully_vaccinated_per_hundred</th>\n",
              "      <th>daily_vaccinations_per_million</th>\n",
              "      <th>vaccines</th>\n",
              "      <th>source_name</th>\n",
              "      <th>source_website</th>\n",
              "    </tr>\n",
              "  </thead>\n",
              "  <tbody>\n",
              "    <tr>\n",
              "      <th>0</th>\n",
              "      <td>Albania</td>\n",
              "      <td>ALB</td>\n",
              "      <td>2021-01-10</td>\n",
              "      <td>0.0</td>\n",
              "      <td>0.0</td>\n",
              "      <td>NaN</td>\n",
              "      <td>NaN</td>\n",
              "      <td>NaN</td>\n",
              "      <td>0.00</td>\n",
              "      <td>0.00</td>\n",
              "      <td>NaN</td>\n",
              "      <td>NaN</td>\n",
              "      <td>Pfizer/BioNTech</td>\n",
              "      <td>Ministry of Health</td>\n",
              "      <td>https://shendetesia.gov.al/covid19-ministria-e...</td>\n",
              "    </tr>\n",
              "    <tr>\n",
              "      <th>1</th>\n",
              "      <td>Albania</td>\n",
              "      <td>ALB</td>\n",
              "      <td>2021-01-11</td>\n",
              "      <td>NaN</td>\n",
              "      <td>NaN</td>\n",
              "      <td>NaN</td>\n",
              "      <td>NaN</td>\n",
              "      <td>64.0</td>\n",
              "      <td>NaN</td>\n",
              "      <td>NaN</td>\n",
              "      <td>NaN</td>\n",
              "      <td>22.0</td>\n",
              "      <td>Pfizer/BioNTech</td>\n",
              "      <td>Ministry of Health</td>\n",
              "      <td>https://shendetesia.gov.al/covid19-ministria-e...</td>\n",
              "    </tr>\n",
              "    <tr>\n",
              "      <th>2</th>\n",
              "      <td>Albania</td>\n",
              "      <td>ALB</td>\n",
              "      <td>2021-01-12</td>\n",
              "      <td>128.0</td>\n",
              "      <td>128.0</td>\n",
              "      <td>NaN</td>\n",
              "      <td>NaN</td>\n",
              "      <td>64.0</td>\n",
              "      <td>0.00</td>\n",
              "      <td>0.00</td>\n",
              "      <td>NaN</td>\n",
              "      <td>22.0</td>\n",
              "      <td>Pfizer/BioNTech</td>\n",
              "      <td>Ministry of Health</td>\n",
              "      <td>https://shendetesia.gov.al/covid19-ministria-e...</td>\n",
              "    </tr>\n",
              "    <tr>\n",
              "      <th>3</th>\n",
              "      <td>Albania</td>\n",
              "      <td>ALB</td>\n",
              "      <td>2021-01-13</td>\n",
              "      <td>188.0</td>\n",
              "      <td>188.0</td>\n",
              "      <td>NaN</td>\n",
              "      <td>60.0</td>\n",
              "      <td>63.0</td>\n",
              "      <td>0.01</td>\n",
              "      <td>0.01</td>\n",
              "      <td>NaN</td>\n",
              "      <td>22.0</td>\n",
              "      <td>Pfizer/BioNTech</td>\n",
              "      <td>Ministry of Health</td>\n",
              "      <td>https://shendetesia.gov.al/covid19-ministria-e...</td>\n",
              "    </tr>\n",
              "    <tr>\n",
              "      <th>4</th>\n",
              "      <td>Albania</td>\n",
              "      <td>ALB</td>\n",
              "      <td>2021-01-14</td>\n",
              "      <td>266.0</td>\n",
              "      <td>266.0</td>\n",
              "      <td>NaN</td>\n",
              "      <td>78.0</td>\n",
              "      <td>66.0</td>\n",
              "      <td>0.01</td>\n",
              "      <td>0.01</td>\n",
              "      <td>NaN</td>\n",
              "      <td>23.0</td>\n",
              "      <td>Pfizer/BioNTech</td>\n",
              "      <td>Ministry of Health</td>\n",
              "      <td>https://shendetesia.gov.al/covid19-ministria-e...</td>\n",
              "    </tr>\n",
              "    <tr>\n",
              "      <th>...</th>\n",
              "      <td>...</td>\n",
              "      <td>...</td>\n",
              "      <td>...</td>\n",
              "      <td>...</td>\n",
              "      <td>...</td>\n",
              "      <td>...</td>\n",
              "      <td>...</td>\n",
              "      <td>...</td>\n",
              "      <td>...</td>\n",
              "      <td>...</td>\n",
              "      <td>...</td>\n",
              "      <td>...</td>\n",
              "      <td>...</td>\n",
              "      <td>...</td>\n",
              "      <td>...</td>\n",
              "    </tr>\n",
              "    <tr>\n",
              "      <th>5316</th>\n",
              "      <td>Zimbabwe</td>\n",
              "      <td>ZWE</td>\n",
              "      <td>2021-03-02</td>\n",
              "      <td>25077.0</td>\n",
              "      <td>25077.0</td>\n",
              "      <td>NaN</td>\n",
              "      <td>3621.0</td>\n",
              "      <td>3005.0</td>\n",
              "      <td>0.17</td>\n",
              "      <td>0.17</td>\n",
              "      <td>NaN</td>\n",
              "      <td>202.0</td>\n",
              "      <td>Sinopharm/Beijing</td>\n",
              "      <td>Ministry of Health</td>\n",
              "      <td>https://twitter.com/MoHCCZim/status/1368309157...</td>\n",
              "    </tr>\n",
              "    <tr>\n",
              "      <th>5317</th>\n",
              "      <td>Zimbabwe</td>\n",
              "      <td>ZWE</td>\n",
              "      <td>2021-03-03</td>\n",
              "      <td>27970.0</td>\n",
              "      <td>27970.0</td>\n",
              "      <td>NaN</td>\n",
              "      <td>2893.0</td>\n",
              "      <td>2871.0</td>\n",
              "      <td>0.19</td>\n",
              "      <td>0.19</td>\n",
              "      <td>NaN</td>\n",
              "      <td>193.0</td>\n",
              "      <td>Sinopharm/Beijing</td>\n",
              "      <td>Ministry of Health</td>\n",
              "      <td>https://twitter.com/MoHCCZim/status/1368309157...</td>\n",
              "    </tr>\n",
              "    <tr>\n",
              "      <th>5318</th>\n",
              "      <td>Zimbabwe</td>\n",
              "      <td>ZWE</td>\n",
              "      <td>2021-03-04</td>\n",
              "      <td>30658.0</td>\n",
              "      <td>30658.0</td>\n",
              "      <td>NaN</td>\n",
              "      <td>2688.0</td>\n",
              "      <td>2807.0</td>\n",
              "      <td>0.21</td>\n",
              "      <td>0.21</td>\n",
              "      <td>NaN</td>\n",
              "      <td>189.0</td>\n",
              "      <td>Sinopharm/Beijing</td>\n",
              "      <td>Ministry of Health</td>\n",
              "      <td>https://twitter.com/MoHCCZim/status/1368309157...</td>\n",
              "    </tr>\n",
              "    <tr>\n",
              "      <th>5319</th>\n",
              "      <td>Zimbabwe</td>\n",
              "      <td>ZWE</td>\n",
              "      <td>2021-03-05</td>\n",
              "      <td>31325.0</td>\n",
              "      <td>31325.0</td>\n",
              "      <td>NaN</td>\n",
              "      <td>667.0</td>\n",
              "      <td>2678.0</td>\n",
              "      <td>0.21</td>\n",
              "      <td>0.21</td>\n",
              "      <td>NaN</td>\n",
              "      <td>180.0</td>\n",
              "      <td>Sinopharm/Beijing</td>\n",
              "      <td>Ministry of Health</td>\n",
              "      <td>https://twitter.com/MoHCCZim/status/1368309157...</td>\n",
              "    </tr>\n",
              "    <tr>\n",
              "      <th>5320</th>\n",
              "      <td>Zimbabwe</td>\n",
              "      <td>ZWE</td>\n",
              "      <td>2021-03-06</td>\n",
              "      <td>32014.0</td>\n",
              "      <td>32014.0</td>\n",
              "      <td>NaN</td>\n",
              "      <td>689.0</td>\n",
              "      <td>2330.0</td>\n",
              "      <td>0.22</td>\n",
              "      <td>0.22</td>\n",
              "      <td>NaN</td>\n",
              "      <td>157.0</td>\n",
              "      <td>Sinopharm/Beijing</td>\n",
              "      <td>Ministry of Health</td>\n",
              "      <td>https://twitter.com/MoHCCZim/status/1368309157...</td>\n",
              "    </tr>\n",
              "  </tbody>\n",
              "</table>\n",
              "<p>5321 rows × 15 columns</p>\n",
              "</div>"
            ],
            "text/plain": [
              "       country  ...                                     source_website\n",
              "0      Albania  ...  https://shendetesia.gov.al/covid19-ministria-e...\n",
              "1      Albania  ...  https://shendetesia.gov.al/covid19-ministria-e...\n",
              "2      Albania  ...  https://shendetesia.gov.al/covid19-ministria-e...\n",
              "3      Albania  ...  https://shendetesia.gov.al/covid19-ministria-e...\n",
              "4      Albania  ...  https://shendetesia.gov.al/covid19-ministria-e...\n",
              "...        ...  ...                                                ...\n",
              "5316  Zimbabwe  ...  https://twitter.com/MoHCCZim/status/1368309157...\n",
              "5317  Zimbabwe  ...  https://twitter.com/MoHCCZim/status/1368309157...\n",
              "5318  Zimbabwe  ...  https://twitter.com/MoHCCZim/status/1368309157...\n",
              "5319  Zimbabwe  ...  https://twitter.com/MoHCCZim/status/1368309157...\n",
              "5320  Zimbabwe  ...  https://twitter.com/MoHCCZim/status/1368309157...\n",
              "\n",
              "[5321 rows x 15 columns]"
            ]
          },
          "metadata": {
            "tags": []
          },
          "execution_count": 6
        }
      ]
    },
    {
      "cell_type": "code",
      "metadata": {
        "colab": {
          "base_uri": "https://localhost:8080/"
        },
        "id": "9e_Xrj66VRx2",
        "outputId": "c434bfc5-1a8c-43b4-fa53-44ccb6698317"
      },
      "source": [
        "df.isna().sum(axis=0)"
      ],
      "execution_count": null,
      "outputs": [
        {
          "output_type": "execute_result",
          "data": {
            "text/plain": [
              "country                                   0\n",
              "iso_code                                332\n",
              "date                                      0\n",
              "total_vaccinations                     1937\n",
              "people_vaccinated                      2331\n",
              "people_fully_vaccinated                3282\n",
              "daily_vaccinations_raw                 2476\n",
              "daily_vaccinations                      184\n",
              "total_vaccinations_per_hundred         1937\n",
              "people_vaccinated_per_hundred          2331\n",
              "people_fully_vaccinated_per_hundred    3282\n",
              "daily_vaccinations_per_million          184\n",
              "vaccines                                  0\n",
              "source_name                               6\n",
              "source_website                            0\n",
              "dtype: int64"
            ]
          },
          "metadata": {
            "tags": []
          },
          "execution_count": 7
        }
      ]
    },
    {
      "cell_type": "code",
      "metadata": {
        "colab": {
          "base_uri": "https://localhost:8080/"
        },
        "id": "lao66CKPaW0Q",
        "outputId": "4681cd4f-5050-49f4-db77-60e28578fba3"
      },
      "source": [
        "df.dtypes"
      ],
      "execution_count": null,
      "outputs": [
        {
          "output_type": "execute_result",
          "data": {
            "text/plain": [
              "country                                 object\n",
              "iso_code                                object\n",
              "date                                    object\n",
              "total_vaccinations                     float64\n",
              "people_vaccinated                      float64\n",
              "people_fully_vaccinated                float64\n",
              "daily_vaccinations_raw                 float64\n",
              "daily_vaccinations                     float64\n",
              "total_vaccinations_per_hundred         float64\n",
              "people_vaccinated_per_hundred          float64\n",
              "people_fully_vaccinated_per_hundred    float64\n",
              "daily_vaccinations_per_million         float64\n",
              "vaccines                                object\n",
              "source_name                             object\n",
              "source_website                          object\n",
              "dtype: object"
            ]
          },
          "metadata": {
            "tags": []
          },
          "execution_count": 9
        }
      ]
    },
    {
      "cell_type": "markdown",
      "metadata": {
        "id": "OhXM2WN_bWMQ"
      },
      "source": [
        "\r\n",
        "\r\n",
        "*   Cambiamos columna fecha a tipo Date\r\n",
        "\r\n"
      ]
    },
    {
      "cell_type": "code",
      "metadata": {
        "id": "lEF3ifpebihT"
      },
      "source": [
        "df[\"date\"] = pd.to_datetime(df[\"date\"], format = '%Y-%m-%d')"
      ],
      "execution_count": null,
      "outputs": []
    },
    {
      "cell_type": "markdown",
      "metadata": {
        "id": "hQvnXTgHZrZs"
      },
      "source": [
        "PARA MÉXICO"
      ]
    },
    {
      "cell_type": "code",
      "metadata": {
        "colab": {
          "base_uri": "https://localhost:8080/",
          "height": 782
        },
        "id": "waokALFgZofb",
        "outputId": "88dfb97c-b250-4b7a-ff9a-3deafbabeb79"
      },
      "source": [
        "#FILTRAMOS DATOS DE MEXICO\r\n",
        "df_mexico = df[df[\"country\"] == \"Mexico\"]\r\n",
        "df_mexico"
      ],
      "execution_count": null,
      "outputs": [
        {
          "output_type": "execute_result",
          "data": {
            "text/html": [
              "<div>\n",
              "<style scoped>\n",
              "    .dataframe tbody tr th:only-of-type {\n",
              "        vertical-align: middle;\n",
              "    }\n",
              "\n",
              "    .dataframe tbody tr th {\n",
              "        vertical-align: top;\n",
              "    }\n",
              "\n",
              "    .dataframe thead th {\n",
              "        text-align: right;\n",
              "    }\n",
              "</style>\n",
              "<table border=\"1\" class=\"dataframe\">\n",
              "  <thead>\n",
              "    <tr style=\"text-align: right;\">\n",
              "      <th></th>\n",
              "      <th>country</th>\n",
              "      <th>iso_code</th>\n",
              "      <th>date</th>\n",
              "      <th>total_vaccinations</th>\n",
              "      <th>people_vaccinated</th>\n",
              "      <th>people_fully_vaccinated</th>\n",
              "      <th>daily_vaccinations_raw</th>\n",
              "      <th>daily_vaccinations</th>\n",
              "      <th>total_vaccinations_per_hundred</th>\n",
              "      <th>people_vaccinated_per_hundred</th>\n",
              "      <th>people_fully_vaccinated_per_hundred</th>\n",
              "      <th>daily_vaccinations_per_million</th>\n",
              "      <th>vaccines</th>\n",
              "      <th>source_name</th>\n",
              "      <th>source_website</th>\n",
              "    </tr>\n",
              "  </thead>\n",
              "  <tbody>\n",
              "    <tr>\n",
              "      <th>3237</th>\n",
              "      <td>Mexico</td>\n",
              "      <td>MEX</td>\n",
              "      <td>2020-12-24</td>\n",
              "      <td>2924.0</td>\n",
              "      <td>2924.0</td>\n",
              "      <td>NaN</td>\n",
              "      <td>NaN</td>\n",
              "      <td>NaN</td>\n",
              "      <td>0.00</td>\n",
              "      <td>0.00</td>\n",
              "      <td>NaN</td>\n",
              "      <td>NaN</td>\n",
              "      <td>Oxford/AstraZeneca, Pfizer/BioNTech, Sputnik V</td>\n",
              "      <td>Secretary of Health</td>\n",
              "      <td>https://www.gob.mx/salud/prensa/098-con-esquem...</td>\n",
              "    </tr>\n",
              "    <tr>\n",
              "      <th>3238</th>\n",
              "      <td>Mexico</td>\n",
              "      <td>MEX</td>\n",
              "      <td>2020-12-25</td>\n",
              "      <td>NaN</td>\n",
              "      <td>NaN</td>\n",
              "      <td>NaN</td>\n",
              "      <td>NaN</td>\n",
              "      <td>1300.0</td>\n",
              "      <td>NaN</td>\n",
              "      <td>NaN</td>\n",
              "      <td>NaN</td>\n",
              "      <td>10.0</td>\n",
              "      <td>Oxford/AstraZeneca, Pfizer/BioNTech, Sputnik V</td>\n",
              "      <td>Secretary of Health</td>\n",
              "      <td>https://www.gob.mx/salud/prensa/098-con-esquem...</td>\n",
              "    </tr>\n",
              "    <tr>\n",
              "      <th>3239</th>\n",
              "      <td>Mexico</td>\n",
              "      <td>MEX</td>\n",
              "      <td>2020-12-26</td>\n",
              "      <td>NaN</td>\n",
              "      <td>NaN</td>\n",
              "      <td>NaN</td>\n",
              "      <td>NaN</td>\n",
              "      <td>1300.0</td>\n",
              "      <td>NaN</td>\n",
              "      <td>NaN</td>\n",
              "      <td>NaN</td>\n",
              "      <td>10.0</td>\n",
              "      <td>Oxford/AstraZeneca, Pfizer/BioNTech, Sputnik V</td>\n",
              "      <td>Secretary of Health</td>\n",
              "      <td>https://www.gob.mx/salud/prensa/098-con-esquem...</td>\n",
              "    </tr>\n",
              "    <tr>\n",
              "      <th>3240</th>\n",
              "      <td>Mexico</td>\n",
              "      <td>MEX</td>\n",
              "      <td>2020-12-27</td>\n",
              "      <td>6824.0</td>\n",
              "      <td>6824.0</td>\n",
              "      <td>NaN</td>\n",
              "      <td>NaN</td>\n",
              "      <td>1300.0</td>\n",
              "      <td>0.01</td>\n",
              "      <td>0.01</td>\n",
              "      <td>NaN</td>\n",
              "      <td>10.0</td>\n",
              "      <td>Oxford/AstraZeneca, Pfizer/BioNTech, Sputnik V</td>\n",
              "      <td>Secretary of Health</td>\n",
              "      <td>https://www.gob.mx/salud/prensa/098-con-esquem...</td>\n",
              "    </tr>\n",
              "    <tr>\n",
              "      <th>3241</th>\n",
              "      <td>Mexico</td>\n",
              "      <td>MEX</td>\n",
              "      <td>2020-12-28</td>\n",
              "      <td>9579.0</td>\n",
              "      <td>9579.0</td>\n",
              "      <td>NaN</td>\n",
              "      <td>2755.0</td>\n",
              "      <td>1664.0</td>\n",
              "      <td>0.01</td>\n",
              "      <td>0.01</td>\n",
              "      <td>NaN</td>\n",
              "      <td>13.0</td>\n",
              "      <td>Oxford/AstraZeneca, Pfizer/BioNTech, Sputnik V</td>\n",
              "      <td>Secretary of Health</td>\n",
              "      <td>https://www.gob.mx/salud/prensa/098-con-esquem...</td>\n",
              "    </tr>\n",
              "    <tr>\n",
              "      <th>...</th>\n",
              "      <td>...</td>\n",
              "      <td>...</td>\n",
              "      <td>...</td>\n",
              "      <td>...</td>\n",
              "      <td>...</td>\n",
              "      <td>...</td>\n",
              "      <td>...</td>\n",
              "      <td>...</td>\n",
              "      <td>...</td>\n",
              "      <td>...</td>\n",
              "      <td>...</td>\n",
              "      <td>...</td>\n",
              "      <td>...</td>\n",
              "      <td>...</td>\n",
              "      <td>...</td>\n",
              "    </tr>\n",
              "    <tr>\n",
              "      <th>3305</th>\n",
              "      <td>Mexico</td>\n",
              "      <td>MEX</td>\n",
              "      <td>2021-03-02</td>\n",
              "      <td>2583435.0</td>\n",
              "      <td>2012853.0</td>\n",
              "      <td>570582.0</td>\n",
              "      <td>56572.0</td>\n",
              "      <td>111754.0</td>\n",
              "      <td>2.00</td>\n",
              "      <td>1.56</td>\n",
              "      <td>0.44</td>\n",
              "      <td>867.0</td>\n",
              "      <td>Oxford/AstraZeneca, Pfizer/BioNTech, Sputnik V</td>\n",
              "      <td>Secretary of Health</td>\n",
              "      <td>https://www.gob.mx/salud/prensa/098-con-esquem...</td>\n",
              "    </tr>\n",
              "    <tr>\n",
              "      <th>3306</th>\n",
              "      <td>Mexico</td>\n",
              "      <td>MEX</td>\n",
              "      <td>2021-03-03</td>\n",
              "      <td>2633580.0</td>\n",
              "      <td>2043941.0</td>\n",
              "      <td>589639.0</td>\n",
              "      <td>50145.0</td>\n",
              "      <td>104685.0</td>\n",
              "      <td>2.04</td>\n",
              "      <td>1.59</td>\n",
              "      <td>0.46</td>\n",
              "      <td>812.0</td>\n",
              "      <td>Oxford/AstraZeneca, Pfizer/BioNTech, Sputnik V</td>\n",
              "      <td>Secretary of Health</td>\n",
              "      <td>https://www.gob.mx/salud/prensa/098-con-esquem...</td>\n",
              "    </tr>\n",
              "    <tr>\n",
              "      <th>3307</th>\n",
              "      <td>Mexico</td>\n",
              "      <td>MEX</td>\n",
              "      <td>2021-03-04</td>\n",
              "      <td>2676035.0</td>\n",
              "      <td>NaN</td>\n",
              "      <td>NaN</td>\n",
              "      <td>42455.0</td>\n",
              "      <td>83889.0</td>\n",
              "      <td>2.08</td>\n",
              "      <td>NaN</td>\n",
              "      <td>NaN</td>\n",
              "      <td>651.0</td>\n",
              "      <td>Oxford/AstraZeneca, Pfizer/BioNTech, Sputnik V</td>\n",
              "      <td>Secretary of Health</td>\n",
              "      <td>https://www.gob.mx/salud/prensa/098-con-esquem...</td>\n",
              "    </tr>\n",
              "    <tr>\n",
              "      <th>3308</th>\n",
              "      <td>Mexico</td>\n",
              "      <td>MEX</td>\n",
              "      <td>2021-03-05</td>\n",
              "      <td>2731900.0</td>\n",
              "      <td>2128766.0</td>\n",
              "      <td>603134.0</td>\n",
              "      <td>55865.0</td>\n",
              "      <td>65838.0</td>\n",
              "      <td>2.12</td>\n",
              "      <td>1.65</td>\n",
              "      <td>0.47</td>\n",
              "      <td>511.0</td>\n",
              "      <td>Oxford/AstraZeneca, Pfizer/BioNTech, Sputnik V</td>\n",
              "      <td>Secretary of Health</td>\n",
              "      <td>https://www.gob.mx/salud/prensa/098-con-esquem...</td>\n",
              "    </tr>\n",
              "    <tr>\n",
              "      <th>3309</th>\n",
              "      <td>Mexico</td>\n",
              "      <td>MEX</td>\n",
              "      <td>2021-03-06</td>\n",
              "      <td>2765805.0</td>\n",
              "      <td>2162358.0</td>\n",
              "      <td>603447.0</td>\n",
              "      <td>33905.0</td>\n",
              "      <td>54628.0</td>\n",
              "      <td>2.15</td>\n",
              "      <td>1.68</td>\n",
              "      <td>0.47</td>\n",
              "      <td>424.0</td>\n",
              "      <td>Oxford/AstraZeneca, Pfizer/BioNTech, Sputnik V</td>\n",
              "      <td>Secretary of Health</td>\n",
              "      <td>https://www.gob.mx/salud/prensa/098-con-esquem...</td>\n",
              "    </tr>\n",
              "  </tbody>\n",
              "</table>\n",
              "<p>73 rows × 15 columns</p>\n",
              "</div>"
            ],
            "text/plain": [
              "     country  ...                                     source_website\n",
              "3237  Mexico  ...  https://www.gob.mx/salud/prensa/098-con-esquem...\n",
              "3238  Mexico  ...  https://www.gob.mx/salud/prensa/098-con-esquem...\n",
              "3239  Mexico  ...  https://www.gob.mx/salud/prensa/098-con-esquem...\n",
              "3240  Mexico  ...  https://www.gob.mx/salud/prensa/098-con-esquem...\n",
              "3241  Mexico  ...  https://www.gob.mx/salud/prensa/098-con-esquem...\n",
              "...      ...  ...                                                ...\n",
              "3305  Mexico  ...  https://www.gob.mx/salud/prensa/098-con-esquem...\n",
              "3306  Mexico  ...  https://www.gob.mx/salud/prensa/098-con-esquem...\n",
              "3307  Mexico  ...  https://www.gob.mx/salud/prensa/098-con-esquem...\n",
              "3308  Mexico  ...  https://www.gob.mx/salud/prensa/098-con-esquem...\n",
              "3309  Mexico  ...  https://www.gob.mx/salud/prensa/098-con-esquem...\n",
              "\n",
              "[73 rows x 15 columns]"
            ]
          },
          "metadata": {
            "tags": []
          },
          "execution_count": 61
        }
      ]
    },
    {
      "cell_type": "code",
      "metadata": {
        "colab": {
          "base_uri": "https://localhost:8080/"
        },
        "id": "56cUQD53ci6u",
        "outputId": "f4f88c1c-dc9e-4ba6-bd31-c1e924139ec1"
      },
      "source": [
        "df_mexico.isna().sum(axis=0)"
      ],
      "execution_count": null,
      "outputs": [
        {
          "output_type": "execute_result",
          "data": {
            "text/plain": [
              "country                                 0\n",
              "iso_code                                0\n",
              "date                                    0\n",
              "total_vaccinations                      7\n",
              "people_vaccinated                       9\n",
              "people_fully_vaccinated                25\n",
              "daily_vaccinations_raw                 11\n",
              "daily_vaccinations                      1\n",
              "total_vaccinations_per_hundred          7\n",
              "people_vaccinated_per_hundred           9\n",
              "people_fully_vaccinated_per_hundred    25\n",
              "daily_vaccinations_per_million          1\n",
              "vaccines                                0\n",
              "source_name                             0\n",
              "source_website                          0\n",
              "dtype: int64"
            ]
          },
          "metadata": {
            "tags": []
          },
          "execution_count": 13
        }
      ]
    },
    {
      "cell_type": "code",
      "metadata": {
        "colab": {
          "base_uri": "https://localhost:8080/",
          "height": 782
        },
        "id": "Utw6UwOZubTP",
        "outputId": "f4b8c86e-0c80-4655-8e16-67e6f73584ed"
      },
      "source": [
        "#ELIMINAMOS FILAS QUE TENGAN MAS DE 5 NaNs\r\n",
        "df_mexico_filtraNaNs=df_mexico.dropna(subset=[\"total_vaccinations\",\"people_vaccinated\",\"people_fully_vaccinated\",\"daily_vaccinations_raw\",\"daily_vaccinations\",\"total_vaccinations_per_hundred\",\"people_vaccinated_per_hundred\",\"people_fully_vaccinated_per_hundred\",\"daily_vaccinations_per_million\"],thresh=5)\r\n",
        "df_mexico_filtraNaNs\r\n"
      ],
      "execution_count": null,
      "outputs": [
        {
          "output_type": "execute_result",
          "data": {
            "text/html": [
              "<div>\n",
              "<style scoped>\n",
              "    .dataframe tbody tr th:only-of-type {\n",
              "        vertical-align: middle;\n",
              "    }\n",
              "\n",
              "    .dataframe tbody tr th {\n",
              "        vertical-align: top;\n",
              "    }\n",
              "\n",
              "    .dataframe thead th {\n",
              "        text-align: right;\n",
              "    }\n",
              "</style>\n",
              "<table border=\"1\" class=\"dataframe\">\n",
              "  <thead>\n",
              "    <tr style=\"text-align: right;\">\n",
              "      <th></th>\n",
              "      <th>country</th>\n",
              "      <th>iso_code</th>\n",
              "      <th>date</th>\n",
              "      <th>total_vaccinations</th>\n",
              "      <th>people_vaccinated</th>\n",
              "      <th>people_fully_vaccinated</th>\n",
              "      <th>daily_vaccinations_raw</th>\n",
              "      <th>daily_vaccinations</th>\n",
              "      <th>total_vaccinations_per_hundred</th>\n",
              "      <th>people_vaccinated_per_hundred</th>\n",
              "      <th>people_fully_vaccinated_per_hundred</th>\n",
              "      <th>daily_vaccinations_per_million</th>\n",
              "      <th>vaccines</th>\n",
              "      <th>source_name</th>\n",
              "      <th>source_website</th>\n",
              "    </tr>\n",
              "  </thead>\n",
              "  <tbody>\n",
              "    <tr>\n",
              "      <th>3240</th>\n",
              "      <td>Mexico</td>\n",
              "      <td>MEX</td>\n",
              "      <td>2020-12-27</td>\n",
              "      <td>6824.0</td>\n",
              "      <td>6824.0</td>\n",
              "      <td>NaN</td>\n",
              "      <td>NaN</td>\n",
              "      <td>1300.0</td>\n",
              "      <td>0.01</td>\n",
              "      <td>0.01</td>\n",
              "      <td>NaN</td>\n",
              "      <td>10.0</td>\n",
              "      <td>Oxford/AstraZeneca, Pfizer/BioNTech, Sputnik V</td>\n",
              "      <td>Secretary of Health</td>\n",
              "      <td>https://www.gob.mx/salud/prensa/098-con-esquem...</td>\n",
              "    </tr>\n",
              "    <tr>\n",
              "      <th>3241</th>\n",
              "      <td>Mexico</td>\n",
              "      <td>MEX</td>\n",
              "      <td>2020-12-28</td>\n",
              "      <td>9579.0</td>\n",
              "      <td>9579.0</td>\n",
              "      <td>NaN</td>\n",
              "      <td>2755.0</td>\n",
              "      <td>1664.0</td>\n",
              "      <td>0.01</td>\n",
              "      <td>0.01</td>\n",
              "      <td>NaN</td>\n",
              "      <td>13.0</td>\n",
              "      <td>Oxford/AstraZeneca, Pfizer/BioNTech, Sputnik V</td>\n",
              "      <td>Secretary of Health</td>\n",
              "      <td>https://www.gob.mx/salud/prensa/098-con-esquem...</td>\n",
              "    </tr>\n",
              "    <tr>\n",
              "      <th>3242</th>\n",
              "      <td>Mexico</td>\n",
              "      <td>MEX</td>\n",
              "      <td>2020-12-29</td>\n",
              "      <td>18529.0</td>\n",
              "      <td>18529.0</td>\n",
              "      <td>NaN</td>\n",
              "      <td>8950.0</td>\n",
              "      <td>3121.0</td>\n",
              "      <td>0.01</td>\n",
              "      <td>0.01</td>\n",
              "      <td>NaN</td>\n",
              "      <td>24.0</td>\n",
              "      <td>Oxford/AstraZeneca, Pfizer/BioNTech, Sputnik V</td>\n",
              "      <td>Secretary of Health</td>\n",
              "      <td>https://www.gob.mx/salud/prensa/098-con-esquem...</td>\n",
              "    </tr>\n",
              "    <tr>\n",
              "      <th>3243</th>\n",
              "      <td>Mexico</td>\n",
              "      <td>MEX</td>\n",
              "      <td>2020-12-30</td>\n",
              "      <td>24998.0</td>\n",
              "      <td>24998.0</td>\n",
              "      <td>NaN</td>\n",
              "      <td>6469.0</td>\n",
              "      <td>3679.0</td>\n",
              "      <td>0.02</td>\n",
              "      <td>0.02</td>\n",
              "      <td>NaN</td>\n",
              "      <td>29.0</td>\n",
              "      <td>Oxford/AstraZeneca, Pfizer/BioNTech, Sputnik V</td>\n",
              "      <td>Secretary of Health</td>\n",
              "      <td>https://www.gob.mx/salud/prensa/098-con-esquem...</td>\n",
              "    </tr>\n",
              "    <tr>\n",
              "      <th>3248</th>\n",
              "      <td>Mexico</td>\n",
              "      <td>MEX</td>\n",
              "      <td>2021-01-04</td>\n",
              "      <td>43960.0</td>\n",
              "      <td>43960.0</td>\n",
              "      <td>NaN</td>\n",
              "      <td>NaN</td>\n",
              "      <td>4912.0</td>\n",
              "      <td>0.03</td>\n",
              "      <td>0.03</td>\n",
              "      <td>NaN</td>\n",
              "      <td>38.0</td>\n",
              "      <td>Oxford/AstraZeneca, Pfizer/BioNTech, Sputnik V</td>\n",
              "      <td>Secretary of Health</td>\n",
              "      <td>https://www.gob.mx/salud/prensa/098-con-esquem...</td>\n",
              "    </tr>\n",
              "    <tr>\n",
              "      <th>...</th>\n",
              "      <td>...</td>\n",
              "      <td>...</td>\n",
              "      <td>...</td>\n",
              "      <td>...</td>\n",
              "      <td>...</td>\n",
              "      <td>...</td>\n",
              "      <td>...</td>\n",
              "      <td>...</td>\n",
              "      <td>...</td>\n",
              "      <td>...</td>\n",
              "      <td>...</td>\n",
              "      <td>...</td>\n",
              "      <td>...</td>\n",
              "      <td>...</td>\n",
              "      <td>...</td>\n",
              "    </tr>\n",
              "    <tr>\n",
              "      <th>3305</th>\n",
              "      <td>Mexico</td>\n",
              "      <td>MEX</td>\n",
              "      <td>2021-03-02</td>\n",
              "      <td>2583435.0</td>\n",
              "      <td>2012853.0</td>\n",
              "      <td>570582.0</td>\n",
              "      <td>56572.0</td>\n",
              "      <td>111754.0</td>\n",
              "      <td>2.00</td>\n",
              "      <td>1.56</td>\n",
              "      <td>0.44</td>\n",
              "      <td>867.0</td>\n",
              "      <td>Oxford/AstraZeneca, Pfizer/BioNTech, Sputnik V</td>\n",
              "      <td>Secretary of Health</td>\n",
              "      <td>https://www.gob.mx/salud/prensa/098-con-esquem...</td>\n",
              "    </tr>\n",
              "    <tr>\n",
              "      <th>3306</th>\n",
              "      <td>Mexico</td>\n",
              "      <td>MEX</td>\n",
              "      <td>2021-03-03</td>\n",
              "      <td>2633580.0</td>\n",
              "      <td>2043941.0</td>\n",
              "      <td>589639.0</td>\n",
              "      <td>50145.0</td>\n",
              "      <td>104685.0</td>\n",
              "      <td>2.04</td>\n",
              "      <td>1.59</td>\n",
              "      <td>0.46</td>\n",
              "      <td>812.0</td>\n",
              "      <td>Oxford/AstraZeneca, Pfizer/BioNTech, Sputnik V</td>\n",
              "      <td>Secretary of Health</td>\n",
              "      <td>https://www.gob.mx/salud/prensa/098-con-esquem...</td>\n",
              "    </tr>\n",
              "    <tr>\n",
              "      <th>3307</th>\n",
              "      <td>Mexico</td>\n",
              "      <td>MEX</td>\n",
              "      <td>2021-03-04</td>\n",
              "      <td>2676035.0</td>\n",
              "      <td>NaN</td>\n",
              "      <td>NaN</td>\n",
              "      <td>42455.0</td>\n",
              "      <td>83889.0</td>\n",
              "      <td>2.08</td>\n",
              "      <td>NaN</td>\n",
              "      <td>NaN</td>\n",
              "      <td>651.0</td>\n",
              "      <td>Oxford/AstraZeneca, Pfizer/BioNTech, Sputnik V</td>\n",
              "      <td>Secretary of Health</td>\n",
              "      <td>https://www.gob.mx/salud/prensa/098-con-esquem...</td>\n",
              "    </tr>\n",
              "    <tr>\n",
              "      <th>3308</th>\n",
              "      <td>Mexico</td>\n",
              "      <td>MEX</td>\n",
              "      <td>2021-03-05</td>\n",
              "      <td>2731900.0</td>\n",
              "      <td>2128766.0</td>\n",
              "      <td>603134.0</td>\n",
              "      <td>55865.0</td>\n",
              "      <td>65838.0</td>\n",
              "      <td>2.12</td>\n",
              "      <td>1.65</td>\n",
              "      <td>0.47</td>\n",
              "      <td>511.0</td>\n",
              "      <td>Oxford/AstraZeneca, Pfizer/BioNTech, Sputnik V</td>\n",
              "      <td>Secretary of Health</td>\n",
              "      <td>https://www.gob.mx/salud/prensa/098-con-esquem...</td>\n",
              "    </tr>\n",
              "    <tr>\n",
              "      <th>3309</th>\n",
              "      <td>Mexico</td>\n",
              "      <td>MEX</td>\n",
              "      <td>2021-03-06</td>\n",
              "      <td>2765805.0</td>\n",
              "      <td>2162358.0</td>\n",
              "      <td>603447.0</td>\n",
              "      <td>33905.0</td>\n",
              "      <td>54628.0</td>\n",
              "      <td>2.15</td>\n",
              "      <td>1.68</td>\n",
              "      <td>0.47</td>\n",
              "      <td>424.0</td>\n",
              "      <td>Oxford/AstraZeneca, Pfizer/BioNTech, Sputnik V</td>\n",
              "      <td>Secretary of Health</td>\n",
              "      <td>https://www.gob.mx/salud/prensa/098-con-esquem...</td>\n",
              "    </tr>\n",
              "  </tbody>\n",
              "</table>\n",
              "<p>65 rows × 15 columns</p>\n",
              "</div>"
            ],
            "text/plain": [
              "     country  ...                                     source_website\n",
              "3240  Mexico  ...  https://www.gob.mx/salud/prensa/098-con-esquem...\n",
              "3241  Mexico  ...  https://www.gob.mx/salud/prensa/098-con-esquem...\n",
              "3242  Mexico  ...  https://www.gob.mx/salud/prensa/098-con-esquem...\n",
              "3243  Mexico  ...  https://www.gob.mx/salud/prensa/098-con-esquem...\n",
              "3248  Mexico  ...  https://www.gob.mx/salud/prensa/098-con-esquem...\n",
              "...      ...  ...                                                ...\n",
              "3305  Mexico  ...  https://www.gob.mx/salud/prensa/098-con-esquem...\n",
              "3306  Mexico  ...  https://www.gob.mx/salud/prensa/098-con-esquem...\n",
              "3307  Mexico  ...  https://www.gob.mx/salud/prensa/098-con-esquem...\n",
              "3308  Mexico  ...  https://www.gob.mx/salud/prensa/098-con-esquem...\n",
              "3309  Mexico  ...  https://www.gob.mx/salud/prensa/098-con-esquem...\n",
              "\n",
              "[65 rows x 15 columns]"
            ]
          },
          "metadata": {
            "tags": []
          },
          "execution_count": 62
        }
      ]
    },
    {
      "cell_type": "markdown",
      "metadata": {
        "id": "jeTvEHyjx744"
      },
      "source": [
        "\r\n",
        "\r\n",
        "*   Imputamos variables faltantes\r\n",
        "\r\n",
        "\r\n"
      ]
    },
    {
      "cell_type": "code",
      "metadata": {
        "colab": {
          "base_uri": "https://localhost:8080/"
        },
        "id": "Pem59k7bpIrt",
        "outputId": "39963203-8c64-4d5f-f475-f4734ce10f35"
      },
      "source": [
        "#LIBRERIA PARA IMPUTAR VARIABLES\r\n",
        "pip install missingpy\r\n"
      ],
      "execution_count": null,
      "outputs": [
        {
          "output_type": "stream",
          "text": [
            "Requirement already satisfied: missingpy in /usr/local/lib/python3.7/dist-packages (0.2.0)\n"
          ],
          "name": "stdout"
        }
      ]
    },
    {
      "cell_type": "code",
      "metadata": {
        "id": "qcar5wdCppF4"
      },
      "source": [
        "dfNA= df_mexico_filtraNaNs[[\"total_vaccinations\",\"people_vaccinated\",\"people_fully_vaccinated\",\"daily_vaccinations_raw\",\"daily_vaccinations\",\"total_vaccinations_per_hundred\",\"people_vaccinated_per_hundred\",\"people_fully_vaccinated_per_hundred\",\"daily_vaccinations_per_million\"]]"
      ],
      "execution_count": null,
      "outputs": []
    },
    {
      "cell_type": "code",
      "metadata": {
        "colab": {
          "base_uri": "https://localhost:8080/"
        },
        "id": "GlCKKTKspNDS",
        "outputId": "b2fe9a52-fa8d-4293-f48e-6cb1e23ac5e7"
      },
      "source": [
        "from missingpy import  KNNImputer\r\n",
        "imp = KNNImputer(n_neighbors=4,weights=\"uniform\")\r\n",
        "X=imp.fit_transform(dfNA)"
      ],
      "execution_count": null,
      "outputs": [
        {
          "output_type": "stream",
          "text": [
            "/usr/local/lib/python3.7/dist-packages/missingpy/pairwise_external.py:135: FutureWarning: 'warn_on_dtype' is deprecated in version 0.21 and will be removed in 0.23. Don't set `warn_on_dtype` to remove this warning.\n",
            "  warn_on_dtype=warn_on_dtype, estimator=estimator)\n",
            "/usr/local/lib/python3.7/dist-packages/missingpy/pairwise_external.py:138: FutureWarning: 'warn_on_dtype' is deprecated in version 0.21 and will be removed in 0.23. Don't set `warn_on_dtype` to remove this warning.\n",
            "  warn_on_dtype=warn_on_dtype, estimator=estimator)\n"
          ],
          "name": "stderr"
        }
      ]
    },
    {
      "cell_type": "code",
      "metadata": {
        "colab": {
          "base_uri": "https://localhost:8080/"
        },
        "id": "XD7kAkBRq54J",
        "outputId": "292f2d1d-8095-46fd-98a4-3f7cadf6ff95"
      },
      "source": [
        "df_mexico_filtraNaNs[[\"total_vaccinations\",\"people_vaccinated\",\r\n",
        "\"people_fully_vaccinated\",\"daily_vaccinations_raw\",\"daily_vaccinations\",\"total_vaccinations_per_hundred\",\"people_vaccinated_per_hundred\",\"people_fully_vaccinated_per_hundred\",\"daily_vaccinations_per_million\"]] = X"
      ],
      "execution_count": null,
      "outputs": [
        {
          "output_type": "stream",
          "text": [
            "/usr/local/lib/python3.7/dist-packages/ipykernel_launcher.py:2: SettingWithCopyWarning: \n",
            "A value is trying to be set on a copy of a slice from a DataFrame.\n",
            "Try using .loc[row_indexer,col_indexer] = value instead\n",
            "\n",
            "See the caveats in the documentation: https://pandas.pydata.org/pandas-docs/stable/user_guide/indexing.html#returning-a-view-versus-a-copy\n",
            "  \n",
            "/usr/local/lib/python3.7/dist-packages/pandas/core/indexing.py:1734: SettingWithCopyWarning: \n",
            "A value is trying to be set on a copy of a slice from a DataFrame.\n",
            "Try using .loc[row_indexer,col_indexer] = value instead\n",
            "\n",
            "See the caveats in the documentation: https://pandas.pydata.org/pandas-docs/stable/user_guide/indexing.html#returning-a-view-versus-a-copy\n",
            "  isetter(loc, value[:, i].tolist())\n"
          ],
          "name": "stderr"
        }
      ]
    },
    {
      "cell_type": "code",
      "metadata": {
        "colab": {
          "base_uri": "https://localhost:8080/",
          "height": 782
        },
        "id": "xD7pzMzvrxf4",
        "outputId": "5e16a91d-4cee-4c66-ff3c-fd447a672821"
      },
      "source": [
        "df_mexico_filtraNaNs"
      ],
      "execution_count": null,
      "outputs": [
        {
          "output_type": "execute_result",
          "data": {
            "text/html": [
              "<div>\n",
              "<style scoped>\n",
              "    .dataframe tbody tr th:only-of-type {\n",
              "        vertical-align: middle;\n",
              "    }\n",
              "\n",
              "    .dataframe tbody tr th {\n",
              "        vertical-align: top;\n",
              "    }\n",
              "\n",
              "    .dataframe thead th {\n",
              "        text-align: right;\n",
              "    }\n",
              "</style>\n",
              "<table border=\"1\" class=\"dataframe\">\n",
              "  <thead>\n",
              "    <tr style=\"text-align: right;\">\n",
              "      <th></th>\n",
              "      <th>country</th>\n",
              "      <th>iso_code</th>\n",
              "      <th>date</th>\n",
              "      <th>total_vaccinations</th>\n",
              "      <th>people_vaccinated</th>\n",
              "      <th>people_fully_vaccinated</th>\n",
              "      <th>daily_vaccinations_raw</th>\n",
              "      <th>daily_vaccinations</th>\n",
              "      <th>total_vaccinations_per_hundred</th>\n",
              "      <th>people_vaccinated_per_hundred</th>\n",
              "      <th>people_fully_vaccinated_per_hundred</th>\n",
              "      <th>daily_vaccinations_per_million</th>\n",
              "      <th>vaccines</th>\n",
              "      <th>source_name</th>\n",
              "      <th>source_website</th>\n",
              "    </tr>\n",
              "  </thead>\n",
              "  <tbody>\n",
              "    <tr>\n",
              "      <th>3240</th>\n",
              "      <td>Mexico</td>\n",
              "      <td>MEX</td>\n",
              "      <td>2020-12-27</td>\n",
              "      <td>6824.0</td>\n",
              "      <td>6824.0</td>\n",
              "      <td>3539.75</td>\n",
              "      <td>5612.50</td>\n",
              "      <td>1300.0</td>\n",
              "      <td>0.01</td>\n",
              "      <td>0.01</td>\n",
              "      <td>0.0025</td>\n",
              "      <td>10.0</td>\n",
              "      <td>Oxford/AstraZeneca, Pfizer/BioNTech, Sputnik V</td>\n",
              "      <td>Secretary of Health</td>\n",
              "      <td>https://www.gob.mx/salud/prensa/098-con-esquem...</td>\n",
              "    </tr>\n",
              "    <tr>\n",
              "      <th>3241</th>\n",
              "      <td>Mexico</td>\n",
              "      <td>MEX</td>\n",
              "      <td>2020-12-28</td>\n",
              "      <td>9579.0</td>\n",
              "      <td>9579.0</td>\n",
              "      <td>3539.75</td>\n",
              "      <td>2755.00</td>\n",
              "      <td>1664.0</td>\n",
              "      <td>0.01</td>\n",
              "      <td>0.01</td>\n",
              "      <td>0.0025</td>\n",
              "      <td>13.0</td>\n",
              "      <td>Oxford/AstraZeneca, Pfizer/BioNTech, Sputnik V</td>\n",
              "      <td>Secretary of Health</td>\n",
              "      <td>https://www.gob.mx/salud/prensa/098-con-esquem...</td>\n",
              "    </tr>\n",
              "    <tr>\n",
              "      <th>3242</th>\n",
              "      <td>Mexico</td>\n",
              "      <td>MEX</td>\n",
              "      <td>2020-12-29</td>\n",
              "      <td>18529.0</td>\n",
              "      <td>18529.0</td>\n",
              "      <td>3539.75</td>\n",
              "      <td>8950.00</td>\n",
              "      <td>3121.0</td>\n",
              "      <td>0.01</td>\n",
              "      <td>0.01</td>\n",
              "      <td>0.0025</td>\n",
              "      <td>24.0</td>\n",
              "      <td>Oxford/AstraZeneca, Pfizer/BioNTech, Sputnik V</td>\n",
              "      <td>Secretary of Health</td>\n",
              "      <td>https://www.gob.mx/salud/prensa/098-con-esquem...</td>\n",
              "    </tr>\n",
              "    <tr>\n",
              "      <th>3243</th>\n",
              "      <td>Mexico</td>\n",
              "      <td>MEX</td>\n",
              "      <td>2020-12-30</td>\n",
              "      <td>24998.0</td>\n",
              "      <td>24998.0</td>\n",
              "      <td>3539.75</td>\n",
              "      <td>6469.00</td>\n",
              "      <td>3679.0</td>\n",
              "      <td>0.02</td>\n",
              "      <td>0.02</td>\n",
              "      <td>0.0025</td>\n",
              "      <td>29.0</td>\n",
              "      <td>Oxford/AstraZeneca, Pfizer/BioNTech, Sputnik V</td>\n",
              "      <td>Secretary of Health</td>\n",
              "      <td>https://www.gob.mx/salud/prensa/098-con-esquem...</td>\n",
              "    </tr>\n",
              "    <tr>\n",
              "      <th>3248</th>\n",
              "      <td>Mexico</td>\n",
              "      <td>MEX</td>\n",
              "      <td>2021-01-04</td>\n",
              "      <td>43960.0</td>\n",
              "      <td>43960.0</td>\n",
              "      <td>3539.75</td>\n",
              "      <td>5227.75</td>\n",
              "      <td>4912.0</td>\n",
              "      <td>0.03</td>\n",
              "      <td>0.03</td>\n",
              "      <td>0.0025</td>\n",
              "      <td>38.0</td>\n",
              "      <td>Oxford/AstraZeneca, Pfizer/BioNTech, Sputnik V</td>\n",
              "      <td>Secretary of Health</td>\n",
              "      <td>https://www.gob.mx/salud/prensa/098-con-esquem...</td>\n",
              "    </tr>\n",
              "    <tr>\n",
              "      <th>...</th>\n",
              "      <td>...</td>\n",
              "      <td>...</td>\n",
              "      <td>...</td>\n",
              "      <td>...</td>\n",
              "      <td>...</td>\n",
              "      <td>...</td>\n",
              "      <td>...</td>\n",
              "      <td>...</td>\n",
              "      <td>...</td>\n",
              "      <td>...</td>\n",
              "      <td>...</td>\n",
              "      <td>...</td>\n",
              "      <td>...</td>\n",
              "      <td>...</td>\n",
              "      <td>...</td>\n",
              "    </tr>\n",
              "    <tr>\n",
              "      <th>3305</th>\n",
              "      <td>Mexico</td>\n",
              "      <td>MEX</td>\n",
              "      <td>2021-03-02</td>\n",
              "      <td>2583435.0</td>\n",
              "      <td>2012853.0</td>\n",
              "      <td>570582.00</td>\n",
              "      <td>56572.00</td>\n",
              "      <td>111754.0</td>\n",
              "      <td>2.00</td>\n",
              "      <td>1.56</td>\n",
              "      <td>0.4400</td>\n",
              "      <td>867.0</td>\n",
              "      <td>Oxford/AstraZeneca, Pfizer/BioNTech, Sputnik V</td>\n",
              "      <td>Secretary of Health</td>\n",
              "      <td>https://www.gob.mx/salud/prensa/098-con-esquem...</td>\n",
              "    </tr>\n",
              "    <tr>\n",
              "      <th>3306</th>\n",
              "      <td>Mexico</td>\n",
              "      <td>MEX</td>\n",
              "      <td>2021-03-03</td>\n",
              "      <td>2633580.0</td>\n",
              "      <td>2043941.0</td>\n",
              "      <td>589639.00</td>\n",
              "      <td>50145.00</td>\n",
              "      <td>104685.0</td>\n",
              "      <td>2.04</td>\n",
              "      <td>1.59</td>\n",
              "      <td>0.4600</td>\n",
              "      <td>812.0</td>\n",
              "      <td>Oxford/AstraZeneca, Pfizer/BioNTech, Sputnik V</td>\n",
              "      <td>Secretary of Health</td>\n",
              "      <td>https://www.gob.mx/salud/prensa/098-con-esquem...</td>\n",
              "    </tr>\n",
              "    <tr>\n",
              "      <th>3307</th>\n",
              "      <td>Mexico</td>\n",
              "      <td>MEX</td>\n",
              "      <td>2021-03-04</td>\n",
              "      <td>2676035.0</td>\n",
              "      <td>2086979.5</td>\n",
              "      <td>591700.50</td>\n",
              "      <td>42455.00</td>\n",
              "      <td>83889.0</td>\n",
              "      <td>2.08</td>\n",
              "      <td>1.62</td>\n",
              "      <td>0.4600</td>\n",
              "      <td>651.0</td>\n",
              "      <td>Oxford/AstraZeneca, Pfizer/BioNTech, Sputnik V</td>\n",
              "      <td>Secretary of Health</td>\n",
              "      <td>https://www.gob.mx/salud/prensa/098-con-esquem...</td>\n",
              "    </tr>\n",
              "    <tr>\n",
              "      <th>3308</th>\n",
              "      <td>Mexico</td>\n",
              "      <td>MEX</td>\n",
              "      <td>2021-03-05</td>\n",
              "      <td>2731900.0</td>\n",
              "      <td>2128766.0</td>\n",
              "      <td>603134.00</td>\n",
              "      <td>55865.00</td>\n",
              "      <td>65838.0</td>\n",
              "      <td>2.12</td>\n",
              "      <td>1.65</td>\n",
              "      <td>0.4700</td>\n",
              "      <td>511.0</td>\n",
              "      <td>Oxford/AstraZeneca, Pfizer/BioNTech, Sputnik V</td>\n",
              "      <td>Secretary of Health</td>\n",
              "      <td>https://www.gob.mx/salud/prensa/098-con-esquem...</td>\n",
              "    </tr>\n",
              "    <tr>\n",
              "      <th>3309</th>\n",
              "      <td>Mexico</td>\n",
              "      <td>MEX</td>\n",
              "      <td>2021-03-06</td>\n",
              "      <td>2765805.0</td>\n",
              "      <td>2162358.0</td>\n",
              "      <td>603447.00</td>\n",
              "      <td>33905.00</td>\n",
              "      <td>54628.0</td>\n",
              "      <td>2.15</td>\n",
              "      <td>1.68</td>\n",
              "      <td>0.4700</td>\n",
              "      <td>424.0</td>\n",
              "      <td>Oxford/AstraZeneca, Pfizer/BioNTech, Sputnik V</td>\n",
              "      <td>Secretary of Health</td>\n",
              "      <td>https://www.gob.mx/salud/prensa/098-con-esquem...</td>\n",
              "    </tr>\n",
              "  </tbody>\n",
              "</table>\n",
              "<p>65 rows × 15 columns</p>\n",
              "</div>"
            ],
            "text/plain": [
              "     country  ...                                     source_website\n",
              "3240  Mexico  ...  https://www.gob.mx/salud/prensa/098-con-esquem...\n",
              "3241  Mexico  ...  https://www.gob.mx/salud/prensa/098-con-esquem...\n",
              "3242  Mexico  ...  https://www.gob.mx/salud/prensa/098-con-esquem...\n",
              "3243  Mexico  ...  https://www.gob.mx/salud/prensa/098-con-esquem...\n",
              "3248  Mexico  ...  https://www.gob.mx/salud/prensa/098-con-esquem...\n",
              "...      ...  ...                                                ...\n",
              "3305  Mexico  ...  https://www.gob.mx/salud/prensa/098-con-esquem...\n",
              "3306  Mexico  ...  https://www.gob.mx/salud/prensa/098-con-esquem...\n",
              "3307  Mexico  ...  https://www.gob.mx/salud/prensa/098-con-esquem...\n",
              "3308  Mexico  ...  https://www.gob.mx/salud/prensa/098-con-esquem...\n",
              "3309  Mexico  ...  https://www.gob.mx/salud/prensa/098-con-esquem...\n",
              "\n",
              "[65 rows x 15 columns]"
            ]
          },
          "metadata": {
            "tags": []
          },
          "execution_count": 67
        }
      ]
    },
    {
      "cell_type": "code",
      "metadata": {
        "colab": {
          "base_uri": "https://localhost:8080/"
        },
        "id": "1nAjLdBEyTrn",
        "outputId": "542b7485-0836-4e3c-9bd2-57058d4e314f"
      },
      "source": [
        "df_mexico_filtraNaNs.isna().sum(axis=0)"
      ],
      "execution_count": null,
      "outputs": [
        {
          "output_type": "execute_result",
          "data": {
            "text/plain": [
              "country                                0\n",
              "iso_code                               0\n",
              "date                                   0\n",
              "total_vaccinations                     0\n",
              "people_vaccinated                      0\n",
              "people_fully_vaccinated                0\n",
              "daily_vaccinations_raw                 0\n",
              "daily_vaccinations                     0\n",
              "total_vaccinations_per_hundred         0\n",
              "people_vaccinated_per_hundred          0\n",
              "people_fully_vaccinated_per_hundred    0\n",
              "daily_vaccinations_per_million         0\n",
              "vaccines                               0\n",
              "source_name                            0\n",
              "source_website                         0\n",
              "dtype: int64"
            ]
          },
          "metadata": {
            "tags": []
          },
          "execution_count": 69
        }
      ]
    }
  ]
}