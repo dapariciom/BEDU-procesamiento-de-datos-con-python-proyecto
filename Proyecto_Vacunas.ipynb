{
  "nbformat": 4,
  "nbformat_minor": 0,
  "metadata": {
    "colab": {
      "name": "Proyecto_Spotify.ipynb",
      "provenance": []
    },
    "kernelspec": {
      "name": "python3",
      "display_name": "Python 3"
    }
  },
  "cells": [
    {
      "cell_type": "markdown",
      "metadata": {
        "id": "Pf-nqrR8fX9M"
      },
      "source": [
        "#Montar Drive"
      ]
    },
    {
      "cell_type": "code",
      "metadata": {
        "id": "UZl4PQTvzezO",
        "colab": {
          "base_uri": "https://localhost:8080/"
        },
        "outputId": "c86e68a3-5faa-4c22-c6e8-37ba524305d6"
      },
      "source": [
        "from google.colab import drive\n",
        "drive.mount('/content/drive')"
      ],
      "execution_count": 2,
      "outputs": [
        {
          "output_type": "stream",
          "text": [
            "Mounted at /content/drive\n"
          ],
          "name": "stdout"
        }
      ]
    },
    {
      "cell_type": "markdown",
      "metadata": {
        "id": "hjZDD_Qa1ZVn"
      },
      "source": [
        "# Comandos de Github"
      ]
    },
    {
      "cell_type": "markdown",
      "metadata": {
        "id": "8UXYd8zxl9pG"
      },
      "source": [
        "## Clonar el repositorio de Github a Colab"
      ]
    },
    {
      "cell_type": "markdown",
      "metadata": {
        "id": "G-_Q2VkieX9-"
      },
      "source": [
        "(Hacer solo una vez)\r\n",
        "- Conectar Colab con Google Drive\r\n",
        "- Crear una carpeta \"Proyecto\" en Google Drive \"/content/drive/MyDrive/Proyecto\"\r\n",
        "- Cambiar la ruta a la carpeta Proyecto"
      ]
    },
    {
      "cell_type": "code",
      "metadata": {
        "id": "VS6OUuSne0a5"
      },
      "source": [
        "cd '/content/drive/MyDrive/Proyecto'"
      ],
      "execution_count": null,
      "outputs": []
    },
    {
      "cell_type": "markdown",
      "metadata": {
        "id": "jtP6uXiwl0Yx"
      },
      "source": [
        "*     Clonar el repositorio en la carpeta Proyecto"
      ]
    },
    {
      "cell_type": "code",
      "metadata": {
        "id": "Uta2OTpSYxHA"
      },
      "source": [
        "!git clone https://github.com/dapariciom/BEDU-procesamiento-de-datos-con-python-proyecto.git"
      ],
      "execution_count": null,
      "outputs": []
    },
    {
      "cell_type": "markdown",
      "metadata": {
        "id": "kWZhwygrngcS"
      },
      "source": [
        "## Actualizar cambios de Github a Colab"
      ]
    },
    {
      "cell_type": "markdown",
      "metadata": {
        "id": "KcvwfwZtvd9Z"
      },
      "source": [
        "(Hacer cada vez que se requiera actualiza Colab con Github)\r\n",
        "* Cambiar la ruta del proyecto para actualizar todos los archivos\r\n",
        "\r\n",
        "\r\n"
      ]
    },
    {
      "cell_type": "code",
      "metadata": {
        "id": "Q6py93UjtM3Y",
        "colab": {
          "base_uri": "https://localhost:8080/"
        },
        "outputId": "b9c4669a-769e-4e43-eedc-6595577e3705"
      },
      "source": [
        "cd '/content/drive/MyDrive/Proyecto/BEDU-procesamiento-de-datos-con-python-proyecto'"
      ],
      "execution_count": 96,
      "outputs": [
        {
          "output_type": "stream",
          "text": [
            "/content/drive/MyDrive/Proyecto/BEDU-procesamiento-de-datos-con-python-proyecto\n"
          ],
          "name": "stdout"
        }
      ]
    },
    {
      "cell_type": "markdown",
      "metadata": {
        "id": "oN7iLLDYvlOs"
      },
      "source": [
        "* Actualizar archivos del repositorio de Github"
      ]
    },
    {
      "cell_type": "code",
      "metadata": {
        "id": "oImfVp1in5f9",
        "colab": {
          "base_uri": "https://localhost:8080/"
        },
        "outputId": "5b2e2345-0c60-4d14-f48a-1bbcf3173f4a"
      },
      "source": [
        "!git pull"
      ],
      "execution_count": 112,
      "outputs": [
        {
          "output_type": "stream",
          "text": [
            "Updating f8c717f..a6a1254\n",
            "Fast-forward\n",
            " Proyecto_Spotify.ipynb |  529 \u001b[31m--------------\u001b[m\n",
            " Proyecto_Vacunas.ipynb | 1808 \u001b[32m++++++++++++++++++++++++++++++++++++++++++++++++\u001b[m\n",
            " top10s.csv             |  604 \u001b[31m----------------\u001b[m\n",
            " 3 files changed, 1808 insertions(+), 1133 deletions(-)\n",
            " delete mode 100644 Proyecto_Spotify.ipynb\n",
            " create mode 100644 Proyecto_Vacunas.ipynb\n",
            " delete mode 100644 top10s.csv\n"
          ],
          "name": "stdout"
        }
      ]
    },
    {
      "cell_type": "markdown",
      "metadata": {
        "id": "WPASvlM5eWEt"
      },
      "source": [
        "# Proyecto Vacunación - \r\n",
        "\r\n"
      ]
    },
    {
      "cell_type": "markdown",
      "metadata": {
        "id": "fWKd8gVMAp3E"
      },
      "source": [
        "**[ T R A D U C I R ]**\r\n",
        "\r\n",
        "\r\n",
        "**COVID-19 World Vaccination Progress**\r\n",
        "\r\n",
        "**Daily and Total Vaccination for COVID-19 in the World**\r\n",
        "\r\n",
        "\r\n",
        "Basic features of the data set\r\n",
        "The data contains the following information\r\n",
        "* Country- this is the country for which the vaccination information is provided;\r\n",
        "* Country ISO Code - ISO code for the country;\r\n",
        "* Date - date for the data entry; for some of the dates we have only the daily * vaccinations, for others, only the (cumulative) total;\r\n",
        "* Total number of vaccinations - this is the absolute number of total immunizations in the country;\r\n",
        "* Total number of people vaccinated - a person, depending on the immunization scheme, will receive one or more (typically 2) vaccines; at a certain moment, the number of vaccination might be larger than the number of people;\r\n",
        "* Total number of people fully vaccinated - this is the number of people that received the entire set of immunization according to the immunization scheme (typically 2); at a certain moment in time, there might be a certain number of people that received one vaccine and another number (smaller) of people that received all vaccines in the scheme;\r\n",
        "* Daily vaccinations (raw) - for a certain data entry, the number of vaccination for that date/country;\r\n",
        "* Daily vaccinations - for a certain data entry, the number of vaccination for that date/country;\r\n",
        "* Total vaccinations per hundred - ratio (in percent) between vaccination number and total population up to the date in the country;\r\n",
        "* Total number of people vaccinated per hundred - ratio (in percent) between population immunized and total population up to the date in the country;\r\n",
        "* Total number of people fully vaccinated per hundred - ratio (in percent) between population fully immunized and total population up to the date in the country;\r\n",
        "* Daily vaccinations per million - ratio (in ppm) between vaccination number and total population for the current date in the country;\r\n",
        "* Vaccines used in the country - total number of vaccines used in the country (up to date);\r\n",
        "* Source name - source of the information (national authority, international organization, local organization etc.);\r\n",
        "* Source website - website of the source of information;"
      ]
    },
    {
      "cell_type": "markdown",
      "metadata": {
        "id": "F0f3lWwgh_3z"
      },
      "source": [
        "Instalar librerias"
      ]
    },
    {
      "cell_type": "code",
      "metadata": {
        "id": "PSr8OjcciCUj",
        "colab": {
          "base_uri": "https://localhost:8080/"
        },
        "outputId": "fc2cef95-1080-4a67-a87a-88ab8a9e8281"
      },
      "source": [
        "pip install missingpy"
      ],
      "execution_count": 4,
      "outputs": [
        {
          "output_type": "stream",
          "text": [
            "Collecting missingpy\n",
            "\u001b[?25l  Downloading https://files.pythonhosted.org/packages/b5/be/998d04d27054b58f0974b5f09f8457778a0a72d4355e0b7ae877b6cfb850/missingpy-0.2.0-py3-none-any.whl (49kB)\n",
            "\r\u001b[K     |██████▊                         | 10kB 12.5MB/s eta 0:00:01\r\u001b[K     |█████████████▍                  | 20kB 13.3MB/s eta 0:00:01\r\u001b[K     |████████████████████            | 30kB 9.3MB/s eta 0:00:01\r\u001b[K     |██████████████████████████▊     | 40kB 8.5MB/s eta 0:00:01\r\u001b[K     |████████████████████████████████| 51kB 2.3MB/s \n",
            "\u001b[?25hInstalling collected packages: missingpy\n",
            "Successfully installed missingpy-0.2.0\n"
          ],
          "name": "stdout"
        }
      ]
    },
    {
      "cell_type": "markdown",
      "metadata": {
        "id": "_DTDBIebhrd_"
      },
      "source": [
        "Importar librerias"
      ]
    },
    {
      "cell_type": "code",
      "metadata": {
        "id": "P0Vc24myJLbO",
        "colab": {
          "base_uri": "https://localhost:8080/"
        },
        "outputId": "a314069a-8022-49ae-8cdf-b50a2a25f327"
      },
      "source": [
        "import pandas as pd\r\n",
        "import matplotlib.pyplot as plt\r\n",
        "import seaborn as sns\r\n",
        "from missingpy import  KNNImputer"
      ],
      "execution_count": 5,
      "outputs": [
        {
          "output_type": "stream",
          "text": [
            "/usr/local/lib/python3.7/dist-packages/sklearn/utils/deprecation.py:144: FutureWarning: The sklearn.neighbors.base module is  deprecated in version 0.22 and will be removed in version 0.24. The corresponding classes / functions should instead be imported from sklearn.neighbors. Anything that cannot be imported from sklearn.neighbors is now part of the private API.\n",
            "  warnings.warn(message, FutureWarning)\n"
          ],
          "name": "stderr"
        }
      ]
    },
    {
      "cell_type": "markdown",
      "metadata": {
        "id": "xRdpLRIy5dOc"
      },
      "source": [
        "Lectura de datos"
      ]
    },
    {
      "cell_type": "code",
      "metadata": {
        "id": "MuQShe79UB0u"
      },
      "source": [
        "csv_file = 'country_vaccinations.csv'\r\n",
        "df = pd.read_csv(f'/content/drive/MyDrive/Proyecto/BEDU-procesamiento-de-datos-con-python-proyecto/{csv_file}', engine='python')\r\n",
        "df2 = df.copy()"
      ],
      "execution_count": 70,
      "outputs": []
    },
    {
      "cell_type": "markdown",
      "metadata": {
        "id": "XrBYfEqniueR"
      },
      "source": [
        "Explorar DataFrame"
      ]
    },
    {
      "cell_type": "code",
      "metadata": {
        "colab": {
          "base_uri": "https://localhost:8080/"
        },
        "id": "9e_Xrj66VRx2",
        "outputId": "129c5de7-7e78-4c4b-e4ef-e6346ac070bb"
      },
      "source": [
        "df.isna().sum(axis=0)"
      ],
      "execution_count": 10,
      "outputs": [
        {
          "output_type": "execute_result",
          "data": {
            "text/plain": [
              "country                                   0\n",
              "iso_code                                332\n",
              "date                                      0\n",
              "total_vaccinations                     1937\n",
              "people_vaccinated                      2331\n",
              "people_fully_vaccinated                3282\n",
              "daily_vaccinations_raw                 2476\n",
              "daily_vaccinations                      184\n",
              "total_vaccinations_per_hundred         1937\n",
              "people_vaccinated_per_hundred          2331\n",
              "people_fully_vaccinated_per_hundred    3282\n",
              "daily_vaccinations_per_million          184\n",
              "vaccines                                  0\n",
              "source_name                               6\n",
              "source_website                            0\n",
              "dtype: int64"
            ]
          },
          "metadata": {
            "tags": []
          },
          "execution_count": 10
        }
      ]
    },
    {
      "cell_type": "code",
      "metadata": {
        "colab": {
          "base_uri": "https://localhost:8080/"
        },
        "id": "lao66CKPaW0Q",
        "outputId": "c8630448-6660-422e-fa05-a7842571a03b"
      },
      "source": [
        "df.dtypes"
      ],
      "execution_count": 11,
      "outputs": [
        {
          "output_type": "execute_result",
          "data": {
            "text/plain": [
              "country                                 object\n",
              "iso_code                                object\n",
              "date                                    object\n",
              "total_vaccinations                     float64\n",
              "people_vaccinated                      float64\n",
              "people_fully_vaccinated                float64\n",
              "daily_vaccinations_raw                 float64\n",
              "daily_vaccinations                     float64\n",
              "total_vaccinations_per_hundred         float64\n",
              "people_vaccinated_per_hundred          float64\n",
              "people_fully_vaccinated_per_hundred    float64\n",
              "daily_vaccinations_per_million         float64\n",
              "vaccines                                object\n",
              "source_name                             object\n",
              "source_website                          object\n",
              "dtype: object"
            ]
          },
          "metadata": {
            "tags": []
          },
          "execution_count": 11
        }
      ]
    },
    {
      "cell_type": "code",
      "metadata": {
        "id": "97Lm0ofYjUco"
      },
      "source": [
        "columnas_int=[\"total_vaccinations\",\"people_vaccinated\",\"people_fully_vaccinated\",\"daily_vaccinations_raw\",\"daily_vaccinations\"]\r\n",
        "for columna in columnas_int:\r\n",
        "  df[columna]=pd.to_numeric(df[columna],errors='coerce',downcast='integer')"
      ],
      "execution_count": 92,
      "outputs": []
    },
    {
      "cell_type": "code",
      "metadata": {
        "id": "cp8icNVNlnkO"
      },
      "source": [
        "df[\"total_vaccinations\"]= pd.to_numeric(df[\"total_vaccinations\"],errors='coerce',downcast='integer')"
      ],
      "execution_count": 93,
      "outputs": []
    },
    {
      "cell_type": "markdown",
      "metadata": {
        "id": "OhXM2WN_bWMQ"
      },
      "source": [
        "Limpieza de datos\r\n"
      ]
    },
    {
      "cell_type": "code",
      "metadata": {
        "id": "SWn4zXJonrLk"
      },
      "source": [
        "df_vaccinations = df.drop(columns= [\"iso_code\",\"source_name\",\"source_website\"])\r\n"
      ],
      "execution_count": 95,
      "outputs": []
    },
    {
      "cell_type": "code",
      "metadata": {
        "id": "qHDzbJofnscS"
      },
      "source": [
        "df_vaccinations[\"date\"] = pd.to_datetime(df_vaccinations[\"date\"], format = '%Y-%m-%d')"
      ],
      "execution_count": null,
      "outputs": []
    },
    {
      "cell_type": "markdown",
      "metadata": {
        "id": "tm0FrF1y5ty2"
      },
      "source": [
        "Procedimiento"
      ]
    },
    {
      "cell_type": "markdown",
      "metadata": {
        "id": "zfwTUY5Kw5Dq"
      },
      "source": [
        "* ¿Cuál es el porcentaje total de personas vacunadas en el mundo?\r\n",
        "\r\n"
      ]
    },
    {
      "cell_type": "code",
      "metadata": {
        "colab": {
          "base_uri": "https://localhost:8080/"
        },
        "id": "Ku0x2aNsstg9",
        "outputId": "d396dae9-19a3-4d37-b14c-83b63ee73323"
      },
      "source": [
        "world_population = 785156800\r\n",
        "world_people_fully_vaccinated = df_vaccinations.groupby('country')['people_fully_vaccinated'].max().sum()\r\n",
        "\r\n",
        "print(f'En el mundo se han vacunado completamente {round(world_people_fully_vaccinated):,} personas lo que equivale al {round(world_people_fully_vaccinated*100/world_population, 2)} % de la población mundial')"
      ],
      "execution_count": 13,
      "outputs": [
        {
          "output_type": "stream",
          "text": [
            "En el mundo se han vacunado completamente 66,694,460 personas lo que equivale al 8.49 % de la población mundial\n"
          ],
          "name": "stdout"
        }
      ]
    },
    {
      "cell_type": "markdown",
      "metadata": {
        "id": "4gMfEak213Q_"
      },
      "source": [
        "* Cociente de personas vacunadas / personas completamente vacunadas"
      ]
    },
    {
      "cell_type": "code",
      "metadata": {
        "colab": {
          "base_uri": "https://localhost:8080/"
        },
        "id": "1Hh1qGnpzs0G",
        "outputId": "f6c205a9-dc98-4893-9863-0e6eb6b538cb"
      },
      "source": [
        "world_people_vaccinated = df_vaccinations.groupby('country')['people_vaccinated'].max().sum()\r\n",
        "ratio = round(world_people_vaccinated/world_people_fully_vaccinated, 2)\r\n",
        "print(f'El cociente de personas vacunadas / personas completamente vacunadas es {ratio}')\r\n",
        "print(f'Lo que quiere decir que por cada {ratio} personas que han recibido al menos una vacuna existe 1 persona completamente vacunada')"
      ],
      "execution_count": null,
      "outputs": [
        {
          "output_type": "stream",
          "text": [
            "El cociente de personas vacunadas / personas completamente vacunadas es 2.99\n",
            "Lo que quiere decir que por cada 2.99 personas que han recibido al menos una vacuna existe 1 persona completamente vacunada\n"
          ],
          "name": "stdout"
        }
      ]
    },
    {
      "cell_type": "markdown",
      "metadata": {
        "id": "Bm4wWaP35R7v"
      },
      "source": [
        "* Top 10 de países que presentaron la mayor vacunacion por día"
      ]
    },
    {
      "cell_type": "code",
      "metadata": {
        "colab": {
          "base_uri": "https://localhost:8080/",
          "height": 675
        },
        "id": "HK8gSlVp30Jq",
        "outputId": "9f0f4335-d524-419b-ec6b-1460b7016d04"
      },
      "source": [
        "top_10_daily_vaccinations = df_vaccinations.groupby('country')['daily_vaccinations'].max().sort_values(ascending=False).head(10)\r\n",
        "\r\n",
        "def daily_vaccinations_plot_bars(value):\r\n",
        "    fig, ax = plt.subplots(figsize=(10, 10))\r\n",
        "    ax.set_title('Países que presentaron la mayor vacunacion de personas por día')\r\n",
        "    sns.barplot(value, value.index, ax=ax)\r\n",
        "    ax.set(ylabel='Paises', xlabel='En Millones (1,000,000)')\r\n",
        "\r\n",
        "daily_vaccinations_plot_bars(top_10_daily_vaccinations)\r\n",
        "\r\n"
      ],
      "execution_count": null,
      "outputs": [
        {
          "output_type": "stream",
          "text": [
            "/usr/local/lib/python3.7/dist-packages/seaborn/_decorators.py:43: FutureWarning: Pass the following variables as keyword args: x, y. From version 0.12, the only valid positional argument will be `data`, and passing other arguments without an explicit keyword will result in an error or misinterpretation.\n",
            "  FutureWarning\n"
          ],
          "name": "stderr"
        },
        {
          "output_type": "display_data",
          "data": {
            "image/png": "[encoded data removed]",
            "text/plain": [
              "<Figure size 720x720 with 1 Axes>"
            ]
          },
          "metadata": {
            "tags": [],
            "needs_background": "light"
          }
        }
      ]
    },
    {
      "cell_type": "markdown",
      "metadata": {
        "id": "6i7_BJT7NdoM"
      },
      "source": [
        "\r\n",
        "\r\n",
        "*   ¿Cuál es la vacuna más utilizada en el mundo?\r\n",
        "\r\n"
      ]
    },
    {
      "cell_type": "code",
      "metadata": {
        "colab": {
          "base_uri": "https://localhost:8080/",
          "height": 662
        },
        "id": "NzmKCDnRQrem",
        "outputId": "139646da-5cf9-4fa5-ef64-af39309c805d"
      },
      "source": [
        "top_10_vaccines = df_vaccinations.groupby('vaccines').size().sort_values(ascending=False).head(10)\r\n",
        "\r\n",
        "def top_vaccines_plot_bars(value):\r\n",
        "    fig, ax = plt.subplots(figsize=(10, 10))\r\n",
        "    ax.set_title('Vacunas más usadas en el mundo')\r\n",
        "    sns.barplot(value, value.index, ax=ax)\r\n",
        "    ax.set(ylabel='Vacunas')\r\n",
        "\r\n",
        "top_vaccines_plot_bars(top_10_vaccines)"
      ],
      "execution_count": 19,
      "outputs": [
        {
          "output_type": "stream",
          "text": [
            "/usr/local/lib/python3.7/dist-packages/seaborn/_decorators.py:43: FutureWarning: Pass the following variables as keyword args: x, y. From version 0.12, the only valid positional argument will be `data`, and passing other arguments without an explicit keyword will result in an error or misinterpretation.\n",
            "  FutureWarning\n"
          ],
          "name": "stderr"
        },
        {
          "output_type": "display_data",
          "data": {
            "image/png": "[encoded data removed]",
            "text/plain": [
              "<Figure size 720x720 with 1 Axes>"
            ]
          },
          "metadata": {
            "tags": [],
            "needs_background": "light"
          }
        }
      ]
    },
    {
      "cell_type": "markdown",
      "metadata": {
        "id": "hQvnXTgHZrZs"
      },
      "source": [
        "PARA MÉXICO"
      ]
    },
    {
      "cell_type": "code",
      "metadata": {
        "colab": {
          "base_uri": "https://localhost:8080/",
          "height": 772
        },
        "id": "waokALFgZofb",
        "outputId": "170c4cd4-01ae-484e-da04-04864abdcc60"
      },
      "source": [
        "#FILTRAMOS DATOS DE MEXICO\r\n",
        "df_mexico = df2[df2[\"country\"] == \"Mexico\"]\r\n",
        "df_mexico"
      ],
      "execution_count": 71,
      "outputs": [
        {
          "output_type": "execute_result",
          "data": {
            "text/html": [
              "<div>\n",
              "<style scoped>\n",
              "    .dataframe tbody tr th:only-of-type {\n",
              "        vertical-align: middle;\n",
              "    }\n",
              "\n",
              "    .dataframe tbody tr th {\n",
              "        vertical-align: top;\n",
              "    }\n",
              "\n",
              "    .dataframe thead th {\n",
              "        text-align: right;\n",
              "    }\n",
              "</style>\n",
              "<table border=\"1\" class=\"dataframe\">\n",
              "  <thead>\n",
              "    <tr style=\"text-align: right;\">\n",
              "      <th></th>\n",
              "      <th>country</th>\n",
              "      <th>iso_code</th>\n",
              "      <th>date</th>\n",
              "      <th>total_vaccinations</th>\n",
              "      <th>people_vaccinated</th>\n",
              "      <th>people_fully_vaccinated</th>\n",
              "      <th>daily_vaccinations_raw</th>\n",
              "      <th>daily_vaccinations</th>\n",
              "      <th>total_vaccinations_per_hundred</th>\n",
              "      <th>people_vaccinated_per_hundred</th>\n",
              "      <th>people_fully_vaccinated_per_hundred</th>\n",
              "      <th>daily_vaccinations_per_million</th>\n",
              "      <th>vaccines</th>\n",
              "      <th>source_name</th>\n",
              "      <th>source_website</th>\n",
              "    </tr>\n",
              "  </thead>\n",
              "  <tbody>\n",
              "    <tr>\n",
              "      <th>3237</th>\n",
              "      <td>Mexico</td>\n",
              "      <td>MEX</td>\n",
              "      <td>2020-12-24</td>\n",
              "      <td>2924.0</td>\n",
              "      <td>2924.0</td>\n",
              "      <td>NaN</td>\n",
              "      <td>NaN</td>\n",
              "      <td>NaN</td>\n",
              "      <td>0.00</td>\n",
              "      <td>0.00</td>\n",
              "      <td>NaN</td>\n",
              "      <td>NaN</td>\n",
              "      <td>Oxford/AstraZeneca, Pfizer/BioNTech, Sputnik V</td>\n",
              "      <td>Secretary of Health</td>\n",
              "      <td>https://www.gob.mx/salud/prensa/098-con-esquem...</td>\n",
              "    </tr>\n",
              "    <tr>\n",
              "      <th>3238</th>\n",
              "      <td>Mexico</td>\n",
              "      <td>MEX</td>\n",
              "      <td>2020-12-25</td>\n",
              "      <td>NaN</td>\n",
              "      <td>NaN</td>\n",
              "      <td>NaN</td>\n",
              "      <td>NaN</td>\n",
              "      <td>1300.0</td>\n",
              "      <td>NaN</td>\n",
              "      <td>NaN</td>\n",
              "      <td>NaN</td>\n",
              "      <td>10.0</td>\n",
              "      <td>Oxford/AstraZeneca, Pfizer/BioNTech, Sputnik V</td>\n",
              "      <td>Secretary of Health</td>\n",
              "      <td>https://www.gob.mx/salud/prensa/098-con-esquem...</td>\n",
              "    </tr>\n",
              "    <tr>\n",
              "      <th>3239</th>\n",
              "      <td>Mexico</td>\n",
              "      <td>MEX</td>\n",
              "      <td>2020-12-26</td>\n",
              "      <td>NaN</td>\n",
              "      <td>NaN</td>\n",
              "      <td>NaN</td>\n",
              "      <td>NaN</td>\n",
              "      <td>1300.0</td>\n",
              "      <td>NaN</td>\n",
              "      <td>NaN</td>\n",
              "      <td>NaN</td>\n",
              "      <td>10.0</td>\n",
              "      <td>Oxford/AstraZeneca, Pfizer/BioNTech, Sputnik V</td>\n",
              "      <td>Secretary of Health</td>\n",
              "      <td>https://www.gob.mx/salud/prensa/098-con-esquem...</td>\n",
              "    </tr>\n",
              "    <tr>\n",
              "      <th>3240</th>\n",
              "      <td>Mexico</td>\n",
              "      <td>MEX</td>\n",
              "      <td>2020-12-27</td>\n",
              "      <td>6824.0</td>\n",
              "      <td>6824.0</td>\n",
              "      <td>NaN</td>\n",
              "      <td>NaN</td>\n",
              "      <td>1300.0</td>\n",
              "      <td>0.01</td>\n",
              "      <td>0.01</td>\n",
              "      <td>NaN</td>\n",
              "      <td>10.0</td>\n",
              "      <td>Oxford/AstraZeneca, Pfizer/BioNTech, Sputnik V</td>\n",
              "      <td>Secretary of Health</td>\n",
              "      <td>https://www.gob.mx/salud/prensa/098-con-esquem...</td>\n",
              "    </tr>\n",
              "    <tr>\n",
              "      <th>3241</th>\n",
              "      <td>Mexico</td>\n",
              "      <td>MEX</td>\n",
              "      <td>2020-12-28</td>\n",
              "      <td>9579.0</td>\n",
              "      <td>9579.0</td>\n",
              "      <td>NaN</td>\n",
              "      <td>2755.0</td>\n",
              "      <td>1664.0</td>\n",
              "      <td>0.01</td>\n",
              "      <td>0.01</td>\n",
              "      <td>NaN</td>\n",
              "      <td>13.0</td>\n",
              "      <td>Oxford/AstraZeneca, Pfizer/BioNTech, Sputnik V</td>\n",
              "      <td>Secretary of Health</td>\n",
              "      <td>https://www.gob.mx/salud/prensa/098-con-esquem...</td>\n",
              "    </tr>\n",
              "    <tr>\n",
              "      <th>...</th>\n",
              "      <td>...</td>\n",
              "      <td>...</td>\n",
              "      <td>...</td>\n",
              "      <td>...</td>\n",
              "      <td>...</td>\n",
              "      <td>...</td>\n",
              "      <td>...</td>\n",
              "      <td>...</td>\n",
              "      <td>...</td>\n",
              "      <td>...</td>\n",
              "      <td>...</td>\n",
              "      <td>...</td>\n",
              "      <td>...</td>\n",
              "      <td>...</td>\n",
              "      <td>...</td>\n",
              "    </tr>\n",
              "    <tr>\n",
              "      <th>3305</th>\n",
              "      <td>Mexico</td>\n",
              "      <td>MEX</td>\n",
              "      <td>2021-03-02</td>\n",
              "      <td>2583435.0</td>\n",
              "      <td>2012853.0</td>\n",
              "      <td>570582.0</td>\n",
              "      <td>56572.0</td>\n",
              "      <td>111754.0</td>\n",
              "      <td>2.00</td>\n",
              "      <td>1.56</td>\n",
              "      <td>0.44</td>\n",
              "      <td>867.0</td>\n",
              "      <td>Oxford/AstraZeneca, Pfizer/BioNTech, Sputnik V</td>\n",
              "      <td>Secretary of Health</td>\n",
              "      <td>https://www.gob.mx/salud/prensa/098-con-esquem...</td>\n",
              "    </tr>\n",
              "    <tr>\n",
              "      <th>3306</th>\n",
              "      <td>Mexico</td>\n",
              "      <td>MEX</td>\n",
              "      <td>2021-03-03</td>\n",
              "      <td>2633580.0</td>\n",
              "      <td>2043941.0</td>\n",
              "      <td>589639.0</td>\n",
              "      <td>50145.0</td>\n",
              "      <td>104685.0</td>\n",
              "      <td>2.04</td>\n",
              "      <td>1.59</td>\n",
              "      <td>0.46</td>\n",
              "      <td>812.0</td>\n",
              "      <td>Oxford/AstraZeneca, Pfizer/BioNTech, Sputnik V</td>\n",
              "      <td>Secretary of Health</td>\n",
              "      <td>https://www.gob.mx/salud/prensa/098-con-esquem...</td>\n",
              "    </tr>\n",
              "    <tr>\n",
              "      <th>3307</th>\n",
              "      <td>Mexico</td>\n",
              "      <td>MEX</td>\n",
              "      <td>2021-03-04</td>\n",
              "      <td>2676035.0</td>\n",
              "      <td>NaN</td>\n",
              "      <td>NaN</td>\n",
              "      <td>42455.0</td>\n",
              "      <td>83889.0</td>\n",
              "      <td>2.08</td>\n",
              "      <td>NaN</td>\n",
              "      <td>NaN</td>\n",
              "      <td>651.0</td>\n",
              "      <td>Oxford/AstraZeneca, Pfizer/BioNTech, Sputnik V</td>\n",
              "      <td>Secretary of Health</td>\n",
              "      <td>https://www.gob.mx/salud/prensa/098-con-esquem...</td>\n",
              "    </tr>\n",
              "    <tr>\n",
              "      <th>3308</th>\n",
              "      <td>Mexico</td>\n",
              "      <td>MEX</td>\n",
              "      <td>2021-03-05</td>\n",
              "      <td>2731900.0</td>\n",
              "      <td>2128766.0</td>\n",
              "      <td>603134.0</td>\n",
              "      <td>55865.0</td>\n",
              "      <td>65838.0</td>\n",
              "      <td>2.12</td>\n",
              "      <td>1.65</td>\n",
              "      <td>0.47</td>\n",
              "      <td>511.0</td>\n",
              "      <td>Oxford/AstraZeneca, Pfizer/BioNTech, Sputnik V</td>\n",
              "      <td>Secretary of Health</td>\n",
              "      <td>https://www.gob.mx/salud/prensa/098-con-esquem...</td>\n",
              "    </tr>\n",
              "    <tr>\n",
              "      <th>3309</th>\n",
              "      <td>Mexico</td>\n",
              "      <td>MEX</td>\n",
              "      <td>2021-03-06</td>\n",
              "      <td>2765805.0</td>\n",
              "      <td>2162358.0</td>\n",
              "      <td>603447.0</td>\n",
              "      <td>33905.0</td>\n",
              "      <td>54628.0</td>\n",
              "      <td>2.15</td>\n",
              "      <td>1.68</td>\n",
              "      <td>0.47</td>\n",
              "      <td>424.0</td>\n",
              "      <td>Oxford/AstraZeneca, Pfizer/BioNTech, Sputnik V</td>\n",
              "      <td>Secretary of Health</td>\n",
              "      <td>https://www.gob.mx/salud/prensa/098-con-esquem...</td>\n",
              "    </tr>\n",
              "  </tbody>\n",
              "</table>\n",
              "<p>73 rows × 15 columns</p>\n",
              "</div>"
            ],
            "text/plain": [
              "     country  ...                                     source_website\n",
              "3237  Mexico  ...  https://www.gob.mx/salud/prensa/098-con-esquem...\n",
              "3238  Mexico  ...  https://www.gob.mx/salud/prensa/098-con-esquem...\n",
              "3239  Mexico  ...  https://www.gob.mx/salud/prensa/098-con-esquem...\n",
              "3240  Mexico  ...  https://www.gob.mx/salud/prensa/098-con-esquem...\n",
              "3241  Mexico  ...  https://www.gob.mx/salud/prensa/098-con-esquem...\n",
              "...      ...  ...                                                ...\n",
              "3305  Mexico  ...  https://www.gob.mx/salud/prensa/098-con-esquem...\n",
              "3306  Mexico  ...  https://www.gob.mx/salud/prensa/098-con-esquem...\n",
              "3307  Mexico  ...  https://www.gob.mx/salud/prensa/098-con-esquem...\n",
              "3308  Mexico  ...  https://www.gob.mx/salud/prensa/098-con-esquem...\n",
              "3309  Mexico  ...  https://www.gob.mx/salud/prensa/098-con-esquem...\n",
              "\n",
              "[73 rows x 15 columns]"
            ]
          },
          "metadata": {
            "tags": []
          },
          "execution_count": 71
        }
      ]
    },
    {
      "cell_type": "code",
      "metadata": {
        "colab": {
          "base_uri": "https://localhost:8080/"
        },
        "id": "56cUQD53ci6u",
        "outputId": "41bd2180-229a-4e36-b498-40f061ba5286"
      },
      "source": [
        "df_mexico.isna().sum(axis=0)"
      ],
      "execution_count": 72,
      "outputs": [
        {
          "output_type": "execute_result",
          "data": {
            "text/plain": [
              "country                                 0\n",
              "iso_code                                0\n",
              "date                                    0\n",
              "total_vaccinations                      7\n",
              "people_vaccinated                       9\n",
              "people_fully_vaccinated                25\n",
              "daily_vaccinations_raw                 11\n",
              "daily_vaccinations                      1\n",
              "total_vaccinations_per_hundred          7\n",
              "people_vaccinated_per_hundred           9\n",
              "people_fully_vaccinated_per_hundred    25\n",
              "daily_vaccinations_per_million          1\n",
              "vaccines                                0\n",
              "source_name                             0\n",
              "source_website                          0\n",
              "dtype: int64"
            ]
          },
          "metadata": {
            "tags": []
          },
          "execution_count": 72
        }
      ]
    },
    {
      "cell_type": "markdown",
      "metadata": {
        "id": "iheXOZ9LSF6F"
      },
      "source": [
        "IMPUTACIÓN DE VARIABLES FALTANTES PARA MEXICO"
      ]
    },
    {
      "cell_type": "code",
      "metadata": {
        "colab": {
          "base_uri": "https://localhost:8080/",
          "height": 772
        },
        "id": "Utw6UwOZubTP",
        "outputId": "cac84807-781f-4b72-bdf9-fc6277ca5efc"
      },
      "source": [
        "#ELIMINAMOS FILAS QUE TENGAN MAS DE 5 NaNs\r\n",
        "df_mexico_filtraNaNs=df_mexico.dropna(subset=[\"total_vaccinations\",\"people_vaccinated\",\"people_fully_vaccinated\",\"daily_vaccinations_raw\",\"daily_vaccinations\",\"total_vaccinations_per_hundred\",\"people_vaccinated_per_hundred\",\"people_fully_vaccinated_per_hundred\",\"daily_vaccinations_per_million\"],thresh=5)\r\n",
        "df_mexico_filtraNaNs\r\n"
      ],
      "execution_count": 73,
      "outputs": [
        {
          "output_type": "execute_result",
          "data": {
            "text/html": [
              "<div>\n",
              "<style scoped>\n",
              "    .dataframe tbody tr th:only-of-type {\n",
              "        vertical-align: middle;\n",
              "    }\n",
              "\n",
              "    .dataframe tbody tr th {\n",
              "        vertical-align: top;\n",
              "    }\n",
              "\n",
              "    .dataframe thead th {\n",
              "        text-align: right;\n",
              "    }\n",
              "</style>\n",
              "<table border=\"1\" class=\"dataframe\">\n",
              "  <thead>\n",
              "    <tr style=\"text-align: right;\">\n",
              "      <th></th>\n",
              "      <th>country</th>\n",
              "      <th>iso_code</th>\n",
              "      <th>date</th>\n",
              "      <th>total_vaccinations</th>\n",
              "      <th>people_vaccinated</th>\n",
              "      <th>people_fully_vaccinated</th>\n",
              "      <th>daily_vaccinations_raw</th>\n",
              "      <th>daily_vaccinations</th>\n",
              "      <th>total_vaccinations_per_hundred</th>\n",
              "      <th>people_vaccinated_per_hundred</th>\n",
              "      <th>people_fully_vaccinated_per_hundred</th>\n",
              "      <th>daily_vaccinations_per_million</th>\n",
              "      <th>vaccines</th>\n",
              "      <th>source_name</th>\n",
              "      <th>source_website</th>\n",
              "    </tr>\n",
              "  </thead>\n",
              "  <tbody>\n",
              "    <tr>\n",
              "      <th>3240</th>\n",
              "      <td>Mexico</td>\n",
              "      <td>MEX</td>\n",
              "      <td>2020-12-27</td>\n",
              "      <td>6824.0</td>\n",
              "      <td>6824.0</td>\n",
              "      <td>NaN</td>\n",
              "      <td>NaN</td>\n",
              "      <td>1300.0</td>\n",
              "      <td>0.01</td>\n",
              "      <td>0.01</td>\n",
              "      <td>NaN</td>\n",
              "      <td>10.0</td>\n",
              "      <td>Oxford/AstraZeneca, Pfizer/BioNTech, Sputnik V</td>\n",
              "      <td>Secretary of Health</td>\n",
              "      <td>https://www.gob.mx/salud/prensa/098-con-esquem...</td>\n",
              "    </tr>\n",
              "    <tr>\n",
              "      <th>3241</th>\n",
              "      <td>Mexico</td>\n",
              "      <td>MEX</td>\n",
              "      <td>2020-12-28</td>\n",
              "      <td>9579.0</td>\n",
              "      <td>9579.0</td>\n",
              "      <td>NaN</td>\n",
              "      <td>2755.0</td>\n",
              "      <td>1664.0</td>\n",
              "      <td>0.01</td>\n",
              "      <td>0.01</td>\n",
              "      <td>NaN</td>\n",
              "      <td>13.0</td>\n",
              "      <td>Oxford/AstraZeneca, Pfizer/BioNTech, Sputnik V</td>\n",
              "      <td>Secretary of Health</td>\n",
              "      <td>https://www.gob.mx/salud/prensa/098-con-esquem...</td>\n",
              "    </tr>\n",
              "    <tr>\n",
              "      <th>3242</th>\n",
              "      <td>Mexico</td>\n",
              "      <td>MEX</td>\n",
              "      <td>2020-12-29</td>\n",
              "      <td>18529.0</td>\n",
              "      <td>18529.0</td>\n",
              "      <td>NaN</td>\n",
              "      <td>8950.0</td>\n",
              "      <td>3121.0</td>\n",
              "      <td>0.01</td>\n",
              "      <td>0.01</td>\n",
              "      <td>NaN</td>\n",
              "      <td>24.0</td>\n",
              "      <td>Oxford/AstraZeneca, Pfizer/BioNTech, Sputnik V</td>\n",
              "      <td>Secretary of Health</td>\n",
              "      <td>https://www.gob.mx/salud/prensa/098-con-esquem...</td>\n",
              "    </tr>\n",
              "    <tr>\n",
              "      <th>3243</th>\n",
              "      <td>Mexico</td>\n",
              "      <td>MEX</td>\n",
              "      <td>2020-12-30</td>\n",
              "      <td>24998.0</td>\n",
              "      <td>24998.0</td>\n",
              "      <td>NaN</td>\n",
              "      <td>6469.0</td>\n",
              "      <td>3679.0</td>\n",
              "      <td>0.02</td>\n",
              "      <td>0.02</td>\n",
              "      <td>NaN</td>\n",
              "      <td>29.0</td>\n",
              "      <td>Oxford/AstraZeneca, Pfizer/BioNTech, Sputnik V</td>\n",
              "      <td>Secretary of Health</td>\n",
              "      <td>https://www.gob.mx/salud/prensa/098-con-esquem...</td>\n",
              "    </tr>\n",
              "    <tr>\n",
              "      <th>3248</th>\n",
              "      <td>Mexico</td>\n",
              "      <td>MEX</td>\n",
              "      <td>2021-01-04</td>\n",
              "      <td>43960.0</td>\n",
              "      <td>43960.0</td>\n",
              "      <td>NaN</td>\n",
              "      <td>NaN</td>\n",
              "      <td>4912.0</td>\n",
              "      <td>0.03</td>\n",
              "      <td>0.03</td>\n",
              "      <td>NaN</td>\n",
              "      <td>38.0</td>\n",
              "      <td>Oxford/AstraZeneca, Pfizer/BioNTech, Sputnik V</td>\n",
              "      <td>Secretary of Health</td>\n",
              "      <td>https://www.gob.mx/salud/prensa/098-con-esquem...</td>\n",
              "    </tr>\n",
              "    <tr>\n",
              "      <th>...</th>\n",
              "      <td>...</td>\n",
              "      <td>...</td>\n",
              "      <td>...</td>\n",
              "      <td>...</td>\n",
              "      <td>...</td>\n",
              "      <td>...</td>\n",
              "      <td>...</td>\n",
              "      <td>...</td>\n",
              "      <td>...</td>\n",
              "      <td>...</td>\n",
              "      <td>...</td>\n",
              "      <td>...</td>\n",
              "      <td>...</td>\n",
              "      <td>...</td>\n",
              "      <td>...</td>\n",
              "    </tr>\n",
              "    <tr>\n",
              "      <th>3305</th>\n",
              "      <td>Mexico</td>\n",
              "      <td>MEX</td>\n",
              "      <td>2021-03-02</td>\n",
              "      <td>2583435.0</td>\n",
              "      <td>2012853.0</td>\n",
              "      <td>570582.0</td>\n",
              "      <td>56572.0</td>\n",
              "      <td>111754.0</td>\n",
              "      <td>2.00</td>\n",
              "      <td>1.56</td>\n",
              "      <td>0.44</td>\n",
              "      <td>867.0</td>\n",
              "      <td>Oxford/AstraZeneca, Pfizer/BioNTech, Sputnik V</td>\n",
              "      <td>Secretary of Health</td>\n",
              "      <td>https://www.gob.mx/salud/prensa/098-con-esquem...</td>\n",
              "    </tr>\n",
              "    <tr>\n",
              "      <th>3306</th>\n",
              "      <td>Mexico</td>\n",
              "      <td>MEX</td>\n",
              "      <td>2021-03-03</td>\n",
              "      <td>2633580.0</td>\n",
              "      <td>2043941.0</td>\n",
              "      <td>589639.0</td>\n",
              "      <td>50145.0</td>\n",
              "      <td>104685.0</td>\n",
              "      <td>2.04</td>\n",
              "      <td>1.59</td>\n",
              "      <td>0.46</td>\n",
              "      <td>812.0</td>\n",
              "      <td>Oxford/AstraZeneca, Pfizer/BioNTech, Sputnik V</td>\n",
              "      <td>Secretary of Health</td>\n",
              "      <td>https://www.gob.mx/salud/prensa/098-con-esquem...</td>\n",
              "    </tr>\n",
              "    <tr>\n",
              "      <th>3307</th>\n",
              "      <td>Mexico</td>\n",
              "      <td>MEX</td>\n",
              "      <td>2021-03-04</td>\n",
              "      <td>2676035.0</td>\n",
              "      <td>NaN</td>\n",
              "      <td>NaN</td>\n",
              "      <td>42455.0</td>\n",
              "      <td>83889.0</td>\n",
              "      <td>2.08</td>\n",
              "      <td>NaN</td>\n",
              "      <td>NaN</td>\n",
              "      <td>651.0</td>\n",
              "      <td>Oxford/AstraZeneca, Pfizer/BioNTech, Sputnik V</td>\n",
              "      <td>Secretary of Health</td>\n",
              "      <td>https://www.gob.mx/salud/prensa/098-con-esquem...</td>\n",
              "    </tr>\n",
              "    <tr>\n",
              "      <th>3308</th>\n",
              "      <td>Mexico</td>\n",
              "      <td>MEX</td>\n",
              "      <td>2021-03-05</td>\n",
              "      <td>2731900.0</td>\n",
              "      <td>2128766.0</td>\n",
              "      <td>603134.0</td>\n",
              "      <td>55865.0</td>\n",
              "      <td>65838.0</td>\n",
              "      <td>2.12</td>\n",
              "      <td>1.65</td>\n",
              "      <td>0.47</td>\n",
              "      <td>511.0</td>\n",
              "      <td>Oxford/AstraZeneca, Pfizer/BioNTech, Sputnik V</td>\n",
              "      <td>Secretary of Health</td>\n",
              "      <td>https://www.gob.mx/salud/prensa/098-con-esquem...</td>\n",
              "    </tr>\n",
              "    <tr>\n",
              "      <th>3309</th>\n",
              "      <td>Mexico</td>\n",
              "      <td>MEX</td>\n",
              "      <td>2021-03-06</td>\n",
              "      <td>2765805.0</td>\n",
              "      <td>2162358.0</td>\n",
              "      <td>603447.0</td>\n",
              "      <td>33905.0</td>\n",
              "      <td>54628.0</td>\n",
              "      <td>2.15</td>\n",
              "      <td>1.68</td>\n",
              "      <td>0.47</td>\n",
              "      <td>424.0</td>\n",
              "      <td>Oxford/AstraZeneca, Pfizer/BioNTech, Sputnik V</td>\n",
              "      <td>Secretary of Health</td>\n",
              "      <td>https://www.gob.mx/salud/prensa/098-con-esquem...</td>\n",
              "    </tr>\n",
              "  </tbody>\n",
              "</table>\n",
              "<p>65 rows × 15 columns</p>\n",
              "</div>"
            ],
            "text/plain": [
              "     country  ...                                     source_website\n",
              "3240  Mexico  ...  https://www.gob.mx/salud/prensa/098-con-esquem...\n",
              "3241  Mexico  ...  https://www.gob.mx/salud/prensa/098-con-esquem...\n",
              "3242  Mexico  ...  https://www.gob.mx/salud/prensa/098-con-esquem...\n",
              "3243  Mexico  ...  https://www.gob.mx/salud/prensa/098-con-esquem...\n",
              "3248  Mexico  ...  https://www.gob.mx/salud/prensa/098-con-esquem...\n",
              "...      ...  ...                                                ...\n",
              "3305  Mexico  ...  https://www.gob.mx/salud/prensa/098-con-esquem...\n",
              "3306  Mexico  ...  https://www.gob.mx/salud/prensa/098-con-esquem...\n",
              "3307  Mexico  ...  https://www.gob.mx/salud/prensa/098-con-esquem...\n",
              "3308  Mexico  ...  https://www.gob.mx/salud/prensa/098-con-esquem...\n",
              "3309  Mexico  ...  https://www.gob.mx/salud/prensa/098-con-esquem...\n",
              "\n",
              "[65 rows x 15 columns]"
            ]
          },
          "metadata": {
            "tags": []
          },
          "execution_count": 73
        }
      ]
    },
    {
      "cell_type": "code",
      "metadata": {
        "id": "qcar5wdCppF4"
      },
      "source": [
        "#SUBSET CON CAMPOS QUE CONTIENEN VALORES FALTANTES\r\n",
        "dfNA= df_mexico_filtraNaNs[[\"total_vaccinations\",\"people_vaccinated\",\"people_fully_vaccinated\",\"daily_vaccinations_raw\",\"daily_vaccinations\",\"total_vaccinations_per_hundred\",\"people_vaccinated_per_hundred\",\"people_fully_vaccinated_per_hundred\",\"daily_vaccinations_per_million\"]]"
      ],
      "execution_count": 74,
      "outputs": []
    },
    {
      "cell_type": "code",
      "metadata": {
        "colab": {
          "base_uri": "https://localhost:8080/"
        },
        "id": "GlCKKTKspNDS",
        "outputId": "05054e83-fe18-4e8f-a01a-2204e93c2ced"
      },
      "source": [
        "#CÁLCULO DE VALORES FALTANTES\r\n",
        "imp = KNNImputer(n_neighbors=4,weights=\"uniform\")\r\n",
        "X=imp.fit_transform(dfNA)"
      ],
      "execution_count": 75,
      "outputs": [
        {
          "output_type": "stream",
          "text": [
            "/usr/local/lib/python3.7/dist-packages/missingpy/pairwise_external.py:135: FutureWarning: 'warn_on_dtype' is deprecated in version 0.21 and will be removed in 0.23. Don't set `warn_on_dtype` to remove this warning.\n",
            "  warn_on_dtype=warn_on_dtype, estimator=estimator)\n",
            "/usr/local/lib/python3.7/dist-packages/missingpy/pairwise_external.py:138: FutureWarning: 'warn_on_dtype' is deprecated in version 0.21 and will be removed in 0.23. Don't set `warn_on_dtype` to remove this warning.\n",
            "  warn_on_dtype=warn_on_dtype, estimator=estimator)\n"
          ],
          "name": "stderr"
        }
      ]
    },
    {
      "cell_type": "code",
      "metadata": {
        "id": "XD7kAkBRq54J",
        "colab": {
          "base_uri": "https://localhost:8080/"
        },
        "outputId": "f3a20218-dd28-4078-970c-874cfe2f5325"
      },
      "source": [
        "#ASIGNAMOS VALORES CALCULADOS A DF \r\n",
        "df_mexico_filtraNaNs[[\"total_vaccinations\",\"people_vaccinated\",\r\n",
        "\"people_fully_vaccinated\",\"daily_vaccinations_raw\",\"daily_vaccinations\",\"total_vaccinations_per_hundred\",\"people_vaccinated_per_hundred\",\"people_fully_vaccinated_per_hundred\",\"daily_vaccinations_per_million\"]] = X"
      ],
      "execution_count": 76,
      "outputs": [
        {
          "output_type": "stream",
          "text": [
            "/usr/local/lib/python3.7/dist-packages/ipykernel_launcher.py:3: SettingWithCopyWarning: \n",
            "A value is trying to be set on a copy of a slice from a DataFrame.\n",
            "Try using .loc[row_indexer,col_indexer] = value instead\n",
            "\n",
            "See the caveats in the documentation: https://pandas.pydata.org/pandas-docs/stable/user_guide/indexing.html#returning-a-view-versus-a-copy\n",
            "  This is separate from the ipykernel package so we can avoid doing imports until\n",
            "/usr/local/lib/python3.7/dist-packages/pandas/core/indexing.py:1734: SettingWithCopyWarning: \n",
            "A value is trying to be set on a copy of a slice from a DataFrame.\n",
            "Try using .loc[row_indexer,col_indexer] = value instead\n",
            "\n",
            "See the caveats in the documentation: https://pandas.pydata.org/pandas-docs/stable/user_guide/indexing.html#returning-a-view-versus-a-copy\n",
            "  isetter(loc, value[:, i].tolist())\n"
          ],
          "name": "stderr"
        }
      ]
    },
    {
      "cell_type": "code",
      "metadata": {
        "colab": {
          "base_uri": "https://localhost:8080/",
          "height": 772
        },
        "id": "xD7pzMzvrxf4",
        "outputId": "cfd7be23-e9f9-4068-b560-6421fe1743dc"
      },
      "source": [
        "df_mexico_filtraNaNs"
      ],
      "execution_count": 77,
      "outputs": [
        {
          "output_type": "execute_result",
          "data": {
            "text/html": [
              "<div>\n",
              "<style scoped>\n",
              "    .dataframe tbody tr th:only-of-type {\n",
              "        vertical-align: middle;\n",
              "    }\n",
              "\n",
              "    .dataframe tbody tr th {\n",
              "        vertical-align: top;\n",
              "    }\n",
              "\n",
              "    .dataframe thead th {\n",
              "        text-align: right;\n",
              "    }\n",
              "</style>\n",
              "<table border=\"1\" class=\"dataframe\">\n",
              "  <thead>\n",
              "    <tr style=\"text-align: right;\">\n",
              "      <th></th>\n",
              "      <th>country</th>\n",
              "      <th>iso_code</th>\n",
              "      <th>date</th>\n",
              "      <th>total_vaccinations</th>\n",
              "      <th>people_vaccinated</th>\n",
              "      <th>people_fully_vaccinated</th>\n",
              "      <th>daily_vaccinations_raw</th>\n",
              "      <th>daily_vaccinations</th>\n",
              "      <th>total_vaccinations_per_hundred</th>\n",
              "      <th>people_vaccinated_per_hundred</th>\n",
              "      <th>people_fully_vaccinated_per_hundred</th>\n",
              "      <th>daily_vaccinations_per_million</th>\n",
              "      <th>vaccines</th>\n",
              "      <th>source_name</th>\n",
              "      <th>source_website</th>\n",
              "    </tr>\n",
              "  </thead>\n",
              "  <tbody>\n",
              "    <tr>\n",
              "      <th>3240</th>\n",
              "      <td>Mexico</td>\n",
              "      <td>MEX</td>\n",
              "      <td>2020-12-27</td>\n",
              "      <td>6824.0</td>\n",
              "      <td>6824.0</td>\n",
              "      <td>3539.75</td>\n",
              "      <td>5612.50</td>\n",
              "      <td>1300.0</td>\n",
              "      <td>0.01</td>\n",
              "      <td>0.01</td>\n",
              "      <td>0.0025</td>\n",
              "      <td>10.0</td>\n",
              "      <td>Oxford/AstraZeneca, Pfizer/BioNTech, Sputnik V</td>\n",
              "      <td>Secretary of Health</td>\n",
              "      <td>https://www.gob.mx/salud/prensa/098-con-esquem...</td>\n",
              "    </tr>\n",
              "    <tr>\n",
              "      <th>3241</th>\n",
              "      <td>Mexico</td>\n",
              "      <td>MEX</td>\n",
              "      <td>2020-12-28</td>\n",
              "      <td>9579.0</td>\n",
              "      <td>9579.0</td>\n",
              "      <td>3539.75</td>\n",
              "      <td>2755.00</td>\n",
              "      <td>1664.0</td>\n",
              "      <td>0.01</td>\n",
              "      <td>0.01</td>\n",
              "      <td>0.0025</td>\n",
              "      <td>13.0</td>\n",
              "      <td>Oxford/AstraZeneca, Pfizer/BioNTech, Sputnik V</td>\n",
              "      <td>Secretary of Health</td>\n",
              "      <td>https://www.gob.mx/salud/prensa/098-con-esquem...</td>\n",
              "    </tr>\n",
              "    <tr>\n",
              "      <th>3242</th>\n",
              "      <td>Mexico</td>\n",
              "      <td>MEX</td>\n",
              "      <td>2020-12-29</td>\n",
              "      <td>18529.0</td>\n",
              "      <td>18529.0</td>\n",
              "      <td>3539.75</td>\n",
              "      <td>8950.00</td>\n",
              "      <td>3121.0</td>\n",
              "      <td>0.01</td>\n",
              "      <td>0.01</td>\n",
              "      <td>0.0025</td>\n",
              "      <td>24.0</td>\n",
              "      <td>Oxford/AstraZeneca, Pfizer/BioNTech, Sputnik V</td>\n",
              "      <td>Secretary of Health</td>\n",
              "      <td>https://www.gob.mx/salud/prensa/098-con-esquem...</td>\n",
              "    </tr>\n",
              "    <tr>\n",
              "      <th>3243</th>\n",
              "      <td>Mexico</td>\n",
              "      <td>MEX</td>\n",
              "      <td>2020-12-30</td>\n",
              "      <td>24998.0</td>\n",
              "      <td>24998.0</td>\n",
              "      <td>3539.75</td>\n",
              "      <td>6469.00</td>\n",
              "      <td>3679.0</td>\n",
              "      <td>0.02</td>\n",
              "      <td>0.02</td>\n",
              "      <td>0.0025</td>\n",
              "      <td>29.0</td>\n",
              "      <td>Oxford/AstraZeneca, Pfizer/BioNTech, Sputnik V</td>\n",
              "      <td>Secretary of Health</td>\n",
              "      <td>https://www.gob.mx/salud/prensa/098-con-esquem...</td>\n",
              "    </tr>\n",
              "    <tr>\n",
              "      <th>3248</th>\n",
              "      <td>Mexico</td>\n",
              "      <td>MEX</td>\n",
              "      <td>2021-01-04</td>\n",
              "      <td>43960.0</td>\n",
              "      <td>43960.0</td>\n",
              "      <td>3539.75</td>\n",
              "      <td>5227.75</td>\n",
              "      <td>4912.0</td>\n",
              "      <td>0.03</td>\n",
              "      <td>0.03</td>\n",
              "      <td>0.0025</td>\n",
              "      <td>38.0</td>\n",
              "      <td>Oxford/AstraZeneca, Pfizer/BioNTech, Sputnik V</td>\n",
              "      <td>Secretary of Health</td>\n",
              "      <td>https://www.gob.mx/salud/prensa/098-con-esquem...</td>\n",
              "    </tr>\n",
              "    <tr>\n",
              "      <th>...</th>\n",
              "      <td>...</td>\n",
              "      <td>...</td>\n",
              "      <td>...</td>\n",
              "      <td>...</td>\n",
              "      <td>...</td>\n",
              "      <td>...</td>\n",
              "      <td>...</td>\n",
              "      <td>...</td>\n",
              "      <td>...</td>\n",
              "      <td>...</td>\n",
              "      <td>...</td>\n",
              "      <td>...</td>\n",
              "      <td>...</td>\n",
              "      <td>...</td>\n",
              "      <td>...</td>\n",
              "    </tr>\n",
              "    <tr>\n",
              "      <th>3305</th>\n",
              "      <td>Mexico</td>\n",
              "      <td>MEX</td>\n",
              "      <td>2021-03-02</td>\n",
              "      <td>2583435.0</td>\n",
              "      <td>2012853.0</td>\n",
              "      <td>570582.00</td>\n",
              "      <td>56572.00</td>\n",
              "      <td>111754.0</td>\n",
              "      <td>2.00</td>\n",
              "      <td>1.56</td>\n",
              "      <td>0.4400</td>\n",
              "      <td>867.0</td>\n",
              "      <td>Oxford/AstraZeneca, Pfizer/BioNTech, Sputnik V</td>\n",
              "      <td>Secretary of Health</td>\n",
              "      <td>https://www.gob.mx/salud/prensa/098-con-esquem...</td>\n",
              "    </tr>\n",
              "    <tr>\n",
              "      <th>3306</th>\n",
              "      <td>Mexico</td>\n",
              "      <td>MEX</td>\n",
              "      <td>2021-03-03</td>\n",
              "      <td>2633580.0</td>\n",
              "      <td>2043941.0</td>\n",
              "      <td>589639.00</td>\n",
              "      <td>50145.00</td>\n",
              "      <td>104685.0</td>\n",
              "      <td>2.04</td>\n",
              "      <td>1.59</td>\n",
              "      <td>0.4600</td>\n",
              "      <td>812.0</td>\n",
              "      <td>Oxford/AstraZeneca, Pfizer/BioNTech, Sputnik V</td>\n",
              "      <td>Secretary of Health</td>\n",
              "      <td>https://www.gob.mx/salud/prensa/098-con-esquem...</td>\n",
              "    </tr>\n",
              "    <tr>\n",
              "      <th>3307</th>\n",
              "      <td>Mexico</td>\n",
              "      <td>MEX</td>\n",
              "      <td>2021-03-04</td>\n",
              "      <td>2676035.0</td>\n",
              "      <td>2086979.5</td>\n",
              "      <td>591700.50</td>\n",
              "      <td>42455.00</td>\n",
              "      <td>83889.0</td>\n",
              "      <td>2.08</td>\n",
              "      <td>1.62</td>\n",
              "      <td>0.4600</td>\n",
              "      <td>651.0</td>\n",
              "      <td>Oxford/AstraZeneca, Pfizer/BioNTech, Sputnik V</td>\n",
              "      <td>Secretary of Health</td>\n",
              "      <td>https://www.gob.mx/salud/prensa/098-con-esquem...</td>\n",
              "    </tr>\n",
              "    <tr>\n",
              "      <th>3308</th>\n",
              "      <td>Mexico</td>\n",
              "      <td>MEX</td>\n",
              "      <td>2021-03-05</td>\n",
              "      <td>2731900.0</td>\n",
              "      <td>2128766.0</td>\n",
              "      <td>603134.00</td>\n",
              "      <td>55865.00</td>\n",
              "      <td>65838.0</td>\n",
              "      <td>2.12</td>\n",
              "      <td>1.65</td>\n",
              "      <td>0.4700</td>\n",
              "      <td>511.0</td>\n",
              "      <td>Oxford/AstraZeneca, Pfizer/BioNTech, Sputnik V</td>\n",
              "      <td>Secretary of Health</td>\n",
              "      <td>https://www.gob.mx/salud/prensa/098-con-esquem...</td>\n",
              "    </tr>\n",
              "    <tr>\n",
              "      <th>3309</th>\n",
              "      <td>Mexico</td>\n",
              "      <td>MEX</td>\n",
              "      <td>2021-03-06</td>\n",
              "      <td>2765805.0</td>\n",
              "      <td>2162358.0</td>\n",
              "      <td>603447.00</td>\n",
              "      <td>33905.00</td>\n",
              "      <td>54628.0</td>\n",
              "      <td>2.15</td>\n",
              "      <td>1.68</td>\n",
              "      <td>0.4700</td>\n",
              "      <td>424.0</td>\n",
              "      <td>Oxford/AstraZeneca, Pfizer/BioNTech, Sputnik V</td>\n",
              "      <td>Secretary of Health</td>\n",
              "      <td>https://www.gob.mx/salud/prensa/098-con-esquem...</td>\n",
              "    </tr>\n",
              "  </tbody>\n",
              "</table>\n",
              "<p>65 rows × 15 columns</p>\n",
              "</div>"
            ],
            "text/plain": [
              "     country  ...                                     source_website\n",
              "3240  Mexico  ...  https://www.gob.mx/salud/prensa/098-con-esquem...\n",
              "3241  Mexico  ...  https://www.gob.mx/salud/prensa/098-con-esquem...\n",
              "3242  Mexico  ...  https://www.gob.mx/salud/prensa/098-con-esquem...\n",
              "3243  Mexico  ...  https://www.gob.mx/salud/prensa/098-con-esquem...\n",
              "3248  Mexico  ...  https://www.gob.mx/salud/prensa/098-con-esquem...\n",
              "...      ...  ...                                                ...\n",
              "3305  Mexico  ...  https://www.gob.mx/salud/prensa/098-con-esquem...\n",
              "3306  Mexico  ...  https://www.gob.mx/salud/prensa/098-con-esquem...\n",
              "3307  Mexico  ...  https://www.gob.mx/salud/prensa/098-con-esquem...\n",
              "3308  Mexico  ...  https://www.gob.mx/salud/prensa/098-con-esquem...\n",
              "3309  Mexico  ...  https://www.gob.mx/salud/prensa/098-con-esquem...\n",
              "\n",
              "[65 rows x 15 columns]"
            ]
          },
          "metadata": {
            "tags": []
          },
          "execution_count": 77
        }
      ]
    },
    {
      "cell_type": "code",
      "metadata": {
        "colab": {
          "base_uri": "https://localhost:8080/"
        },
        "id": "1nAjLdBEyTrn",
        "outputId": "053f098e-7629-46d2-f05b-16846f843863"
      },
      "source": [
        "df_mexico_filtraNaNs.isna().sum(axis=0)"
      ],
      "execution_count": 78,
      "outputs": [
        {
          "output_type": "execute_result",
          "data": {
            "text/plain": [
              "country                                0\n",
              "iso_code                               0\n",
              "date                                   0\n",
              "total_vaccinations                     0\n",
              "people_vaccinated                      0\n",
              "people_fully_vaccinated                0\n",
              "daily_vaccinations_raw                 0\n",
              "daily_vaccinations                     0\n",
              "total_vaccinations_per_hundred         0\n",
              "people_vaccinated_per_hundred          0\n",
              "people_fully_vaccinated_per_hundred    0\n",
              "daily_vaccinations_per_million         0\n",
              "vaccines                               0\n",
              "source_name                            0\n",
              "source_website                         0\n",
              "dtype: int64"
            ]
          },
          "metadata": {
            "tags": []
          },
          "execution_count": 78
        }
      ]
    },
    {
      "cell_type": "code",
      "metadata": {
        "id": "TD6CWAqYfEHp"
      },
      "source": [
        "diccionario_casting={\"total_vaccinations\":int,\r\n",
        "                     \"people_vaccinated\":int,\r\n",
        "                     \"people_fully_vaccinated\":int,\r\n",
        "                     \"daily_vaccinations_raw\":int,\r\n",
        "                     \"daily_vaccinations\":int\r\n",
        "                     }\r\n",
        "df_mexico_filtraNaNs = df_mexico_filtraNaNs.astype(diccionario_casting)"
      ],
      "execution_count": 79,
      "outputs": []
    },
    {
      "cell_type": "code",
      "metadata": {
        "colab": {
          "base_uri": "https://localhost:8080/"
        },
        "id": "Xf1713GEhwcx",
        "outputId": "181dd35d-c14e-4bd2-b9e3-6b9491b07049"
      },
      "source": [
        "df_mexico_filtraNaNs.dtypes"
      ],
      "execution_count": 80,
      "outputs": [
        {
          "output_type": "execute_result",
          "data": {
            "text/plain": [
              "country                                 object\n",
              "iso_code                                object\n",
              "date                                    object\n",
              "total_vaccinations                       int64\n",
              "people_vaccinated                        int64\n",
              "people_fully_vaccinated                  int64\n",
              "daily_vaccinations_raw                   int64\n",
              "daily_vaccinations                       int64\n",
              "total_vaccinations_per_hundred         float64\n",
              "people_vaccinated_per_hundred          float64\n",
              "people_fully_vaccinated_per_hundred    float64\n",
              "daily_vaccinations_per_million         float64\n",
              "vaccines                                object\n",
              "source_name                             object\n",
              "source_website                          object\n",
              "dtype: object"
            ]
          },
          "metadata": {
            "tags": []
          },
          "execution_count": 80
        }
      ]
    },
    {
      "cell_type": "markdown",
      "metadata": {
        "id": "LdblQlpvS7sv"
      },
      "source": [
        "\r\n",
        "\r\n",
        "*   Personas vacunadas en México\r\n",
        "\r\n"
      ]
    },
    {
      "cell_type": "code",
      "metadata": {
        "colab": {
          "base_uri": "https://localhost:8080/",
          "height": 350
        },
        "id": "RG6On4TkTpHJ",
        "outputId": "7b675e98-cdad-488a-db64-5d3f47cd268e"
      },
      "source": [
        "dias = range(len(df_mexico_filtraNaNs[\"date\"]))\r\n",
        "vacunaciones = df_mexico_filtraNaNs[\"total_vaccinations\"]\r\n",
        "plt.figure(figsize=(15,5))\r\n",
        "plt.title('Vacunación en México')\r\n",
        "plt.xlabel('Días desde inicio de  vacunación ')\r\n",
        "plt.ylabel('Total')\r\n",
        "plt.grid(True)\r\n",
        "plt.plot(dias,vacunaciones,'r-')\r\n",
        "plt.show()"
      ],
      "execution_count": 81,
      "outputs": [
        {
          "output_type": "display_data",
          "data": {
            "image/png": "[encoded data removed]",
            "text/plain": [
              "<Figure size 1080x360 with 1 Axes>"
            ]
          },
          "metadata": {
            "tags": [],
            "needs_background": "light"
          }
        }
      ]
    },
    {
      "cell_type": "markdown",
      "metadata": {
        "id": "u6z2sqouboQe"
      },
      "source": [
        "\r\n",
        "\r\n",
        "*   Porcentaje de población totalmente vacunada\r\n",
        "\r\n"
      ]
    },
    {
      "cell_type": "code",
      "metadata": {
        "colab": {
          "base_uri": "https://localhost:8080/"
        },
        "id": "BG_Wwli5bnfu",
        "outputId": "571b8add-7c0c-43d0-b26f-51d849d4efba"
      },
      "source": [
        "mexico_people_fully_vaccinated_percentage = df_mexico_filtraNaNs['people_fully_vaccinated_per_hundred'].max()\r\n",
        "mexico_people_fully_vaccinated = df_mexico_filtraNaNs['people_fully_vaccinated'].max()\r\n",
        "print(f'En México se han vacunado completamente {round(mexico_people_fully_vaccinated):,} personas lo que equivale al {mexico_people_fully_vaccinated_percentage} % de la población de México')"
      ],
      "execution_count": 67,
      "outputs": [
        {
          "output_type": "stream",
          "text": [
            "En México se han vacunado completamente 603,447 personas lo que equivale al 0.47 % de la población de México\n"
          ],
          "name": "stdout"
        }
      ]
    },
    {
      "cell_type": "markdown",
      "metadata": {
        "id": "Ty1GccLpdMPJ"
      },
      "source": [
        "\r\n",
        "\r\n",
        "*   Porcentaje de población parcialmente vacunada\r\n",
        "\r\n"
      ]
    },
    {
      "cell_type": "code",
      "metadata": {
        "colab": {
          "base_uri": "https://localhost:8080/"
        },
        "id": "sPOAU3DIdMPW",
        "outputId": "1324084c-da95-4ae6-c30a-7863b5f0c65e"
      },
      "source": [
        "mexico_people_vaccinated_percentage = df_mexico_filtraNaNs['people_vaccinated_per_hundred'].max()\r\n",
        "mexico_people_vaccinated = df_mexico_filtraNaNs['people_vaccinated'].max()\r\n",
        "print(f'En México se han vacunado completamente {mexico_people_vaccinated:,} personas lo que equivale al {mexico_people_vaccinated_percentage} % de la población de México')"
      ],
      "execution_count": 68,
      "outputs": [
        {
          "output_type": "stream",
          "text": [
            "En México se han vacunado completamente 2,162,358 personas lo que equivale al 1.68 % de la población de México\n"
          ],
          "name": "stdout"
        }
      ]
    }
  ]
}